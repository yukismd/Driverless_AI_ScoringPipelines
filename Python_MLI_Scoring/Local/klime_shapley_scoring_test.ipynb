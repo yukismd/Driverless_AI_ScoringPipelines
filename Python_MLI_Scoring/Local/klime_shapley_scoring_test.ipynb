{
 "cells": [
  {
   "cell_type": "markdown",
   "metadata": {},
   "source": [
    "## K-Lime & Shapley Scoring Pipeline"
   ]
  },
  {
   "cell_type": "markdown",
   "metadata": {},
   "source": [
    "参考(MLI Python Scoringをダウンロード)：\n",
    "- scoring-pipeline/example.py : 予測値のスコアリングとShapleyのスコアリングに関するサンプルプログラム  \n",
    "- scoring-pipeline-mli/example.py : K-Limeのスコアリングに関するサンプルプログラム \n",
    "- scoring-pipeline-mli/example_shapley.py : K-LimeとShapleyの比較に関するサンプルプログラム "
   ]
  },
  {
   "cell_type": "code",
   "execution_count": 1,
   "metadata": {},
   "outputs": [],
   "source": [
    "import pandas as pd\n",
    "import numpy as np\n",
    "from numpy import nan\n",
    "from scipy.special._ufuncs import expit"
   ]
  },
  {
   "cell_type": "markdown",
   "metadata": {},
   "source": [
    "---"
   ]
  },
  {
   "cell_type": "markdown",
   "metadata": {},
   "source": [
    "### K-Lime Scoring"
   ]
  },
  {
   "cell_type": "markdown",
   "metadata": {},
   "source": [
    "`pip  install  scoring-pipeline-mli/scoring_mli_experiment_eb096b2c_4fcd_11eb_9924_0242ac110002-1.0.0-py3-none-any.whl`"
   ]
  },
  {
   "cell_type": "code",
   "execution_count": 3,
   "metadata": {},
   "outputs": [],
   "source": [
    "from scoring_mli_experiment_eb096b2c_4fcd_11eb_9924_0242ac110002 import KLimeScorer"
   ]
  },
  {
   "cell_type": "code",
   "execution_count": 33,
   "metadata": {},
   "outputs": [
    {
     "name": "stdout",
     "output_type": "stream",
     "text": [
      "models/GLM/klime_glm_cluster0-Grid_KLime_mli_eb096b2c_4fcd_11eb_9924_0242ac110002.hex_model_1609901593811_1_model_3\n",
      "models/GLM/klime_glm_cluster1-Grid_KLime_mli_eb096b2c_4fcd_11eb_9924_0242ac110002.hex_model_1609901593811_1_model_3\n",
      "models/GLM/klime_glm_cluster2-Grid_KLime_mli_eb096b2c_4fcd_11eb_9924_0242ac110002.hex_model_1609901593811_1_model_3\n",
      "models/GLM/klime_glm_cluster3-Grid_KLime_mli_eb096b2c_4fcd_11eb_9924_0242ac110002.hex_model_1609901593811_1_model_3\n",
      "models/GLM/klime_glm_cluster4-Grid_KLime_mli_eb096b2c_4fcd_11eb_9924_0242ac110002.hex_model_1609901593811_1_model_3\n",
      "models/GLM/klime_glm_cluster5-Grid_KLime_mli_eb096b2c_4fcd_11eb_9924_0242ac110002.hex_model_1609901593811_1_model_3\n",
      "models/GLM/klime_glm_cluster6-Grid_KLime_mli_eb096b2c_4fcd_11eb_9924_0242ac110002.hex_model_1609901593811_1_model_3\n",
      "models/GLM/klime_glm_cluster7-Grid_KLime_mli_eb096b2c_4fcd_11eb_9924_0242ac110002.hex_model_1609901593811_1_model_3\n",
      "models/GLM/klime_glm_cluster8-Grid_KLime_mli_eb096b2c_4fcd_11eb_9924_0242ac110002.hex_model_1609901593811_1_model_3\n",
      "models/GLM/klime_glm_cluster10-Grid_KLime_mli_eb096b2c_4fcd_11eb_9924_0242ac110002.hex_model_1609901593811_1_model_3\n",
      "models/GLM/klime_glm_cluster11-Grid_KLime_mli_eb096b2c_4fcd_11eb_9924_0242ac110002.hex_model_1609901593811_1_model_3\n",
      "models/GLM/klime_glm_cluster12-Grid_KLime_mli_eb096b2c_4fcd_11eb_9924_0242ac110002.hex_model_1609901593811_1_model_3\n",
      "models/GLM/klime_glm_cluster13-Grid_KLime_mli_eb096b2c_4fcd_11eb_9924_0242ac110002.hex_model_1609901593811_1_model_3\n",
      "models/GLM/klime_glm_cluster14-Grid_KLime_mli_eb096b2c_4fcd_11eb_9924_0242ac110002.hex_model_1609901593811_1_model_3\n"
     ]
    },
    {
     "data": {
      "text/plain": [
       "<scoring_mli_experiment_eb096b2c_4fcd_11eb_9924_0242ac110002.klime_scorer.KLimeScorer at 0x7f5224b362e8>"
      ]
     },
     "execution_count": 33,
     "metadata": {},
     "output_type": "execute_result"
    }
   ],
   "source": [
    "# KLimeScorerインスタンスの作成\n",
    "# インスタンス化は一度のみとし、複数回スコアリングする場合でもそのインスタンスから\n",
    "# スコアリングメソッド（score_reason_codes(), score_reason_codes_batch()）を複数回呼び出すことを推奨 \n",
    "mli_scorer = KLimeScorer()\n",
    "mli_scorer"
   ]
  },
  {
   "cell_type": "markdown",
   "metadata": {},
   "source": [
    "インプットデータ："
   ]
  },
  {
   "cell_type": "markdown",
   "metadata": {},
   "source": [
    "| Name | Type    |\n",
    "| ---- | ------- | \n",
    "| x3   | float64 |\n",
    "| x1   | float64 | \n",
    "| x4   | float64 |"
   ]
  },
  {
   "cell_type": "code",
   "execution_count": 34,
   "metadata": {},
   "outputs": [
    {
     "data": {
      "text/plain": [
       "['x3', 'x1', 'x4']"
      ]
     },
     "execution_count": 34,
     "metadata": {},
     "output_type": "execute_result"
    }
   ],
   "source": [
    "# カラム名の確認\n",
    "mli_scorer.get_column_names()"
   ]
  },
  {
   "cell_type": "code",
   "execution_count": 36,
   "metadata": {},
   "outputs": [
    {
     "data": {
      "text/plain": [
       "['x3', 'x1', 'x4', 'Intercept']"
      ]
     },
     "execution_count": 36,
     "metadata": {},
     "output_type": "execute_result"
    }
   ],
   "source": [
    "# 返り値名の確認\n",
    "mli_scorer.get_reason_code_column_names()"
   ]
  },
  {
   "cell_type": "markdown",
   "metadata": {},
   "source": [
    "**一行データのスコアリング**"
   ]
  },
  {
   "cell_type": "markdown",
   "metadata": {},
   "source": [
    "結果(リスト)の最後の値はIntercept"
   ]
  },
  {
   "cell_type": "code",
   "execution_count": 37,
   "metadata": {},
   "outputs": [
    {
     "data": {
      "text/plain": [
       "[-0.39610478260245907,\n",
       " -0.5276176194651054,\n",
       " 3.415107055976632,\n",
       " 1.233942981112774]"
      ]
     },
     "execution_count": 37,
     "metadata": {},
     "output_type": "execute_result"
    }
   ],
   "source": [
    "mli_scorer.score_reason_codes([\n",
    "    '-2.7997',  # x3\n",
    "    '-2.4307',  # x1\n",
    "    '-2.3697',  # x4\n",
    "])"
   ]
  },
  {
   "cell_type": "code",
   "execution_count": 38,
   "metadata": {},
   "outputs": [
    {
     "data": {
      "text/plain": [
       "[-0.0, 5.08845501846021, 2.1897282740067365, 0.5037904019017483]"
      ]
     },
     "execution_count": 38,
     "metadata": {},
     "output_type": "execute_result"
    }
   ],
   "source": [
    "mli_scorer.score_reason_codes([\n",
    "    '0',  # x3\n",
    "    '4.8',  # x1\n",
    "    '-6.3',  # x4\n",
    "])"
   ]
  },
  {
   "cell_type": "markdown",
   "metadata": {},
   "source": [
    "**データテーブルからのバッチスコアリング**"
   ]
  },
  {
   "cell_type": "code",
   "execution_count": 39,
   "metadata": {},
   "outputs": [
    {
     "name": "stdout",
     "output_type": "stream",
     "text": [
      "<class 'pandas.core.frame.DataFrame'>\n"
     ]
    },
    {
     "data": {
      "text/html": [
       "<div>\n",
       "<style scoped>\n",
       "    .dataframe tbody tr th:only-of-type {\n",
       "        vertical-align: middle;\n",
       "    }\n",
       "\n",
       "    .dataframe tbody tr th {\n",
       "        vertical-align: top;\n",
       "    }\n",
       "\n",
       "    .dataframe thead th {\n",
       "        text-align: right;\n",
       "    }\n",
       "</style>\n",
       "<table border=\"1\" class=\"dataframe\">\n",
       "  <thead>\n",
       "    <tr style=\"text-align: right;\">\n",
       "      <th></th>\n",
       "      <th>x3</th>\n",
       "      <th>x1</th>\n",
       "      <th>x4</th>\n",
       "    </tr>\n",
       "  </thead>\n",
       "  <tbody>\n",
       "    <tr>\n",
       "      <th>0</th>\n",
       "      <td>-2.7997</td>\n",
       "      <td>-2.4307</td>\n",
       "      <td>-2.3697</td>\n",
       "    </tr>\n",
       "    <tr>\n",
       "      <th>1</th>\n",
       "      <td>-2.5746</td>\n",
       "      <td>-2.9838</td>\n",
       "      <td>-3.4233</td>\n",
       "    </tr>\n",
       "    <tr>\n",
       "      <th>2</th>\n",
       "      <td>-2.6275</td>\n",
       "      <td>-2.4492</td>\n",
       "      <td>-2.4827</td>\n",
       "    </tr>\n",
       "    <tr>\n",
       "      <th>3</th>\n",
       "      <td>-2.7208</td>\n",
       "      <td>-2.4307</td>\n",
       "      <td>-3.4233</td>\n",
       "    </tr>\n",
       "    <tr>\n",
       "      <th>4</th>\n",
       "      <td>0.0000</td>\n",
       "      <td>4.8000</td>\n",
       "      <td>-6.3000</td>\n",
       "    </tr>\n",
       "  </tbody>\n",
       "</table>\n",
       "</div>"
      ],
      "text/plain": [
       "       x3      x1      x4\n",
       "0 -2.7997 -2.4307 -2.3697\n",
       "1 -2.5746 -2.9838 -3.4233\n",
       "2 -2.6275 -2.4492 -2.4827\n",
       "3 -2.7208 -2.4307 -3.4233\n",
       "4  0.0000  4.8000 -6.3000"
      ]
     },
     "execution_count": 39,
     "metadata": {},
     "output_type": "execute_result"
    }
   ],
   "source": [
    "# スコアリング用データ\n",
    "columns = [\n",
    "    pd.Series(['-2.7997', '-2.5746', '-2.6275', '-2.7208', '0'], name='x3', dtype='float64'),\n",
    "    pd.Series(['-2.4307', '-2.9838', '-2.4492', '-2.4307', '4.8'], name='x1', dtype='float64'),\n",
    "    pd.Series(['-2.3697', '-3.4233', '-2.4827', '-3.4233', '-6.3'], name='x4', dtype='float64'),\n",
    "]\n",
    "df = pd.concat(columns, axis=1)\n",
    "print(type(df))\n",
    "df"
   ]
  },
  {
   "cell_type": "code",
   "execution_count": 40,
   "metadata": {},
   "outputs": [
    {
     "data": {
      "text/html": [
       "<div>\n",
       "<style scoped>\n",
       "    .dataframe tbody tr th:only-of-type {\n",
       "        vertical-align: middle;\n",
       "    }\n",
       "\n",
       "    .dataframe tbody tr th {\n",
       "        vertical-align: top;\n",
       "    }\n",
       "\n",
       "    .dataframe thead th {\n",
       "        text-align: right;\n",
       "    }\n",
       "</style>\n",
       "<table border=\"1\" class=\"dataframe\">\n",
       "  <thead>\n",
       "    <tr style=\"text-align: right;\">\n",
       "      <th></th>\n",
       "      <th>x3</th>\n",
       "      <th>x1</th>\n",
       "      <th>x4</th>\n",
       "      <th>Intercept</th>\n",
       "    </tr>\n",
       "  </thead>\n",
       "  <tbody>\n",
       "    <tr>\n",
       "      <th>0</th>\n",
       "      <td>-0.396105</td>\n",
       "      <td>-0.527618</td>\n",
       "      <td>3.415107</td>\n",
       "      <td>1.233943</td>\n",
       "    </tr>\n",
       "    <tr>\n",
       "      <th>1</th>\n",
       "      <td>2.075710</td>\n",
       "      <td>-1.466986</td>\n",
       "      <td>0.969845</td>\n",
       "      <td>0.896459</td>\n",
       "    </tr>\n",
       "    <tr>\n",
       "      <th>2</th>\n",
       "      <td>-0.371742</td>\n",
       "      <td>-0.531633</td>\n",
       "      <td>3.577958</td>\n",
       "      <td>1.233943</td>\n",
       "    </tr>\n",
       "    <tr>\n",
       "      <th>3</th>\n",
       "      <td>2.193580</td>\n",
       "      <td>-1.195055</td>\n",
       "      <td>0.969845</td>\n",
       "      <td>0.896459</td>\n",
       "    </tr>\n",
       "    <tr>\n",
       "      <th>4</th>\n",
       "      <td>-0.000000</td>\n",
       "      <td>5.088455</td>\n",
       "      <td>2.189728</td>\n",
       "      <td>0.503790</td>\n",
       "    </tr>\n",
       "  </tbody>\n",
       "</table>\n",
       "</div>"
      ],
      "text/plain": [
       "         x3        x1        x4  Intercept\n",
       "0 -0.396105 -0.527618  3.415107   1.233943\n",
       "1  2.075710 -1.466986  0.969845   0.896459\n",
       "2 -0.371742 -0.531633  3.577958   1.233943\n",
       "3  2.193580 -1.195055  0.969845   0.896459\n",
       "4 -0.000000  5.088455  2.189728   0.503790"
      ]
     },
     "execution_count": 40,
     "metadata": {},
     "output_type": "execute_result"
    }
   ],
   "source": [
    "# K-Limeスコアリング\n",
    "mli_scorer.score_reason_codes_batch(df)"
   ]
  },
  {
   "cell_type": "markdown",
   "metadata": {},
   "source": [
    "Driverless AIとの一貫性を持たせるため、datatableの利用を推奨"
   ]
  },
  {
   "cell_type": "code",
   "execution_count": 41,
   "metadata": {},
   "outputs": [
    {
     "name": "stdout",
     "output_type": "stream",
     "text": [
      "<class 'datatable.Frame'>\n"
     ]
    },
    {
     "data": {
      "text/html": [
       "<div class='datatable'>\n",
       "  <table class='frame'>\n",
       "  <thead>\n",
       "    <tr class='colnames'><td class='row_index'></td><th>x3</th><th>x1</th><th>x4</th></tr>\n",
       "    <tr class='coltypes'><td class='row_index'></td><td class='float' title='float64'>&#x25AA;&#x25AA;&#x25AA;&#x25AA;&#x25AA;&#x25AA;&#x25AA;&#x25AA;</td><td class='float' title='float64'>&#x25AA;&#x25AA;&#x25AA;&#x25AA;&#x25AA;&#x25AA;&#x25AA;&#x25AA;</td><td class='float' title='float64'>&#x25AA;&#x25AA;&#x25AA;&#x25AA;&#x25AA;&#x25AA;&#x25AA;&#x25AA;</td></tr>\n",
       "  </thead>\n",
       "  <tbody>\n",
       "    <tr><td class='row_index'>0</td><td>&minus;2.7997</td><td>&minus;2.4307</td><td>&minus;2.3697</td></tr>\n",
       "    <tr><td class='row_index'>1</td><td>&minus;2.5746</td><td>&minus;2.9838</td><td>&minus;3.4233</td></tr>\n",
       "    <tr><td class='row_index'>2</td><td>&minus;2.6275</td><td>&minus;2.4492</td><td>&minus;2.4827</td></tr>\n",
       "    <tr><td class='row_index'>3</td><td>&minus;2.7208</td><td>&minus;2.4307</td><td>&minus;3.4233</td></tr>\n",
       "    <tr><td class='row_index'>4</td><td>0</td><td>4.8</td><td>&minus;6.3</td></tr>\n",
       "  </tbody>\n",
       "  </table>\n",
       "  <div class='footer'>\n",
       "    <div class='frame_dimensions'>5 rows &times; 3 columns</div>\n",
       "  </div>\n",
       "</div>\n"
      ],
      "text/plain": [
       "<Frame#7f52255e5fc0 5x3>"
      ]
     },
     "execution_count": 41,
     "metadata": {},
     "output_type": "execute_result"
    }
   ],
   "source": [
    "import datatable as dt\n",
    "\n",
    "# インプットデータ\n",
    "df_dt = dt.Frame(df)\n",
    "print(type(df_dt))\n",
    "df_dt"
   ]
  },
  {
   "cell_type": "code",
   "execution_count": 42,
   "metadata": {},
   "outputs": [
    {
     "name": "stdout",
     "output_type": "stream",
     "text": [
      "<class 'pandas.core.frame.DataFrame'>\n"
     ]
    },
    {
     "data": {
      "text/html": [
       "<div>\n",
       "<style scoped>\n",
       "    .dataframe tbody tr th:only-of-type {\n",
       "        vertical-align: middle;\n",
       "    }\n",
       "\n",
       "    .dataframe tbody tr th {\n",
       "        vertical-align: top;\n",
       "    }\n",
       "\n",
       "    .dataframe thead th {\n",
       "        text-align: right;\n",
       "    }\n",
       "</style>\n",
       "<table border=\"1\" class=\"dataframe\">\n",
       "  <thead>\n",
       "    <tr style=\"text-align: right;\">\n",
       "      <th></th>\n",
       "      <th>x3</th>\n",
       "      <th>x1</th>\n",
       "      <th>x4</th>\n",
       "      <th>Intercept</th>\n",
       "    </tr>\n",
       "  </thead>\n",
       "  <tbody>\n",
       "    <tr>\n",
       "      <th>0</th>\n",
       "      <td>-0.396105</td>\n",
       "      <td>-0.527618</td>\n",
       "      <td>3.415107</td>\n",
       "      <td>1.233943</td>\n",
       "    </tr>\n",
       "    <tr>\n",
       "      <th>1</th>\n",
       "      <td>2.075710</td>\n",
       "      <td>-1.466986</td>\n",
       "      <td>0.969845</td>\n",
       "      <td>0.896459</td>\n",
       "    </tr>\n",
       "    <tr>\n",
       "      <th>2</th>\n",
       "      <td>-0.371742</td>\n",
       "      <td>-0.531633</td>\n",
       "      <td>3.577958</td>\n",
       "      <td>1.233943</td>\n",
       "    </tr>\n",
       "    <tr>\n",
       "      <th>3</th>\n",
       "      <td>2.193580</td>\n",
       "      <td>-1.195055</td>\n",
       "      <td>0.969845</td>\n",
       "      <td>0.896459</td>\n",
       "    </tr>\n",
       "    <tr>\n",
       "      <th>4</th>\n",
       "      <td>-0.000000</td>\n",
       "      <td>5.088455</td>\n",
       "      <td>2.189728</td>\n",
       "      <td>0.503790</td>\n",
       "    </tr>\n",
       "  </tbody>\n",
       "</table>\n",
       "</div>"
      ],
      "text/plain": [
       "         x3        x1        x4  Intercept\n",
       "0 -0.396105 -0.527618  3.415107   1.233943\n",
       "1  2.075710 -1.466986  0.969845   0.896459\n",
       "2 -0.371742 -0.531633  3.577958   1.233943\n",
       "3  2.193580 -1.195055  0.969845   0.896459\n",
       "4 -0.000000  5.088455  2.189728   0.503790"
      ]
     },
     "execution_count": 42,
     "metadata": {},
     "output_type": "execute_result"
    }
   ],
   "source": [
    "preds_df = mli_scorer.score_reason_codes_batch(df_dt) \n",
    "print(type(preds_df))    # 結果がpandas.DataFrameとして返る\n",
    "preds_df"
   ]
  },
  {
   "cell_type": "code",
   "execution_count": 43,
   "metadata": {},
   "outputs": [
    {
     "data": {
      "text/html": [
       "<div class='datatable'>\n",
       "  <table class='frame'>\n",
       "  <thead>\n",
       "    <tr class='colnames'><td class='row_index'></td><th>x3</th><th>x1</th><th>x4</th><th>Intercept</th></tr>\n",
       "    <tr class='coltypes'><td class='row_index'></td><td class='float' title='float64'>&#x25AA;&#x25AA;&#x25AA;&#x25AA;&#x25AA;&#x25AA;&#x25AA;&#x25AA;</td><td class='float' title='float64'>&#x25AA;&#x25AA;&#x25AA;&#x25AA;&#x25AA;&#x25AA;&#x25AA;&#x25AA;</td><td class='float' title='float64'>&#x25AA;&#x25AA;&#x25AA;&#x25AA;&#x25AA;&#x25AA;&#x25AA;&#x25AA;</td><td class='float' title='float64'>&#x25AA;&#x25AA;&#x25AA;&#x25AA;&#x25AA;&#x25AA;&#x25AA;&#x25AA;</td></tr>\n",
       "  </thead>\n",
       "  <tbody>\n",
       "    <tr><td class='row_index'>0</td><td>&minus;0.396105</td><td>&minus;0.527618</td><td>3.41511</td><td>1.23394</td></tr>\n",
       "    <tr><td class='row_index'>1</td><td>2.07571</td><td>&minus;1.46699</td><td>0.969845</td><td>0.896459</td></tr>\n",
       "    <tr><td class='row_index'>2</td><td>&minus;0.371742</td><td>&minus;0.531633</td><td>3.57796</td><td>1.23394</td></tr>\n",
       "    <tr><td class='row_index'>3</td><td>2.19358</td><td>&minus;1.19505</td><td>0.969845</td><td>0.896459</td></tr>\n",
       "    <tr><td class='row_index'>4</td><td>-0</td><td>5.08846</td><td>2.18973</td><td>0.50379</td></tr>\n",
       "  </tbody>\n",
       "  </table>\n",
       "  <div class='footer'>\n",
       "    <div class='frame_dimensions'>5 rows &times; 4 columns</div>\n",
       "  </div>\n",
       "</div>\n"
      ],
      "text/plain": [
       "<Frame#7f5224b04270 5x4>"
      ]
     },
     "execution_count": 43,
     "metadata": {},
     "output_type": "execute_result"
    }
   ],
   "source": [
    "# datatable.Frameへの変更\n",
    "dt.Frame(preds_df)"
   ]
  },
  {
   "cell_type": "markdown",
   "metadata": {},
   "source": [
    "---"
   ]
  },
  {
   "cell_type": "markdown",
   "metadata": {},
   "source": [
    "### Shapley Scoring"
   ]
  },
  {
   "cell_type": "markdown",
   "metadata": {},
   "source": [
    "`pip  install  scoring-pipeline-mli/scoring_h2oai_experiment_3a80fcea_4fcb_11eb_9924_0242ac110002-1.0.0-py3-none-any.whl`"
   ]
  },
  {
   "cell_type": "code",
   "execution_count": 48,
   "metadata": {},
   "outputs": [],
   "source": [
    "from scoring_h2oai_experiment_3a80fcea_4fcb_11eb_9924_0242ac110002 import Scorer"
   ]
  },
  {
   "cell_type": "code",
   "execution_count": 50,
   "metadata": {},
   "outputs": [
    {
     "name": "stdout",
     "output_type": "stream",
     "text": [
      "2021-01-08 00:04:07,485 C:  6% D:202.9GB M:30.4GB  NODE:SERVER      2548   INFO   | Starting H2O server for recipes.  url: None, ip: None, port: 50351, name: DAI-H2O-RECIPES-1.9.0., threads: 8\n",
      "Checking whether there is an H2O instance running at http://localhost:50351 . connected.\n",
      "Warning: Your H2O cluster version is too old (7 months and 25 days)! Please download and install the latest version from http://h2o.ai/download/\n"
     ]
    },
    {
     "data": {
      "text/html": [
       "<div style=\"overflow:auto\"><table style=\"width:50%\"><tr><td>H2O_cluster_uptime:</td>\n",
       "<td>06 secs</td></tr>\n",
       "<tr><td>H2O_cluster_timezone:</td>\n",
       "<td>Etc/UTC</td></tr>\n",
       "<tr><td>H2O_data_parsing_timezone:</td>\n",
       "<td>UTC</td></tr>\n",
       "<tr><td>H2O_cluster_version:</td>\n",
       "<td>3.30.0.3</td></tr>\n",
       "<tr><td>H2O_cluster_version_age:</td>\n",
       "<td>7 months and 25 days !!!</td></tr>\n",
       "<tr><td>H2O_cluster_name:</td>\n",
       "<td>DAI-H2O-RECIPES-1.9.0.</td></tr>\n",
       "<tr><td>H2O_cluster_total_nodes:</td>\n",
       "<td>1</td></tr>\n",
       "<tr><td>H2O_cluster_free_memory:</td>\n",
       "<td>6.952 Gb</td></tr>\n",
       "<tr><td>H2O_cluster_total_cores:</td>\n",
       "<td>8</td></tr>\n",
       "<tr><td>H2O_cluster_allowed_cores:</td>\n",
       "<td>8</td></tr>\n",
       "<tr><td>H2O_cluster_status:</td>\n",
       "<td>locked, healthy</td></tr>\n",
       "<tr><td>H2O_connection_url:</td>\n",
       "<td>http://localhost:50351</td></tr>\n",
       "<tr><td>H2O_connection_proxy:</td>\n",
       "<td>{\"http\": null, \"https\": null}</td></tr>\n",
       "<tr><td>H2O_internal_security:</td>\n",
       "<td>False</td></tr>\n",
       "<tr><td>H2O_API_Extensions:</td>\n",
       "<td>Amazon S3, XGBoost, Algos, AutoML, Core V3, TargetEncoder, Core V4</td></tr>\n",
       "<tr><td>Python_version:</td>\n",
       "<td>3.6.9 final</td></tr></table></div>"
      ],
      "text/plain": [
       "--------------------------  ------------------------------------------------------------------\n",
       "H2O_cluster_uptime:         06 secs\n",
       "H2O_cluster_timezone:       Etc/UTC\n",
       "H2O_data_parsing_timezone:  UTC\n",
       "H2O_cluster_version:        3.30.0.3\n",
       "H2O_cluster_version_age:    7 months and 25 days !!!\n",
       "H2O_cluster_name:           DAI-H2O-RECIPES-1.9.0.\n",
       "H2O_cluster_total_nodes:    1\n",
       "H2O_cluster_free_memory:    6.952 Gb\n",
       "H2O_cluster_total_cores:    8\n",
       "H2O_cluster_allowed_cores:  8\n",
       "H2O_cluster_status:         locked, healthy\n",
       "H2O_connection_url:         http://localhost:50351\n",
       "H2O_connection_proxy:       {\"http\": null, \"https\": null}\n",
       "H2O_internal_security:      False\n",
       "H2O_API_Extensions:         Amazon S3, XGBoost, Algos, AutoML, Core V3, TargetEncoder, Core V4\n",
       "Python_version:             3.6.9 final\n",
       "--------------------------  ------------------------------------------------------------------"
      ]
     },
     "metadata": {},
     "output_type": "display_data"
    },
    {
     "name": "stdout",
     "output_type": "stream",
     "text": [
      "2021-01-08 00:04:08,520 C:  0% D:202.9GB M:30.4GB  NODE:SERVER      2548   INFO   | RECIPE H2O-3 server started\n",
      "2021-01-08 00:04:08,522 C:  0% D:202.9GB M:30.4GB  NODE:SERVER      2548   INFO   | Started H2O version 3.30.0.3 at http://localhost:50351\n"
     ]
    },
    {
     "data": {
      "text/plain": [
       "<scoring_h2oai_experiment_3a80fcea_4fcb_11eb_9924_0242ac110002.scorer.Scorer at 0x7f51f7fcaf60>"
      ]
     },
     "execution_count": 50,
     "metadata": {},
     "output_type": "execute_result"
    }
   ],
   "source": [
    "scorer = Scorer()\n",
    "scorer"
   ]
  },
  {
   "cell_type": "code",
   "execution_count": 58,
   "metadata": {},
   "outputs": [
    {
     "data": {
      "text/plain": [
       "('x1', 'x3', 'x4')"
      ]
     },
     "execution_count": 58,
     "metadata": {},
     "output_type": "execute_result"
    }
   ],
   "source": [
    "# カラム名の確認\n",
    "scorer.get_column_names()"
   ]
  },
  {
   "cell_type": "code",
   "execution_count": 63,
   "metadata": {},
   "outputs": [
    {
     "data": {
      "text/plain": [
       "['0_x1', '2_x3', '3_x4']"
      ]
     },
     "execution_count": 63,
     "metadata": {},
     "output_type": "execute_result"
    }
   ],
   "source": [
    "# Driverless AIの特徴量エンジニアリング後の名前\n",
    "scorer.get_transformed_column_names()"
   ]
  },
  {
   "cell_type": "code",
   "execution_count": 59,
   "metadata": {},
   "outputs": [
    {
     "data": {
      "text/html": [
       "<div>\n",
       "<style scoped>\n",
       "    .dataframe tbody tr th:only-of-type {\n",
       "        vertical-align: middle;\n",
       "    }\n",
       "\n",
       "    .dataframe tbody tr th {\n",
       "        vertical-align: top;\n",
       "    }\n",
       "\n",
       "    .dataframe thead th {\n",
       "        text-align: right;\n",
       "    }\n",
       "</style>\n",
       "<table border=\"1\" class=\"dataframe\">\n",
       "  <thead>\n",
       "    <tr style=\"text-align: right;\">\n",
       "      <th></th>\n",
       "      <th>x3</th>\n",
       "      <th>x1</th>\n",
       "      <th>x4</th>\n",
       "    </tr>\n",
       "  </thead>\n",
       "  <tbody>\n",
       "    <tr>\n",
       "      <th>0</th>\n",
       "      <td>-2.7997</td>\n",
       "      <td>-2.4307</td>\n",
       "      <td>-2.3697</td>\n",
       "    </tr>\n",
       "  </tbody>\n",
       "</table>\n",
       "</div>"
      ],
      "text/plain": [
       "        x3       x1       x4\n",
       "0  -2.7997  -2.4307  -2.3697"
      ]
     },
     "execution_count": 59,
     "metadata": {},
     "output_type": "execute_result"
    }
   ],
   "source": [
    "# スコアリング用サンプルデータ\n",
    "mli_df = pd.DataFrame(pd.np.array([['-2.7997',  '-2.4307', '-2.3697',]]), columns=mli_scorer.get_column_names())\n",
    "mli_df"
   ]
  },
  {
   "cell_type": "code",
   "execution_count": 60,
   "metadata": {},
   "outputs": [
    {
     "data": {
      "text/html": [
       "<div>\n",
       "<style scoped>\n",
       "    .dataframe tbody tr th:only-of-type {\n",
       "        vertical-align: middle;\n",
       "    }\n",
       "\n",
       "    .dataframe tbody tr th {\n",
       "        vertical-align: top;\n",
       "    }\n",
       "\n",
       "    .dataframe thead th {\n",
       "        text-align: right;\n",
       "    }\n",
       "</style>\n",
       "<table border=\"1\" class=\"dataframe\">\n",
       "  <thead>\n",
       "    <tr style=\"text-align: right;\">\n",
       "      <th></th>\n",
       "      <th>x1</th>\n",
       "      <th>x3</th>\n",
       "      <th>x4</th>\n",
       "    </tr>\n",
       "  </thead>\n",
       "  <tbody>\n",
       "    <tr>\n",
       "      <th>0</th>\n",
       "      <td>-2.4307</td>\n",
       "      <td>-2.7997</td>\n",
       "      <td>-2.3697</td>\n",
       "    </tr>\n",
       "  </tbody>\n",
       "</table>\n",
       "</div>"
      ],
      "text/plain": [
       "        x1       x3       x4\n",
       "0  -2.4307  -2.7997  -2.3697"
      ]
     },
     "execution_count": 60,
     "metadata": {},
     "output_type": "execute_result"
    }
   ],
   "source": [
    "# Python Scoring Pipeline(Scorer)用のインプットに順序を揃える\n",
    "# Make the row compatible with DAI model input\n",
    "dai_df = mli_df.reindex(scorer.get_column_names(), axis=1)\n",
    "dai_df"
   ]
  },
  {
   "cell_type": "code",
   "execution_count": 61,
   "metadata": {},
   "outputs": [
    {
     "name": "stdout",
     "output_type": "stream",
     "text": [
      "2021-01-08 00:10:41,197 C: NA  D:  NA    M:  NA    NODE:SERVER      2548   DATA   | Warning: column <<<'x1'>>> is of type str, but should be float32. Please check input data.\n",
      "2021-01-08 00:10:41,207 C: NA  D:  NA    M:  NA    NODE:SERVER      2548   DATA   | Warning: column <<<'x3'>>> is of type str, but should be float32. Please check input data.\n",
      "2021-01-08 00:10:41,212 C: NA  D:  NA    M:  NA    NODE:SERVER      2548   DATA   | Warning: column <<<'x4'>>> is of type str, but should be float32. Please check input data.\n",
      "2021-01-08 00:10:41,469 C:  1% D:202.9GB M:29.8GB  NODE:SERVER      2548   INFO   | Submitted    0 and Completed    0 non-identity feature engineering tasks out of    3 total tasks (including    3 identity)\n"
     ]
    },
    {
     "data": {
      "text/html": [
       "<div>\n",
       "<style scoped>\n",
       "    .dataframe tbody tr th:only-of-type {\n",
       "        vertical-align: middle;\n",
       "    }\n",
       "\n",
       "    .dataframe tbody tr th {\n",
       "        vertical-align: top;\n",
       "    }\n",
       "\n",
       "    .dataframe thead th {\n",
       "        text-align: right;\n",
       "    }\n",
       "</style>\n",
       "<table border=\"1\" class=\"dataframe\">\n",
       "  <thead>\n",
       "    <tr style=\"text-align: right;\">\n",
       "      <th></th>\n",
       "      <th>y</th>\n",
       "      <th>y.lower</th>\n",
       "      <th>y.upper</th>\n",
       "    </tr>\n",
       "  </thead>\n",
       "  <tbody>\n",
       "    <tr>\n",
       "      <th>0</th>\n",
       "      <td>2.633075</td>\n",
       "      <td>0.259097</td>\n",
       "      <td>5.167462</td>\n",
       "    </tr>\n",
       "  </tbody>\n",
       "</table>\n",
       "</div>"
      ],
      "text/plain": [
       "          y   y.lower   y.upper\n",
       "0  2.633075  0.259097  5.167462"
      ]
     },
     "execution_count": 61,
     "metadata": {},
     "output_type": "execute_result"
    }
   ],
   "source": [
    "# # Python Scoring Pipelineによる、予測値のスコアリング\n",
    "dai_score = scorer.score_batch(dai_df)\n",
    "dai_score"
   ]
  },
  {
   "cell_type": "code",
   "execution_count": 72,
   "metadata": {},
   "outputs": [
    {
     "name": "stdout",
     "output_type": "stream",
     "text": [
      "2021-01-08 00:15:40,135 C: NA  D:  NA    M:  NA    NODE:SERVER      2548   DATA   | Warning: column <<<'x1'>>> is of type str, but should be float32. Please check input data.\n",
      "2021-01-08 00:15:40,139 C: NA  D:  NA    M:  NA    NODE:SERVER      2548   DATA   | Warning: column <<<'x3'>>> is of type str, but should be float32. Please check input data.\n",
      "2021-01-08 00:15:40,143 C: NA  D:  NA    M:  NA    NODE:SERVER      2548   DATA   | Warning: column <<<'x4'>>> is of type str, but should be float32. Please check input data.\n",
      "2021-01-08 00:15:40,381 C:  0% D:202.9GB M:29.7GB  NODE:SERVER      2548   INFO   | Submitted    0 and Completed    0 non-identity feature engineering tasks out of    3 total tasks (including    3 identity)\n",
      "<class 'pandas.core.frame.DataFrame'>\n"
     ]
    },
    {
     "data": {
      "text/html": [
       "<div>\n",
       "<style scoped>\n",
       "    .dataframe tbody tr th:only-of-type {\n",
       "        vertical-align: middle;\n",
       "    }\n",
       "\n",
       "    .dataframe tbody tr th {\n",
       "        vertical-align: top;\n",
       "    }\n",
       "\n",
       "    .dataframe thead th {\n",
       "        text-align: right;\n",
       "    }\n",
       "</style>\n",
       "<table border=\"1\" class=\"dataframe\">\n",
       "  <thead>\n",
       "    <tr style=\"text-align: right;\">\n",
       "      <th></th>\n",
       "      <th>contrib_0_x1</th>\n",
       "      <th>contrib_2_x3</th>\n",
       "      <th>contrib_3_x4</th>\n",
       "      <th>contrib_bias</th>\n",
       "    </tr>\n",
       "  </thead>\n",
       "  <tbody>\n",
       "    <tr>\n",
       "      <th>0</th>\n",
       "      <td>-58650.125</td>\n",
       "      <td>95974.257812</td>\n",
       "      <td>72283.265625</td>\n",
       "      <td>466291.90625</td>\n",
       "    </tr>\n",
       "  </tbody>\n",
       "</table>\n",
       "</div>"
      ],
      "text/plain": [
       "   contrib_0_x1  contrib_2_x3  contrib_3_x4  contrib_bias\n",
       "0    -58650.125  95974.257812  72283.265625  466291.90625"
      ]
     },
     "execution_count": 72,
     "metadata": {},
     "output_type": "execute_result"
    }
   ],
   "source": [
    "# Shapleyの算出\n",
    "dai_reason_codes = scorer.score_batch(dai_df, pred_contribs=True)\n",
    "print(type(dai_reason_codes))    # pandas.DataFrameとして返る\n",
    "dai_reason_codes"
   ]
  },
  {
   "cell_type": "code",
   "execution_count": 76,
   "metadata": {},
   "outputs": [
    {
     "data": {
      "text/plain": [
       "575899.3"
      ]
     },
     "execution_count": 76,
     "metadata": {},
     "output_type": "execute_result"
    }
   ],
   "source": [
    "# 値の合計（contrib_0_x1 + contrib_2_x3 + contrib_3_x4 + contrib_bias）\n",
    "# Target Transformationが実施されているため、予測結果に一致しない\n",
    "dai_reason_codes.iloc[0,:].sum()"
   ]
  },
  {
   "cell_type": "markdown",
   "metadata": {},
   "source": [
    "---"
   ]
  },
  {
   "cell_type": "markdown",
   "metadata": {},
   "source": [
    "### K-LimeとShapleyの比較"
   ]
  },
  {
   "cell_type": "markdown",
   "metadata": {},
   "source": [
    "K-Limeの合計値が予測結果と大きく異なる場合、代理モデル(Surrogate Model)として上手く機能していないと判断。この場合はShapleyを利用"
   ]
  },
  {
   "cell_type": "code",
   "execution_count": 77,
   "metadata": {},
   "outputs": [
    {
     "data": {
      "text/html": [
       "<div>\n",
       "<style scoped>\n",
       "    .dataframe tbody tr th:only-of-type {\n",
       "        vertical-align: middle;\n",
       "    }\n",
       "\n",
       "    .dataframe tbody tr th {\n",
       "        vertical-align: top;\n",
       "    }\n",
       "\n",
       "    .dataframe thead th {\n",
       "        text-align: right;\n",
       "    }\n",
       "</style>\n",
       "<table border=\"1\" class=\"dataframe\">\n",
       "  <thead>\n",
       "    <tr style=\"text-align: right;\">\n",
       "      <th></th>\n",
       "      <th>x3</th>\n",
       "      <th>x1</th>\n",
       "      <th>x4</th>\n",
       "    </tr>\n",
       "  </thead>\n",
       "  <tbody>\n",
       "    <tr>\n",
       "      <th>0</th>\n",
       "      <td>-2.7997</td>\n",
       "      <td>-2.4307</td>\n",
       "      <td>-2.3697</td>\n",
       "    </tr>\n",
       "  </tbody>\n",
       "</table>\n",
       "</div>"
      ],
      "text/plain": [
       "        x3       x1       x4\n",
       "0  -2.7997  -2.4307  -2.3697"
      ]
     },
     "execution_count": 77,
     "metadata": {},
     "output_type": "execute_result"
    }
   ],
   "source": [
    "mli_df"
   ]
  },
  {
   "cell_type": "code",
   "execution_count": 78,
   "metadata": {},
   "outputs": [
    {
     "data": {
      "text/html": [
       "<div>\n",
       "<style scoped>\n",
       "    .dataframe tbody tr th:only-of-type {\n",
       "        vertical-align: middle;\n",
       "    }\n",
       "\n",
       "    .dataframe tbody tr th {\n",
       "        vertical-align: top;\n",
       "    }\n",
       "\n",
       "    .dataframe thead th {\n",
       "        text-align: right;\n",
       "    }\n",
       "</style>\n",
       "<table border=\"1\" class=\"dataframe\">\n",
       "  <thead>\n",
       "    <tr style=\"text-align: right;\">\n",
       "      <th></th>\n",
       "      <th>x3</th>\n",
       "      <th>x1</th>\n",
       "      <th>x4</th>\n",
       "      <th>Intercept</th>\n",
       "    </tr>\n",
       "  </thead>\n",
       "  <tbody>\n",
       "    <tr>\n",
       "      <th>0</th>\n",
       "      <td>-0.396105</td>\n",
       "      <td>-0.527618</td>\n",
       "      <td>3.415107</td>\n",
       "      <td>1.233943</td>\n",
       "    </tr>\n",
       "  </tbody>\n",
       "</table>\n",
       "</div>"
      ],
      "text/plain": [
       "         x3        x1        x4  Intercept\n",
       "0 -0.396105 -0.527618  3.415107   1.233943"
      ]
     },
     "execution_count": 78,
     "metadata": {},
     "output_type": "execute_result"
    }
   ],
   "source": [
    "# K-Limeの算出\n",
    "klime_reason_codes = mli_scorer.score_reason_codes_batch(mli_df)\n",
    "klime_reason_codes"
   ]
  },
  {
   "cell_type": "code",
   "execution_count": 81,
   "metadata": {},
   "outputs": [
    {
     "data": {
      "text/plain": [
       "0    3.725328\n",
       "dtype: float64"
      ]
     },
     "execution_count": 81,
     "metadata": {},
     "output_type": "execute_result"
    }
   ],
   "source": [
    "# 値の合計（上のx3+x1+x4+Intercept）\n",
    "klime_score = mli_scorer.score_reason_codes_batch(mli_df).sum(axis=1)\n",
    "klime_score"
   ]
  },
  {
   "cell_type": "code",
   "execution_count": 96,
   "metadata": {},
   "outputs": [
    {
     "name": "stdout",
     "output_type": "stream",
     "text": [
      " KLIME score vs DAI score difference is higher than threshold. Reporting Reason codes from DAI model:\n"
     ]
    },
    {
     "data": {
      "text/html": [
       "<div>\n",
       "<style scoped>\n",
       "    .dataframe tbody tr th:only-of-type {\n",
       "        vertical-align: middle;\n",
       "    }\n",
       "\n",
       "    .dataframe tbody tr th {\n",
       "        vertical-align: top;\n",
       "    }\n",
       "\n",
       "    .dataframe thead th {\n",
       "        text-align: right;\n",
       "    }\n",
       "</style>\n",
       "<table border=\"1\" class=\"dataframe\">\n",
       "  <thead>\n",
       "    <tr style=\"text-align: right;\">\n",
       "      <th></th>\n",
       "      <th>contrib_0_x1</th>\n",
       "      <th>contrib_2_x3</th>\n",
       "      <th>contrib_3_x4</th>\n",
       "      <th>contrib_bias</th>\n",
       "    </tr>\n",
       "  </thead>\n",
       "  <tbody>\n",
       "    <tr>\n",
       "      <th>0</th>\n",
       "      <td>-58650.125</td>\n",
       "      <td>95974.257812</td>\n",
       "      <td>72283.265625</td>\n",
       "      <td>466291.90625</td>\n",
       "    </tr>\n",
       "  </tbody>\n",
       "</table>\n",
       "</div>"
      ],
      "text/plain": [
       "   contrib_0_x1  contrib_2_x3  contrib_3_x4  contrib_bias\n",
       "0    -58650.125  95974.257812  72283.265625  466291.90625"
      ]
     },
     "metadata": {},
     "output_type": "display_data"
    }
   ],
   "source": [
    "THRESHOLD = 0.2  # Python Scoring Pipelienによる予測とK-Limeの差の許容\n",
    "\n",
    "if abs(dai_score.values[0][0] - klime_score.values[0]) > THRESHOLD:   # THRESHOLDより差が大きい場合\n",
    "    print(\" KLIME score vs DAI score difference is higher than threshold. Reporting Reason codes from DAI model:\")\n",
    "    display(dai_reason_codes)   # Shapley\n",
    "else:\n",
    "    print(\" KLIME score within threshold difference of DAI model. Reporting Reason codes from KLIME:\")\n",
    "    display(klime_reason_codes)   # K-Lime"
   ]
  },
  {
   "cell_type": "code",
   "execution_count": 90,
   "metadata": {},
   "outputs": [
    {
     "data": {
      "text/plain": [
       "2.6330752"
      ]
     },
     "execution_count": 90,
     "metadata": {},
     "output_type": "execute_result"
    }
   ],
   "source": [
    "dai_score.values[0][0]    # Python Scoring Pipelienによる予測"
   ]
  },
  {
   "cell_type": "code",
   "execution_count": 91,
   "metadata": {},
   "outputs": [
    {
     "data": {
      "text/plain": [
       "3.7253276350218414"
      ]
     },
     "execution_count": 91,
     "metadata": {},
     "output_type": "execute_result"
    }
   ],
   "source": [
    "klime_score.values[0]    # K-Limeの合計"
   ]
  },
  {
   "cell_type": "code",
   "execution_count": null,
   "metadata": {},
   "outputs": [],
   "source": []
  }
 ],
 "metadata": {
  "kernelspec": {
   "display_name": "Python 3",
   "language": "python",
   "name": "python3"
  },
  "language_info": {
   "codemirror_mode": {
    "name": "ipython",
    "version": 3
   },
   "file_extension": ".py",
   "mimetype": "text/x-python",
   "name": "python",
   "nbconvert_exporter": "python",
   "pygments_lexer": "ipython3",
   "version": "3.6.9"
  }
 },
 "nbformat": 4,
 "nbformat_minor": 4
}
