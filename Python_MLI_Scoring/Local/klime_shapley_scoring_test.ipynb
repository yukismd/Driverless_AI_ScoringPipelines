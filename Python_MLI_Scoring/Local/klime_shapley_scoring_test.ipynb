{
 "cells": [
  {
   "cell_type": "markdown",
   "metadata": {},
   "source": [
    "## K-Lime & Shapley Scoring Pipeline"
   ]
  },
  {
   "cell_type": "markdown",
   "metadata": {},
   "source": [
    "scoring-pipeline/example.py : 予測値のスコアリングとShapleyのスコアリングに関するサンプルプログラム  \n",
    "scoring-pipeline-mli/run_example.py : K-Limeのスコアリングに関するサンプルプログラム "
   ]
  },
  {
   "cell_type": "code",
   "execution_count": 1,
   "metadata": {},
   "outputs": [],
   "source": [
    "import pandas as pd\n",
    "import numpy as np\n",
    "from numpy import nan\n",
    "from scipy.special._ufuncs import expit"
   ]
  },
  {
   "cell_type": "markdown",
   "metadata": {},
   "source": [
    "### K-Lime Scoring"
   ]
  },
  {
   "cell_type": "code",
   "execution_count": 2,
   "metadata": {},
   "outputs": [
    {
     "data": {
      "text/html": [
       "<style type='text/css'>\n",
       ".datatable table.frame { margin-bottom: 0; }\n",
       ".datatable table.frame thead { border-bottom: none; }\n",
       ".datatable table.frame tr.coltypes td {  color: #FFFFFF;  line-height: 6px;  padding: 0 0.5em;}\n",
       ".datatable .boolean { background: #DDDD99; }\n",
       ".datatable .object  { background: #565656; }\n",
       ".datatable .integer { background: #5D9E5D; }\n",
       ".datatable .float   { background: #4040CC; }\n",
       ".datatable .string  { background: #CC4040; }\n",
       ".datatable .row_index {  background: var(--jp-border-color3);  border-right: 1px solid var(--jp-border-color0);  color: var(--jp-ui-font-color3);  font-size: 9px;}\n",
       ".datatable .frame tr.coltypes .row_index {  background: var(--jp-border-color0);}\n",
       ".datatable th:nth-child(2) { padding-left: 12px; }\n",
       ".datatable .hellipsis {  color: var(--jp-cell-editor-border-color);}\n",
       ".datatable .vellipsis {  background: var(--jp-layout-color0);  color: var(--jp-cell-editor-border-color);}\n",
       ".datatable .na {  color: var(--jp-cell-editor-border-color);  font-size: 80%;}\n",
       ".datatable .footer { font-size: 9px; }\n",
       ".datatable .frame_dimensions {  background: var(--jp-border-color3);  border-top: 1px solid var(--jp-border-color0);  color: var(--jp-ui-font-color3);  display: inline-block;  opacity: 0.6;  padding: 1px 10px 1px 5px;}\n",
       "</style>\n"
      ],
      "text/plain": [
       "<IPython.core.display.HTML object>"
      ]
     },
     "metadata": {},
     "output_type": "display_data"
    },
    {
     "name": "stdout",
     "output_type": "stream",
     "text": [
      "2021-01-06 07:30:39,906 C: NA  D:  NA    M:  NA    NODE:SERVER      29644  DEBUG  | Registered SegFault library for signals 'all'\n",
      "2021-01-06 07:30:40,403 C: NA  D:  NA    M:  NA    NODE:SERVER      29712  DEBUG  | Could not locate cudart (None) or other error: #_/home/ubuntu/model-deployment/common/hydraulic/python-scoring-pipeline/mli_1906/scoring-pipeline-mli/env/bin/python -m ipykern___uncher -f /home/ubuntu/.local/share/jupyter/runtime/kernel-c0c61627-bc97-4e53-8908-10a28c549bc4.jsonget_cuda_versions_subprocess: undefined symbol: cudaRuntimeGetVersion\n",
      "2021-01-06 07:30:40,430 C: NA  D:  NA    M:  NA    NODE:SERVER      29712  DEBUG  | Could not locate cudnn (None) or other error #_/home/ubuntu/model-deployment/common/hydraulic/python-scoring-pipeline/mli_1906/scoring-pipeline-mli/env/bin/python -m ipykern___uncher -f /home/ubuntu/.local/share/jupyter/runtime/kernel-c0c61627-bc97-4e53-8908-10a28c549bc4.jsonget_cuda_versions_subprocess: undefined symbol: cudnnGetVersion\n"
     ]
    }
   ],
   "source": [
    "from scoring_mli_experiment_eb096b2c_4fcd_11eb_9924_0242ac110002 import KLimeScorer"
   ]
  },
  {
   "cell_type": "code",
   "execution_count": 3,
   "metadata": {},
   "outputs": [
    {
     "name": "stdout",
     "output_type": "stream",
     "text": [
      "2021-01-06 07:30:43,184 C: NA  D:  NA    M:  NA    NODE:SERVER      29644  INFO   | License manager initialized\n",
      "2021-01-06 07:30:43,185 C: NA  D:  NA    M:  NA    NODE:SERVER      29644  INFO   | -----------------------------------------------------------------\n",
      "2021-01-06 07:30:43,186 C: NA  D:  NA    M:  NA    NODE:SERVER      29644  INFO   | Checking whether we have a valid license...\n",
      "2021-01-06 07:30:43,186 C: NA  D:  NA    M:  NA    NODE:SERVER      29644  INFO   | No Cloud provider found\n",
      "2021-01-06 07:30:43,187 C: NA  D:  NA    M:  NA    NODE:SERVER      29644  INFO   | License inherited from environment\n",
      "2021-01-06 07:30:43,194 C: NA  D:  NA    M:  NA    NODE:SERVER      29644  INFO   | \n",
      "2021-01-06 07:30:43,195 C: NA  D:  NA    M:  NA    NODE:SERVER      29644  INFO   | license_version:1\n",
      "2021-01-06 07:30:43,196 C: NA  D:  NA    M:  NA    NODE:SERVER      29644  INFO   | serial_number:3\n",
      "2021-01-06 07:30:43,196 C: NA  D:  NA    M:  NA    NODE:SERVER      29644  INFO   | licensee_organization:H2O.ai\n",
      "2021-01-06 07:30:43,197 C: NA  D:  NA    M:  NA    NODE:SERVER      29644  INFO   | licensee_email:tomk@h2o.ai\n",
      "2021-01-06 07:30:43,198 C: NA  D:  NA    M:  NA    NODE:SERVER      29644  INFO   | licensee_user_id:3\n",
      "2021-01-06 07:30:43,199 C: NA  D:  NA    M:  NA    NODE:SERVER      29644  INFO   | is_h2o_internal_use:true\n",
      "2021-01-06 07:30:43,199 C: NA  D:  NA    M:  NA    NODE:SERVER      29644  INFO   | created_by_email:tomk@h2o.ai\n",
      "2021-01-06 07:30:43,199 C: NA  D:  NA    M:  NA    NODE:SERVER      29644  INFO   | creation_date:2020/12/16\n",
      "2021-01-06 07:30:43,200 C: NA  D:  NA    M:  NA    NODE:SERVER      29644  INFO   | product:DriverlessAI\n",
      "2021-01-06 07:30:43,200 C: NA  D:  NA    M:  NA    NODE:SERVER      29644  INFO   | license_type:developer\n",
      "2021-01-06 07:30:43,201 C: NA  D:  NA    M:  NA    NODE:SERVER      29644  INFO   | expiration_date:2021/12/31\n",
      "2021-01-06 07:30:43,201 C: NA  D:  NA    M:  NA    NODE:SERVER      29644  INFO   | \n",
      "2021-01-06 07:30:43,203 C: NA  D:  NA    M:  NA    NODE:SERVER      29644  INFO   | License is valid\n",
      "2021-01-06 07:30:43,203 C: NA  D:  NA    M:  NA    NODE:SERVER      29644  INFO   | -----------------------------------------------------------------\n",
      "models/GLM/klime_glm_cluster0-Grid_KLime_mli_eb096b2c_4fcd_11eb_9924_0242ac110002.hex_model_1609901593811_1_model_3\n",
      "models/GLM/klime_glm_cluster1-Grid_KLime_mli_eb096b2c_4fcd_11eb_9924_0242ac110002.hex_model_1609901593811_1_model_3\n",
      "models/GLM/klime_glm_cluster2-Grid_KLime_mli_eb096b2c_4fcd_11eb_9924_0242ac110002.hex_model_1609901593811_1_model_3\n",
      "models/GLM/klime_glm_cluster3-Grid_KLime_mli_eb096b2c_4fcd_11eb_9924_0242ac110002.hex_model_1609901593811_1_model_3\n",
      "models/GLM/klime_glm_cluster4-Grid_KLime_mli_eb096b2c_4fcd_11eb_9924_0242ac110002.hex_model_1609901593811_1_model_3\n",
      "models/GLM/klime_glm_cluster5-Grid_KLime_mli_eb096b2c_4fcd_11eb_9924_0242ac110002.hex_model_1609901593811_1_model_3\n",
      "models/GLM/klime_glm_cluster6-Grid_KLime_mli_eb096b2c_4fcd_11eb_9924_0242ac110002.hex_model_1609901593811_1_model_3\n",
      "models/GLM/klime_glm_cluster7-Grid_KLime_mli_eb096b2c_4fcd_11eb_9924_0242ac110002.hex_model_1609901593811_1_model_3\n",
      "models/GLM/klime_glm_cluster8-Grid_KLime_mli_eb096b2c_4fcd_11eb_9924_0242ac110002.hex_model_1609901593811_1_model_3\n",
      "models/GLM/klime_glm_cluster10-Grid_KLime_mli_eb096b2c_4fcd_11eb_9924_0242ac110002.hex_model_1609901593811_1_model_3\n",
      "models/GLM/klime_glm_cluster11-Grid_KLime_mli_eb096b2c_4fcd_11eb_9924_0242ac110002.hex_model_1609901593811_1_model_3\n",
      "models/GLM/klime_glm_cluster12-Grid_KLime_mli_eb096b2c_4fcd_11eb_9924_0242ac110002.hex_model_1609901593811_1_model_3\n",
      "models/GLM/klime_glm_cluster13-Grid_KLime_mli_eb096b2c_4fcd_11eb_9924_0242ac110002.hex_model_1609901593811_1_model_3\n",
      "models/GLM/klime_glm_cluster14-Grid_KLime_mli_eb096b2c_4fcd_11eb_9924_0242ac110002.hex_model_1609901593811_1_model_3\n"
     ]
    }
   ],
   "source": [
    "mli_scorer = KLimeScorer()"
   ]
  },
  {
   "cell_type": "code",
   "execution_count": 4,
   "metadata": {},
   "outputs": [
    {
     "data": {
      "text/plain": [
       "[-0.39610478260245907,\n",
       " -0.5276176194651054,\n",
       " 3.415107055976632,\n",
       " 1.233942981112774]"
      ]
     },
     "execution_count": 4,
     "metadata": {},
     "output_type": "execute_result"
    }
   ],
   "source": [
    "mli_scorer.score_reason_codes([\n",
    "    '-2.7997',  # x3\n",
    "    '-2.4307',  # x1\n",
    "    '-2.3697',  # x4\n",
    "])"
   ]
  },
  {
   "cell_type": "code",
   "execution_count": 5,
   "metadata": {},
   "outputs": [
    {
     "data": {
      "text/plain": [
       "[-0.0, 5.08845501846021, 2.1897282740067365, 0.5037904019017483]"
      ]
     },
     "execution_count": 5,
     "metadata": {},
     "output_type": "execute_result"
    }
   ],
   "source": [
    "mli_scorer.score_reason_codes([\n",
    "    '0',  # x3\n",
    "    '4.8',  # x1\n",
    "    '-6.3',  # x4\n",
    "])"
   ]
  },
  {
   "cell_type": "code",
   "execution_count": 6,
   "metadata": {},
   "outputs": [
    {
     "name": "stdout",
     "output_type": "stream",
     "text": [
      "         x3        x1        x4  Intercept\n",
      "0 -0.396105 -0.527618  3.415107   1.233943\n",
      "1  2.075710 -1.466986  0.969845   0.896459\n",
      "2 -0.371742 -0.531633  3.577958   1.233943\n",
      "3  2.193580 -1.195055  0.969845   0.896459\n",
      "4 -0.349954 -0.539860  3.342617   1.233943\n"
     ]
    }
   ],
   "source": [
    "columns = [\n",
    "    pd.Series(['-2.7997', '-2.5746', '-2.6275', '-2.7208', '-2.4735'], name='x3', dtype='float64'),\n",
    "    pd.Series(['-2.4307', '-2.9838', '-2.4492', '-2.4307', '-2.4871'], name='x1', dtype='float64'),\n",
    "    pd.Series(['-2.3697', '-3.4233', '-2.4827', '-3.4233', '-2.3194'], name='x4', dtype='float64'),\n",
    "]\n",
    "df = pd.concat(columns, axis=1)\n",
    "print(mli_scorer.score_reason_codes_batch(df))"
   ]
  },
  {
   "cell_type": "code",
   "execution_count": 7,
   "metadata": {},
   "outputs": [],
   "source": [
    "import datatable as dt\n",
    "#dt.Frame(df).to_csv(\"test.csv\")          # turn above dummy frame into a CSV (for convenience)\n",
    "#test_dt = dt.fread(\"test.csv\", na_strings=['', '?', 'None', 'nan', 'NA', 'N/A', 'unknown', 'inf', '-inf', '1.7976931348623157e+308', '-1.7976931348623157e+308'])           # parse test set CSV file into datatable (with consistent NA handling)\n",
    "test_dt = dt.Frame(df)\n",
    "preds_df = mli_scorer.score_reason_codes_batch(test_dt)   # make predictions (pandas frame)\n",
    "#dt.Frame(preds_df).to_csv(\"preds.csv\")   # save pandas frame to CSV using datatable"
   ]
  },
  {
   "cell_type": "code",
   "execution_count": 8,
   "metadata": {},
   "outputs": [
    {
     "data": {
      "text/html": [
       "<div class='datatable'>\n",
       "  <table class='frame'>\n",
       "  <thead>\n",
       "    <tr class='colnames'><td class='row_index'></td><th>x3</th><th>x1</th><th>x4</th><th>Intercept</th></tr>\n",
       "    <tr class='coltypes'><td class='row_index'></td><td class='float' title='float64'>&#x25AA;&#x25AA;&#x25AA;&#x25AA;&#x25AA;&#x25AA;&#x25AA;&#x25AA;</td><td class='float' title='float64'>&#x25AA;&#x25AA;&#x25AA;&#x25AA;&#x25AA;&#x25AA;&#x25AA;&#x25AA;</td><td class='float' title='float64'>&#x25AA;&#x25AA;&#x25AA;&#x25AA;&#x25AA;&#x25AA;&#x25AA;&#x25AA;</td><td class='float' title='float64'>&#x25AA;&#x25AA;&#x25AA;&#x25AA;&#x25AA;&#x25AA;&#x25AA;&#x25AA;</td></tr>\n",
       "  </thead>\n",
       "  <tbody>\n",
       "    <tr><td class='row_index'>0</td><td>&minus;0.396105</td><td>&minus;0.527618</td><td>3.41511</td><td>1.23394</td></tr>\n",
       "    <tr><td class='row_index'>1</td><td>2.07571</td><td>&minus;1.46699</td><td>0.969845</td><td>0.896459</td></tr>\n",
       "    <tr><td class='row_index'>2</td><td>&minus;0.371742</td><td>&minus;0.531633</td><td>3.57796</td><td>1.23394</td></tr>\n",
       "    <tr><td class='row_index'>3</td><td>2.19358</td><td>&minus;1.19505</td><td>0.969845</td><td>0.896459</td></tr>\n",
       "    <tr><td class='row_index'>4</td><td>&minus;0.349954</td><td>&minus;0.53986</td><td>3.34262</td><td>1.23394</td></tr>\n",
       "  </tbody>\n",
       "  </table>\n",
       "  <div class='footer'>\n",
       "    <div class='frame_dimensions'>5 rows &times; 4 columns</div>\n",
       "  </div>\n",
       "</div>\n"
      ],
      "text/plain": [
       "<Frame#7ff70e5b1930 5x4>"
      ]
     },
     "execution_count": 8,
     "metadata": {},
     "output_type": "execute_result"
    }
   ],
   "source": [
    "dt.Frame(preds_df)"
   ]
  },
  {
   "cell_type": "code",
   "execution_count": 9,
   "metadata": {},
   "outputs": [
    {
     "data": {
      "text/plain": [
       "['-2.7997', '-2.4307', '-2.3697']"
      ]
     },
     "execution_count": 9,
     "metadata": {},
     "output_type": "execute_result"
    }
   ],
   "source": [
    "mli_scorer.quantile_bin_row([\n",
    "    '-2.7997',  # x3\n",
    "    '-2.4307',  # x1\n",
    "    '-2.3697',  # x4\n",
    "])"
   ]
  },
  {
   "cell_type": "code",
   "execution_count": null,
   "metadata": {},
   "outputs": [],
   "source": []
  },
  {
   "cell_type": "code",
   "execution_count": 10,
   "metadata": {},
   "outputs": [
    {
     "name": "stdout",
     "output_type": "stream",
     "text": [
      "/home/ubuntu/Driverless_AI_ScoringPipelines/Python_MLI_Scoring/Local\r\n"
     ]
    }
   ],
   "source": [
    "!pwd"
   ]
  },
  {
   "cell_type": "code",
   "execution_count": 12,
   "metadata": {},
   "outputs": [],
   "source": [
    "import pandas\n",
    "THRESHOLD = 0.2  # the max absolute difference between KLime model score and DAI score where DAI reason codes should be reported\n",
    "#exec(open(\"../scoring-pipeline/example.py\").read())\n",
    "#exec(open(\"example.py\").read())"
   ]
  },
  {
   "cell_type": "code",
   "execution_count": 13,
   "metadata": {},
   "outputs": [
    {
     "data": {
      "text/html": [
       "<div>\n",
       "<style scoped>\n",
       "    .dataframe tbody tr th:only-of-type {\n",
       "        vertical-align: middle;\n",
       "    }\n",
       "\n",
       "    .dataframe tbody tr th {\n",
       "        vertical-align: top;\n",
       "    }\n",
       "\n",
       "    .dataframe thead th {\n",
       "        text-align: right;\n",
       "    }\n",
       "</style>\n",
       "<table border=\"1\" class=\"dataframe\">\n",
       "  <thead>\n",
       "    <tr style=\"text-align: right;\">\n",
       "      <th></th>\n",
       "      <th>x3</th>\n",
       "      <th>x1</th>\n",
       "      <th>x4</th>\n",
       "    </tr>\n",
       "  </thead>\n",
       "  <tbody>\n",
       "    <tr>\n",
       "      <th>0</th>\n",
       "      <td>-2.7997</td>\n",
       "      <td>-2.4307</td>\n",
       "      <td>-2.3697</td>\n",
       "    </tr>\n",
       "  </tbody>\n",
       "</table>\n",
       "</div>"
      ],
      "text/plain": [
       "        x3       x1       x4\n",
       "0  -2.7997  -2.4307  -2.3697"
      ]
     },
     "execution_count": 13,
     "metadata": {},
     "output_type": "execute_result"
    }
   ],
   "source": [
    "#Example DataFrame\n",
    "mli_df = pandas.DataFrame(pandas.np.array([[\n",
    "    '-2.7997',\n",
    "    '-2.4307',\n",
    "    '-2.3697',\n",
    "]]), columns=mli_scorer.get_column_names())\n",
    "\n",
    "mli_df"
   ]
  },
  {
   "cell_type": "markdown",
   "metadata": {},
   "source": [
    "### Shapley Scoring"
   ]
  },
  {
   "cell_type": "code",
   "execution_count": 15,
   "metadata": {},
   "outputs": [
    {
     "name": "stdout",
     "output_type": "stream",
     "text": [
      "2021-01-06 07:33:12,549 C:  0% D:202.9GB M:30.5GB  NODE:SERVER      29644  INFO   | font search path ['/home/ubuntu/model-deployment/common/hydraulic/python-scoring-pipeline/mli_1906/scoring-pipeline-mli/env/lib/python3.6/site-packages/matplotlib/mpl-data/fonts/ttf', '/home/ubuntu/model-deployment/common/hydraulic/python-scoring-pipeline/mli_1906/scoring-pipeline-mli/env/lib/python3.6/site-packages/matplotlib/mpl-data/fonts/afm', '/home/ubuntu/model-deployment/common/hydraulic/python-scoring-pipeline/mli_1906/scoring-pipeline-mli/env/lib/python3.6/site-packages/matplotlib/mpl-data/fonts/pdfcorefonts']\n",
      "2021-01-06 07:33:12,770 C:  0% D:202.9GB M:30.5GB  NODE:SERVER      29644  INFO   | generated new fontManager\n"
     ]
    }
   ],
   "source": [
    "from scoring_h2oai_experiment_3a80fcea_4fcb_11eb_9924_0242ac110002 import Scorer"
   ]
  },
  {
   "cell_type": "code",
   "execution_count": 17,
   "metadata": {},
   "outputs": [
    {
     "name": "stdout",
     "output_type": "stream",
     "text": [
      "2021-01-06 07:33:27,675 C: NA  D:  NA    M:  NA    NODE:SERVER      29644  INFO   | Creating custom transformers directory.\n",
      "2021-01-06 07:33:27,681 C: NA  D:  NA    M:  NA    NODE:SERVER      29644  INFO   | Creating custom models directory.\n",
      "2021-01-06 07:33:27,716 C: NA  D:  NA    M:  NA    NODE:SERVER      29644  INFO   | Creating custom scorers directory.\n",
      "2021-01-06 07:33:27,719 C: NA  D:  NA    M:  NA    NODE:SERVER      29644  INFO   | Creating custom data directory.\n",
      "2021-01-06 07:33:27,732 C:  1% D:202.9GB M:30.5GB  NODE:SERVER      29644  INFO   | Starting H2O server for recipes.  url: None, ip: None, port: 50351, name: DAI-H2O-RECIPES-1.9.0., threads: 8\n",
      "Checking whether there is an H2O instance running at http://localhost:50351 ..... not found.\n",
      "Attempting to start a local H2O server...\n",
      "  Java Version: openjdk version \"1.8.0_275\"; OpenJDK Runtime Environment (build 1.8.0_275-8u275-b01-0ubuntu1~18.04-b01); OpenJDK 64-Bit Server VM (build 25.275-b01, mixed mode)\n",
      "  Starting server from /home/ubuntu/model-deployment/common/hydraulic/python-scoring-pipeline/mli_1906/scoring-pipeline-mli/env/lib/python3.6/site-packages/h2o/backend/bin/h2o.jar\n",
      "  Ice root: /home/ubuntu/Driverless_AI_ScoringPipelines/Python_MLI_Scoring/Local/tmp/contrib/h2o_tmp\n",
      "  JVM stdout: /tmp/tmpvdr21dlb/h2o_ubuntu_started_from_python.out\n",
      "  JVM stderr: /tmp/tmpvdr21dlb/h2o_ubuntu_started_from_python.err\n",
      "  Server is running at http://127.0.0.1:50351\n",
      "Connecting to H2O server at http://127.0.0.1:50351 ... successful.\n",
      "Warning: Your H2O cluster version is too old (7 months and 23 days)! Please download and install the latest version from http://h2o.ai/download/\n"
     ]
    },
    {
     "data": {
      "text/html": [
       "<div style=\"overflow:auto\"><table style=\"width:50%\"><tr><td>H2O_cluster_uptime:</td>\n",
       "<td>01 secs</td></tr>\n",
       "<tr><td>H2O_cluster_timezone:</td>\n",
       "<td>Etc/UTC</td></tr>\n",
       "<tr><td>H2O_data_parsing_timezone:</td>\n",
       "<td>UTC</td></tr>\n",
       "<tr><td>H2O_cluster_version:</td>\n",
       "<td>3.30.0.3</td></tr>\n",
       "<tr><td>H2O_cluster_version_age:</td>\n",
       "<td>7 months and 23 days !!!</td></tr>\n",
       "<tr><td>H2O_cluster_name:</td>\n",
       "<td>DAI-H2O-RECIPES-1.9.0.</td></tr>\n",
       "<tr><td>H2O_cluster_total_nodes:</td>\n",
       "<td>1</td></tr>\n",
       "<tr><td>H2O_cluster_free_memory:</td>\n",
       "<td>6.971 Gb</td></tr>\n",
       "<tr><td>H2O_cluster_total_cores:</td>\n",
       "<td>8</td></tr>\n",
       "<tr><td>H2O_cluster_allowed_cores:</td>\n",
       "<td>8</td></tr>\n",
       "<tr><td>H2O_cluster_status:</td>\n",
       "<td>accepting new members, healthy</td></tr>\n",
       "<tr><td>H2O_connection_url:</td>\n",
       "<td>http://127.0.0.1:50351</td></tr>\n",
       "<tr><td>H2O_connection_proxy:</td>\n",
       "<td>{\"http\": null, \"https\": null}</td></tr>\n",
       "<tr><td>H2O_internal_security:</td>\n",
       "<td>False</td></tr>\n",
       "<tr><td>H2O_API_Extensions:</td>\n",
       "<td>Amazon S3, XGBoost, Algos, AutoML, Core V3, TargetEncoder, Core V4</td></tr>\n",
       "<tr><td>Python_version:</td>\n",
       "<td>3.6.9 final</td></tr></table></div>"
      ],
      "text/plain": [
       "--------------------------  ------------------------------------------------------------------\n",
       "H2O_cluster_uptime:         01 secs\n",
       "H2O_cluster_timezone:       Etc/UTC\n",
       "H2O_data_parsing_timezone:  UTC\n",
       "H2O_cluster_version:        3.30.0.3\n",
       "H2O_cluster_version_age:    7 months and 23 days !!!\n",
       "H2O_cluster_name:           DAI-H2O-RECIPES-1.9.0.\n",
       "H2O_cluster_total_nodes:    1\n",
       "H2O_cluster_free_memory:    6.971 Gb\n",
       "H2O_cluster_total_cores:    8\n",
       "H2O_cluster_allowed_cores:  8\n",
       "H2O_cluster_status:         accepting new members, healthy\n",
       "H2O_connection_url:         http://127.0.0.1:50351\n",
       "H2O_connection_proxy:       {\"http\": null, \"https\": null}\n",
       "H2O_internal_security:      False\n",
       "H2O_API_Extensions:         Amazon S3, XGBoost, Algos, AutoML, Core V3, TargetEncoder, Core V4\n",
       "Python_version:             3.6.9 final\n",
       "--------------------------  ------------------------------------------------------------------"
      ]
     },
     "metadata": {},
     "output_type": "display_data"
    },
    {
     "name": "stdout",
     "output_type": "stream",
     "text": [
      "2021-01-06 07:33:32,318 C: 14% D:202.9GB M:30.3GB  NODE:SERVER      29644  INFO   | RECIPE H2O-3 server started\n",
      "2021-01-06 07:33:32,320 C: 14% D:202.9GB M:30.3GB  NODE:SERVER      29644  INFO   | Started H2O version 3.30.0.3 at http://127.0.0.1:50351\n"
     ]
    }
   ],
   "source": [
    "scorer = Scorer()"
   ]
  },
  {
   "cell_type": "code",
   "execution_count": 29,
   "metadata": {},
   "outputs": [
    {
     "data": {
      "text/plain": [
       "<scoring_h2oai_experiment_3a80fcea_4fcb_11eb_9924_0242ac110002.scorer.Scorer at 0x7ff6844269e8>"
      ]
     },
     "execution_count": 29,
     "metadata": {},
     "output_type": "execute_result"
    }
   ],
   "source": [
    "scorer"
   ]
  },
  {
   "cell_type": "code",
   "execution_count": 18,
   "metadata": {},
   "outputs": [
    {
     "data": {
      "text/html": [
       "<div>\n",
       "<style scoped>\n",
       "    .dataframe tbody tr th:only-of-type {\n",
       "        vertical-align: middle;\n",
       "    }\n",
       "\n",
       "    .dataframe tbody tr th {\n",
       "        vertical-align: top;\n",
       "    }\n",
       "\n",
       "    .dataframe thead th {\n",
       "        text-align: right;\n",
       "    }\n",
       "</style>\n",
       "<table border=\"1\" class=\"dataframe\">\n",
       "  <thead>\n",
       "    <tr style=\"text-align: right;\">\n",
       "      <th></th>\n",
       "      <th>x1</th>\n",
       "      <th>x3</th>\n",
       "      <th>x4</th>\n",
       "    </tr>\n",
       "  </thead>\n",
       "  <tbody>\n",
       "    <tr>\n",
       "      <th>0</th>\n",
       "      <td>-2.4307</td>\n",
       "      <td>-2.7997</td>\n",
       "      <td>-2.3697</td>\n",
       "    </tr>\n",
       "  </tbody>\n",
       "</table>\n",
       "</div>"
      ],
      "text/plain": [
       "        x1       x3       x4\n",
       "0  -2.4307  -2.7997  -2.3697"
      ]
     },
     "execution_count": 18,
     "metadata": {},
     "output_type": "execute_result"
    }
   ],
   "source": [
    "# Make the row compatible with DAI model input\n",
    "dai_df = mli_df.reindex(scorer.get_column_names(), axis=1)\n",
    "dai_df"
   ]
  },
  {
   "cell_type": "code",
   "execution_count": 19,
   "metadata": {},
   "outputs": [
    {
     "name": "stdout",
     "output_type": "stream",
     "text": [
      "2021-01-06 07:33:36,040 C: NA  D:  NA    M:  NA    NODE:SERVER      29644  DATA   | Warning: column <<<'x1'>>> is of type str, but should be float32. Please check input data.\n",
      "2021-01-06 07:33:36,046 C: NA  D:  NA    M:  NA    NODE:SERVER      29644  DATA   | Warning: column <<<'x3'>>> is of type str, but should be float32. Please check input data.\n",
      "2021-01-06 07:33:36,050 C: NA  D:  NA    M:  NA    NODE:SERVER      29644  DATA   | Warning: column <<<'x4'>>> is of type str, but should be float32. Please check input data.\n",
      "2021-01-06 07:33:36,264 C:  4% D:202.9GB M:30.3GB  NODE:SERVER      29644  INFO   | Submitted    0 and Completed    0 non-identity feature engineering tasks out of    3 total tasks (including    3 identity)\n"
     ]
    },
    {
     "data": {
      "text/html": [
       "<div>\n",
       "<style scoped>\n",
       "    .dataframe tbody tr th:only-of-type {\n",
       "        vertical-align: middle;\n",
       "    }\n",
       "\n",
       "    .dataframe tbody tr th {\n",
       "        vertical-align: top;\n",
       "    }\n",
       "\n",
       "    .dataframe thead th {\n",
       "        text-align: right;\n",
       "    }\n",
       "</style>\n",
       "<table border=\"1\" class=\"dataframe\">\n",
       "  <thead>\n",
       "    <tr style=\"text-align: right;\">\n",
       "      <th></th>\n",
       "      <th>y</th>\n",
       "      <th>y.lower</th>\n",
       "      <th>y.upper</th>\n",
       "    </tr>\n",
       "  </thead>\n",
       "  <tbody>\n",
       "    <tr>\n",
       "      <th>0</th>\n",
       "      <td>2.633075</td>\n",
       "      <td>0.259097</td>\n",
       "      <td>5.167462</td>\n",
       "    </tr>\n",
       "  </tbody>\n",
       "</table>\n",
       "</div>"
      ],
      "text/plain": [
       "          y   y.lower   y.upper\n",
       "0  2.633075  0.259097  5.167462"
      ]
     },
     "execution_count": 19,
     "metadata": {},
     "output_type": "execute_result"
    }
   ],
   "source": [
    "# Get the DAI model score\n",
    "dai_score = scorer.score_batch(dai_df)\n",
    "dai_score"
   ]
  },
  {
   "cell_type": "code",
   "execution_count": 20,
   "metadata": {},
   "outputs": [
    {
     "data": {
      "text/plain": [
       "scoring_h2oai_experiment_3a80fcea_4fcb_11eb_9924_0242ac110002.scorer.Scorer"
      ]
     },
     "execution_count": 20,
     "metadata": {},
     "output_type": "execute_result"
    }
   ],
   "source": [
    "type(scorer)"
   ]
  },
  {
   "cell_type": "code",
   "execution_count": 21,
   "metadata": {},
   "outputs": [
    {
     "name": "stdout",
     "output_type": "stream",
     "text": [
      "2021-01-06 07:33:39,287 C: NA  D:  NA    M:  NA    NODE:SERVER      29644  DATA   | Warning: column <<<'x1'>>> is of type str, but should be float32. Please check input data.\n",
      "2021-01-06 07:33:39,291 C: NA  D:  NA    M:  NA    NODE:SERVER      29644  DATA   | Warning: column <<<'x3'>>> is of type str, but should be float32. Please check input data.\n",
      "2021-01-06 07:33:39,295 C: NA  D:  NA    M:  NA    NODE:SERVER      29644  DATA   | Warning: column <<<'x4'>>> is of type str, but should be float32. Please check input data.\n",
      "2021-01-06 07:33:39,511 C:  2% D:202.9GB M:30.3GB  NODE:SERVER      29644  INFO   | Submitted    0 and Completed    0 non-identity feature engineering tasks out of    3 total tasks (including    3 identity)\n"
     ]
    },
    {
     "data": {
      "text/html": [
       "<div>\n",
       "<style scoped>\n",
       "    .dataframe tbody tr th:only-of-type {\n",
       "        vertical-align: middle;\n",
       "    }\n",
       "\n",
       "    .dataframe tbody tr th {\n",
       "        vertical-align: top;\n",
       "    }\n",
       "\n",
       "    .dataframe thead th {\n",
       "        text-align: right;\n",
       "    }\n",
       "</style>\n",
       "<table border=\"1\" class=\"dataframe\">\n",
       "  <thead>\n",
       "    <tr style=\"text-align: right;\">\n",
       "      <th></th>\n",
       "      <th>contrib_0_x1</th>\n",
       "      <th>contrib_2_x3</th>\n",
       "      <th>contrib_3_x4</th>\n",
       "      <th>contrib_bias</th>\n",
       "    </tr>\n",
       "  </thead>\n",
       "  <tbody>\n",
       "    <tr>\n",
       "      <th>0</th>\n",
       "      <td>-58650.125</td>\n",
       "      <td>95974.257812</td>\n",
       "      <td>72283.265625</td>\n",
       "      <td>466291.90625</td>\n",
       "    </tr>\n",
       "  </tbody>\n",
       "</table>\n",
       "</div>"
      ],
      "text/plain": [
       "   contrib_0_x1  contrib_2_x3  contrib_3_x4  contrib_bias\n",
       "0    -58650.125  95974.257812  72283.265625  466291.90625"
      ]
     },
     "execution_count": 21,
     "metadata": {},
     "output_type": "execute_result"
    }
   ],
   "source": [
    "# Get the prediction contributions (Shapley reason codes) from DAI model\n",
    "dai_reason_codes = scorer.score_batch(dai_df, pred_contribs=True)\n",
    "dai_reason_codes"
   ]
  },
  {
   "cell_type": "code",
   "execution_count": 22,
   "metadata": {},
   "outputs": [
    {
     "data": {
      "text/html": [
       "<div>\n",
       "<style scoped>\n",
       "    .dataframe tbody tr th:only-of-type {\n",
       "        vertical-align: middle;\n",
       "    }\n",
       "\n",
       "    .dataframe tbody tr th {\n",
       "        vertical-align: top;\n",
       "    }\n",
       "\n",
       "    .dataframe thead th {\n",
       "        text-align: right;\n",
       "    }\n",
       "</style>\n",
       "<table border=\"1\" class=\"dataframe\">\n",
       "  <thead>\n",
       "    <tr style=\"text-align: right;\">\n",
       "      <th></th>\n",
       "      <th>x3</th>\n",
       "      <th>x1</th>\n",
       "      <th>x4</th>\n",
       "      <th>Intercept</th>\n",
       "    </tr>\n",
       "  </thead>\n",
       "  <tbody>\n",
       "    <tr>\n",
       "      <th>0</th>\n",
       "      <td>-0.396105</td>\n",
       "      <td>-0.527618</td>\n",
       "      <td>3.415107</td>\n",
       "      <td>1.233943</td>\n",
       "    </tr>\n",
       "  </tbody>\n",
       "</table>\n",
       "</div>"
      ],
      "text/plain": [
       "         x3        x1        x4  Intercept\n",
       "0 -0.396105 -0.527618  3.415107   1.233943"
      ]
     },
     "execution_count": 22,
     "metadata": {},
     "output_type": "execute_result"
    }
   ],
   "source": [
    "# Get KLime reason codes\n",
    "klime_reason_codes = mli_scorer.score_reason_codes_batch(mli_df)\n",
    "klime_reason_codes"
   ]
  },
  {
   "cell_type": "code",
   "execution_count": 23,
   "metadata": {},
   "outputs": [
    {
     "data": {
      "text/plain": [
       "0    3.725328\n",
       "dtype: float64"
      ]
     },
     "execution_count": 23,
     "metadata": {},
     "output_type": "execute_result"
    }
   ],
   "source": [
    "# KLime model score is the sum of all the reason codes+intercept (included in the output of score_reason_codes* methods)\n",
    "klime_score = mli_scorer.score_reason_codes_batch(mli_df).sum(axis=1)\n",
    "klime_score"
   ]
  },
  {
   "cell_type": "code",
   "execution_count": 24,
   "metadata": {},
   "outputs": [
    {
     "data": {
      "text/html": [
       "<div>\n",
       "<style scoped>\n",
       "    .dataframe tbody tr th:only-of-type {\n",
       "        vertical-align: middle;\n",
       "    }\n",
       "\n",
       "    .dataframe tbody tr th {\n",
       "        vertical-align: top;\n",
       "    }\n",
       "\n",
       "    .dataframe thead th {\n",
       "        text-align: right;\n",
       "    }\n",
       "</style>\n",
       "<table border=\"1\" class=\"dataframe\">\n",
       "  <thead>\n",
       "    <tr style=\"text-align: right;\">\n",
       "      <th></th>\n",
       "      <th>x3</th>\n",
       "      <th>x1</th>\n",
       "      <th>x4</th>\n",
       "      <th>Intercept</th>\n",
       "    </tr>\n",
       "  </thead>\n",
       "  <tbody>\n",
       "    <tr>\n",
       "      <th>0</th>\n",
       "      <td>-0.396105</td>\n",
       "      <td>-0.527618</td>\n",
       "      <td>3.415107</td>\n",
       "      <td>1.233943</td>\n",
       "    </tr>\n",
       "  </tbody>\n",
       "</table>\n",
       "</div>"
      ],
      "text/plain": [
       "         x3        x1        x4  Intercept\n",
       "0 -0.396105 -0.527618  3.415107   1.233943"
      ]
     },
     "execution_count": 24,
     "metadata": {},
     "output_type": "execute_result"
    }
   ],
   "source": [
    "mli_scorer.score_reason_codes_batch(mli_df)"
   ]
  },
  {
   "cell_type": "code",
   "execution_count": 25,
   "metadata": {},
   "outputs": [
    {
     "data": {
      "text/plain": [
       "scoring_mli_experiment_eb096b2c_4fcd_11eb_9924_0242ac110002.klime_scorer.KLimeScorer"
      ]
     },
     "execution_count": 25,
     "metadata": {},
     "output_type": "execute_result"
    }
   ],
   "source": [
    "type(mli_scorer)"
   ]
  },
  {
   "cell_type": "code",
   "execution_count": 26,
   "metadata": {},
   "outputs": [
    {
     "name": "stdout",
     "output_type": "stream",
     "text": [
      " KLIME score vs DAI score difference is higher than threshold. Reporting Reason codes from DAI model:\n",
      "   contrib_0_x1  contrib_2_x3  contrib_3_x4  contrib_bias\n",
      "0    -58650.125  95974.257812  72283.265625  466291.90625\n"
     ]
    }
   ],
   "source": [
    "# If the difference between KLime and the DAI model is greater than a threshold\n",
    "# then use the reason codes from the actual DAI (in transformed feature space)\n",
    "if abs(dai_score.values[0][0] - klime_score.values[0]) > THRESHOLD:\n",
    "    print(\" KLIME score vs DAI score difference is higher than threshold. Reporting Reason codes from DAI model:\")\n",
    "    print(str(dai_reason_codes))\n",
    "else:\n",
    "    print(\" KLIME score within threshold difference of DAI model. Reporting Reason codes from KLIME:\")\n",
    "    print(str(klime_reason_codes))"
   ]
  },
  {
   "cell_type": "code",
   "execution_count": null,
   "metadata": {},
   "outputs": [],
   "source": []
  }
 ],
 "metadata": {
  "kernelspec": {
   "display_name": "Python 3",
   "language": "python",
   "name": "python3"
  },
  "language_info": {
   "codemirror_mode": {
    "name": "ipython",
    "version": 3
   },
   "file_extension": ".py",
   "mimetype": "text/x-python",
   "name": "python",
   "nbconvert_exporter": "python",
   "pygments_lexer": "ipython3",
   "version": "3.6.9"
  }
 },
 "nbformat": 4,
 "nbformat_minor": 4
}
