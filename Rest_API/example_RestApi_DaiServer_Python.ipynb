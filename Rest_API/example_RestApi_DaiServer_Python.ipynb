{
 "cells": [
  {
   "cell_type": "markdown",
   "metadata": {},
   "source": [
    "### Restサーバによるスコアリングの実施\n",
    "クライアントからのWeb API（Driverless AIサーバ上にREST APIを構築）への接続例"
   ]
  },
  {
   "cell_type": "markdown",
   "metadata": {},
   "source": [
    "---"
   ]
  },
  {
   "cell_type": "markdown",
   "metadata": {},
   "source": [
    "Python \"Requests\"での実行  \n",
    "[Requests](https://requests-docs-ja.readthedocs.io/en/latest/)"
   ]
  },
  {
   "cell_type": "code",
   "execution_count": 39,
   "metadata": {},
   "outputs": [],
   "source": [
    "import requests\n",
    "import json\n",
    "import pandas as pd"
   ]
  },
  {
   "cell_type": "code",
   "execution_count": 10,
   "metadata": {},
   "outputs": [],
   "source": [
    "# APIポイント\n",
    "api_point = \"http://54.82.232.159:9090/model/score\"\n",
    "# header\n",
    "headers = {'Content-Type': 'application/json'}"
   ]
  },
  {
   "cell_type": "code",
   "execution_count": 11,
   "metadata": {},
   "outputs": [],
   "source": [
    "# カラム定義\n",
    "columns = [\"x1\",\"x2\",\"x3\",\"x4\"]"
   ]
  },
  {
   "cell_type": "code",
   "execution_count": 47,
   "metadata": {},
   "outputs": [
    {
     "data": {
      "text/plain": [
       "{'id': '62c31e2a-635f-11eb-b18a-0242ac110002',\n",
       " 'fields': ['y'],\n",
       " 'score': [['2.585485339164734']]}"
      ]
     },
     "execution_count": 47,
     "metadata": {},
     "output_type": "execute_result"
    }
   ],
   "source": [
    "## 1行スコアリング\n",
    "\n",
    "data1 = [[0.1, 2.3, 7.9, -3.6]]    # Single row\n",
    "\n",
    "data = {\"fields\":columns, \"rows\":data1}\n",
    "\n",
    "response = requests.post(url=api_point, headers=headers, data=json.dumps(data))\n",
    "response.json()"
   ]
  },
  {
   "cell_type": "code",
   "execution_count": 48,
   "metadata": {},
   "outputs": [
    {
     "data": {
      "text/plain": [
       "{'id': '62c31e2a-635f-11eb-b18a-0242ac110002',\n",
       " 'fields': ['y'],\n",
       " 'score': [['2.585485339164734'],\n",
       "  ['0.9894463221232096'],\n",
       "  ['5.055633544921875']]}"
      ]
     },
     "execution_count": 48,
     "metadata": {},
     "output_type": "execute_result"
    }
   ],
   "source": [
    "## 複数行スコアリング\n",
    "\n",
    "data2 = [[0.1, 2.3, 7.9, -3.6], [0, 0, 0, 0], [2, 5, -8.3, 0.2]]    # multiple rows\n",
    "\n",
    "data = {\"fields\":columns, \"rows\":data2}\n",
    "\n",
    "response = requests.post(url=api_point, headers=headers, data=json.dumps(data))\n",
    "response.json()"
   ]
  },
  {
   "cell_type": "code",
   "execution_count": 49,
   "metadata": {},
   "outputs": [
    {
     "data": {
      "text/plain": [
       "'{\"fields\": [\"x1\", \"x2\", \"x3\", \"x4\"], \"rows\": [[0.1, 2.3, 7.9, -3.6], [0, 0, 0, 0], [2, 5, -8.3, 0.2]]}'"
      ]
     },
     "execution_count": 49,
     "metadata": {},
     "output_type": "execute_result"
    }
   ],
   "source": [
    "# json形式のインプットデータ\n",
    "json.dumps(data)"
   ]
  },
  {
   "cell_type": "markdown",
   "metadata": {},
   "source": [
    "#### pandas DataFrameからの実施"
   ]
  },
  {
   "cell_type": "code",
   "execution_count": 41,
   "metadata": {},
   "outputs": [
    {
     "data": {
      "text/html": [
       "<div>\n",
       "<style scoped>\n",
       "    .dataframe tbody tr th:only-of-type {\n",
       "        vertical-align: middle;\n",
       "    }\n",
       "\n",
       "    .dataframe tbody tr th {\n",
       "        vertical-align: top;\n",
       "    }\n",
       "\n",
       "    .dataframe thead th {\n",
       "        text-align: right;\n",
       "    }\n",
       "</style>\n",
       "<table border=\"1\" class=\"dataframe\">\n",
       "  <thead>\n",
       "    <tr style=\"text-align: right;\">\n",
       "      <th></th>\n",
       "      <th>x1</th>\n",
       "      <th>x2</th>\n",
       "      <th>x3</th>\n",
       "      <th>x4</th>\n",
       "    </tr>\n",
       "  </thead>\n",
       "  <tbody>\n",
       "    <tr>\n",
       "      <th>0</th>\n",
       "      <td>2.60</td>\n",
       "      <td>-3.21</td>\n",
       "      <td>0.62</td>\n",
       "      <td>1.36</td>\n",
       "    </tr>\n",
       "    <tr>\n",
       "      <th>1</th>\n",
       "      <td>0.00</td>\n",
       "      <td>10.00</td>\n",
       "      <td>0.30</td>\n",
       "      <td>1.00</td>\n",
       "    </tr>\n",
       "    <tr>\n",
       "      <th>2</th>\n",
       "      <td>-1.11</td>\n",
       "      <td>-1.11</td>\n",
       "      <td>2.22</td>\n",
       "      <td>2.22</td>\n",
       "    </tr>\n",
       "    <tr>\n",
       "      <th>3</th>\n",
       "      <td>0.00</td>\n",
       "      <td>0.00</td>\n",
       "      <td>0.00</td>\n",
       "      <td>0.00</td>\n",
       "    </tr>\n",
       "    <tr>\n",
       "      <th>4</th>\n",
       "      <td>-9.70</td>\n",
       "      <td>-0.40</td>\n",
       "      <td>6.98</td>\n",
       "      <td>2.10</td>\n",
       "    </tr>\n",
       "  </tbody>\n",
       "</table>\n",
       "</div>"
      ],
      "text/plain": [
       "     x1     x2    x3    x4\n",
       "0  2.60  -3.21  0.62  1.36\n",
       "1  0.00  10.00  0.30  1.00\n",
       "2 -1.11  -1.11  2.22  2.22\n",
       "3  0.00   0.00  0.00  0.00\n",
       "4 -9.70  -0.40  6.98  2.10"
      ]
     },
     "execution_count": 41,
     "metadata": {},
     "output_type": "execute_result"
    }
   ],
   "source": [
    "df = pd.read_csv('sample_scoring_data.csv')\n",
    "df"
   ]
  },
  {
   "cell_type": "code",
   "execution_count": 50,
   "metadata": {},
   "outputs": [
    {
     "data": {
      "text/plain": [
       "[[2.6, -3.21, 0.62, 1.36],\n",
       " [0.0, 10.0, 0.3, 1.0],\n",
       " [-1.11, -1.11, 2.22, 2.22],\n",
       " [0.0, 0.0, 0.0, 0.0],\n",
       " [-9.7, -0.4, 6.98, 2.1]]"
      ]
     },
     "execution_count": 50,
     "metadata": {},
     "output_type": "execute_result"
    }
   ],
   "source": [
    "data3 = [[row[0], row[1], row[2], row[3]] for index, row in df.iterrows()]\n",
    "data3"
   ]
  },
  {
   "cell_type": "code",
   "execution_count": 53,
   "metadata": {},
   "outputs": [
    {
     "data": {
      "text/plain": [
       "{'id': '62c31e2a-635f-11eb-b18a-0242ac110002',\n",
       " 'fields': ['y'],\n",
       " 'score': [['2.006951332092285'],\n",
       "  ['3.232259194056193'],\n",
       "  ['-0.8104969635605812'],\n",
       "  ['0.9894463221232096'],\n",
       "  ['0.6018870572249094']]}"
      ]
     },
     "execution_count": 53,
     "metadata": {},
     "output_type": "execute_result"
    }
   ],
   "source": [
    "data = {\"fields\":columns, \"rows\":data3}\n",
    "\n",
    "response = requests.post(url=api_point, headers=headers, data=json.dumps(data))\n",
    "response.json()"
   ]
  },
  {
   "cell_type": "code",
   "execution_count": 66,
   "metadata": {},
   "outputs": [
    {
     "data": {
      "text/html": [
       "<div>\n",
       "<style scoped>\n",
       "    .dataframe tbody tr th:only-of-type {\n",
       "        vertical-align: middle;\n",
       "    }\n",
       "\n",
       "    .dataframe tbody tr th {\n",
       "        vertical-align: top;\n",
       "    }\n",
       "\n",
       "    .dataframe thead th {\n",
       "        text-align: right;\n",
       "    }\n",
       "</style>\n",
       "<table border=\"1\" class=\"dataframe\">\n",
       "  <thead>\n",
       "    <tr style=\"text-align: right;\">\n",
       "      <th></th>\n",
       "      <th>x1</th>\n",
       "      <th>x2</th>\n",
       "      <th>x3</th>\n",
       "      <th>x4</th>\n",
       "      <th>predict</th>\n",
       "    </tr>\n",
       "  </thead>\n",
       "  <tbody>\n",
       "    <tr>\n",
       "      <th>0</th>\n",
       "      <td>2.60</td>\n",
       "      <td>-3.21</td>\n",
       "      <td>0.62</td>\n",
       "      <td>1.36</td>\n",
       "      <td>2.006951</td>\n",
       "    </tr>\n",
       "    <tr>\n",
       "      <th>1</th>\n",
       "      <td>0.00</td>\n",
       "      <td>10.00</td>\n",
       "      <td>0.30</td>\n",
       "      <td>1.00</td>\n",
       "      <td>3.232259</td>\n",
       "    </tr>\n",
       "    <tr>\n",
       "      <th>2</th>\n",
       "      <td>-1.11</td>\n",
       "      <td>-1.11</td>\n",
       "      <td>2.22</td>\n",
       "      <td>2.22</td>\n",
       "      <td>-0.810497</td>\n",
       "    </tr>\n",
       "    <tr>\n",
       "      <th>3</th>\n",
       "      <td>0.00</td>\n",
       "      <td>0.00</td>\n",
       "      <td>0.00</td>\n",
       "      <td>0.00</td>\n",
       "      <td>0.989446</td>\n",
       "    </tr>\n",
       "    <tr>\n",
       "      <th>4</th>\n",
       "      <td>-9.70</td>\n",
       "      <td>-0.40</td>\n",
       "      <td>6.98</td>\n",
       "      <td>2.10</td>\n",
       "      <td>0.601887</td>\n",
       "    </tr>\n",
       "  </tbody>\n",
       "</table>\n",
       "</div>"
      ],
      "text/plain": [
       "     x1     x2    x3    x4   predict\n",
       "0  2.60  -3.21  0.62  1.36  2.006951\n",
       "1  0.00  10.00  0.30  1.00  3.232259\n",
       "2 -1.11  -1.11  2.22  2.22 -0.810497\n",
       "3  0.00   0.00  0.00  0.00  0.989446\n",
       "4 -9.70  -0.40  6.98  2.10  0.601887"
      ]
     },
     "execution_count": 66,
     "metadata": {},
     "output_type": "execute_result"
    }
   ],
   "source": [
    "# 元データとスコアリング結果を結合\n",
    "predict = [float(y[0]) for y in response.json()['score']]\n",
    "df[\"predict\"] = predict\n",
    "df"
   ]
  },
  {
   "cell_type": "code",
   "execution_count": null,
   "metadata": {},
   "outputs": [],
   "source": []
  }
 ],
 "metadata": {
  "kernelspec": {
   "display_name": "Python 3",
   "language": "python",
   "name": "python3"
  },
  "language_info": {
   "codemirror_mode": {
    "name": "ipython",
    "version": 3
   },
   "file_extension": ".py",
   "mimetype": "text/x-python",
   "name": "python",
   "nbconvert_exporter": "python",
   "pygments_lexer": "ipython3",
   "version": "3.8.3"
  }
 },
 "nbformat": 4,
 "nbformat_minor": 4
}
