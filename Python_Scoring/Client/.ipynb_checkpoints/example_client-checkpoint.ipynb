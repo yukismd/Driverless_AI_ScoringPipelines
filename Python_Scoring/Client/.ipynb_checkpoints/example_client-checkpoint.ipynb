{
 "cells": [
  {
   "cell_type": "markdown",
   "metadata": {},
   "source": [
    "### Driverless AI - Python Scoring Pipeline 実行サンプル（クライアント環境（TCPサーバへの接続））"
   ]
  },
  {
   "cell_type": "markdown",
   "metadata": {},
   "source": [
    "TCPサーバ(スコアリングフォルダ(scoring-pipeline)のrun_tcp_server.sh(tcp_server.pyの実行ファイル)から実行)へ、クライアントから接続"
   ]
  },
  {
   "cell_type": "markdown",
   "metadata": {},
   "source": [
    "環境：\n",
    "- Ubunto18.04（AWS EC2, t2.2xlarge）上でTCPサーバを起動し、同サーバー上からクライアント接続\n",
    "- Driverless AI 1.8.8 Python Scoring Pipeline"
   ]
  },
  {
   "cell_type": "markdown",
   "metadata": {},
   "source": [
    "---"
   ]
  },
  {
   "cell_type": "code",
   "execution_count": 1,
   "metadata": {},
   "outputs": [],
   "source": [
    "import sys\n",
    "sys.path.append('gen-py')    # gen-py配下にh2oai_scoringが配置済み\n",
    "\n",
    "from numpy import nan\n",
    "from thrift.transport import TSocket\n",
    "from thrift.transport import TTransport\n",
    "from thrift.protocol import TBinaryProtocol\n",
    " \n",
    "from h2oai_scoring import ScoringService\n",
    "from h2oai_scoring.ttypes import Row"
   ]
  },
  {
   "cell_type": "code",
   "execution_count": 2,
   "metadata": {},
   "outputs": [],
   "source": [
    "socket = TSocket.TSocket('localhost', 9090)    # ローカル上のTCPサーバへ接続\n",
    "transport = TTransport.TBufferedTransport(socket)\n",
    "protocol = TBinaryProtocol.TBinaryProtocol(transport)\n",
    "client = ScoringService.Client(protocol)\n",
    "transport.open()"
   ]
  },
  {
   "cell_type": "code",
   "execution_count": 3,
   "metadata": {},
   "outputs": [
    {
     "data": {
      "text/plain": [
       "h2oai_scoring.ScoringService.Client"
      ]
     },
     "execution_count": 3,
     "metadata": {},
     "output_type": "execute_result"
    }
   ],
   "source": [
    "type(client)"
   ]
  },
  {
   "cell_type": "code",
   "execution_count": 4,
   "metadata": {},
   "outputs": [
    {
     "data": {
      "text/plain": [
       "'Scoring server hash: 0bdb6222-458f-11eb-91c1-0242ac110002'"
      ]
     },
     "execution_count": 4,
     "metadata": {},
     "output_type": "execute_result"
    }
   ],
   "source": [
    "server_hash = client.get_hash()\n",
    "'Scoring server hash: {}'.format(server_hash)"
   ]
  },
  {
   "cell_type": "code",
   "execution_count": 5,
   "metadata": {},
   "outputs": [
    {
     "data": {
      "text/plain": [
       "['x1', 'x2', 'x3', 'x4']"
      ]
     },
     "execution_count": 5,
     "metadata": {},
     "output_type": "execute_result"
    }
   ],
   "source": [
    "# インプットデータのカラム名取得\n",
    "client.get_column_names()"
   ]
  },
  {
   "cell_type": "markdown",
   "metadata": {},
   "source": [
    "一行データのスコアリング"
   ]
  },
  {
   "cell_type": "code",
   "execution_count": 6,
   "metadata": {},
   "outputs": [
    {
     "name": "stdout",
     "output_type": "stream",
     "text": [
      "<class 'h2oai_scoring.ttypes.Row'>\n"
     ]
    },
    {
     "data": {
      "text/plain": [
       "Row(x1=2.6, x2=-3.21, x3=0.62, x4=1.36)"
      ]
     },
     "execution_count": 6,
     "metadata": {},
     "output_type": "execute_result"
    }
   ],
   "source": [
    "row1 = Row()\n",
    "row1.x1 = float('2.6')\n",
    "row1.x2 = float('-3.21')\n",
    "row1.x3 = float('0.62')\n",
    "row1.x4 = float('1.36')\n",
    "\n",
    "print(type(row1))\n",
    "\n",
    "row1"
   ]
  },
  {
   "cell_type": "code",
   "execution_count": 7,
   "metadata": {},
   "outputs": [
    {
     "data": {
      "text/plain": [
       "[2.561763286590576]"
      ]
     },
     "execution_count": 7,
     "metadata": {},
     "output_type": "execute_result"
    }
   ],
   "source": [
    "# client.score(Row)メソッドによるスコアリング\n",
    "score1 = client.score(row1, pred_contribs=False, output_margin=False)\n",
    "score1"
   ]
  },
  {
   "cell_type": "markdown",
   "metadata": {},
   "source": [
    "複数行データのバッチスコアリング"
   ]
  },
  {
   "cell_type": "code",
   "execution_count": 8,
   "metadata": {},
   "outputs": [],
   "source": [
    "row2 = Row()\n",
    "row2.x1 = float('0.0')\n",
    "row2.x2 = float('10.0')\n",
    "row2.x3 = float('0.3')\n",
    "row2.x4 = float('1.0')\n",
    "\n",
    "row3 = Row()\n",
    "row3.x1 = float('-1.1')\n",
    "row3.x2 = float('-1.1')\n",
    "row3.x3 = float('2.22')\n",
    "row3.x4 = float('2.22')"
   ]
  },
  {
   "cell_type": "code",
   "execution_count": 9,
   "metadata": {},
   "outputs": [
    {
     "data": {
      "text/plain": [
       "[[2.561763286590576], [3.8429617881774902], [2.533003807067871]]"
      ]
     },
     "execution_count": 9,
     "metadata": {},
     "output_type": "execute_result"
    }
   ],
   "source": [
    "rows = [row1, row2, row3]\n",
    "score2 = client.score_batch(rows, pred_contribs=False, output_margin=False)\n",
    "score2"
   ]
  },
  {
   "cell_type": "code",
   "execution_count": null,
   "metadata": {},
   "outputs": [],
   "source": []
  },
  {
   "cell_type": "code",
   "execution_count": 10,
   "metadata": {},
   "outputs": [],
   "source": [
    "transport.close()"
   ]
  },
  {
   "cell_type": "code",
   "execution_count": null,
   "metadata": {},
   "outputs": [],
   "source": []
  }
 ],
 "metadata": {
  "kernelspec": {
   "display_name": "Python 3",
   "language": "python",
   "name": "python3"
  },
  "language_info": {
   "codemirror_mode": {
    "name": "ipython",
    "version": 3
   },
   "file_extension": ".py",
   "mimetype": "text/x-python",
   "name": "python",
   "nbconvert_exporter": "python",
   "pygments_lexer": "ipython3",
   "version": "3.6.12"
  }
 },
 "nbformat": 4,
 "nbformat_minor": 4
}
