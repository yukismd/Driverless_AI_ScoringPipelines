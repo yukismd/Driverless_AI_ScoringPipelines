{
 "cells": [
  {
   "cell_type": "markdown",
   "metadata": {},
   "source": [
    "## Driverless AI - Python Scoring Pipeline 実行サンプル（クライアント環境（HTTPサーバへの接続））"
   ]
  },
  {
   "cell_type": "markdown",
   "metadata": {},
   "source": [
    "スコアリングフォルダ(scoring-pipeline)のrun_http_server.sh(http_server.pyの実行ファイル)を実行したHTTPサーバへ、クライアントから接続"
   ]
  },
  {
   "cell_type": "markdown",
   "metadata": {},
   "source": [
    "---"
   ]
  },
  {
   "cell_type": "markdown",
   "metadata": {},
   "source": [
    "### コマンドラインでの実行\n",
    "run_http_client.sh参照"
   ]
  },
  {
   "cell_type": "markdown",
   "metadata": {},
   "source": [
    "#### 一行データのスコアリング"
   ]
  },
  {
   "cell_type": "markdown",
   "metadata": {},
   "source": [
    "```bash\n",
    "curl  52.196.26.99:9090/rpc  --header \"Content-Type: application/json\"  --data @- <<EOF\n",
    "{\n",
    "  \"id\": 1,\n",
    "  \"method\": \"score\",\n",
    "  \"params\": {\n",
    "    \"row\": {\"x1\": \"2.60\", \"x2\": \"-3.21\", \"x3\": \"0.62\", \"x4\": \"1.36\"}\n",
    "  }\n",
    "}\n",
    "EOF\n",
    "```\n",
    "\n",
    "> {\"jsonrpc\": \"2.0\", \"id\": 1, \"result\": [2.561763286590576]}"
   ]
  },
  {
   "cell_type": "markdown",
   "metadata": {},
   "source": [
    "#### 複数行データのバッチスコアリング"
   ]
  },
  {
   "cell_type": "markdown",
   "metadata": {},
   "source": [
    "```bash\n",
    "curl  52.196.26.99:9090/rpc  --header \"Content-Type: application/json\"  --data @- <<EOF\n",
    "{\n",
    "  \"id\": 1,\n",
    "  \"method\": \"score_batch\",\n",
    "  \"params\": {\n",
    "    \"rows\":[\n",
    "         {\"x1\": \"2.60\", \"x2\": \"-3.21\", \"x3\": \"0.62\", \"x4\": \"1.36\"},\n",
    "         {\"x1\": \"0\", \"x2\": \"10\", \"x3\": \"0.3\", \"x4\": \"1\"},\n",
    "         {\"x1\": \"-1.11\", \"x2\": \"-1.11\", \"x3\": \"2.22\", \"x4\": \"2.22\"}\n",
    "    ]\n",
    "  }\n",
    "}\n",
    "EOF\n",
    "```\n",
    "\n",
    "> {\"jsonrpc\": \"2.0\", \"id\": 1, \"result\": [[2.561763286590576], [3.8429617881774902], [2.533003807067871]]}"
   ]
  },
  {
   "cell_type": "markdown",
   "metadata": {},
   "source": [
    "---"
   ]
  },
  {
   "cell_type": "markdown",
   "metadata": {},
   "source": [
    "### Python \"Requests\"での実行"
   ]
  },
  {
   "cell_type": "code",
   "execution_count": 47,
   "metadata": {},
   "outputs": [],
   "source": [
    "import requests"
   ]
  },
  {
   "cell_type": "code",
   "execution_count": 70,
   "metadata": {},
   "outputs": [
    {
     "data": {
      "text/plain": [
       "{'fields': ['x1', 'x2', 'x3', 'x4'],\n",
       " 'rows': [['0', '1', '2', '3'], ['3.5', '-1.2', '0', '-4']]}"
      ]
     },
     "execution_count": 70,
     "metadata": {},
     "output_type": "execute_result"
    }
   ],
   "source": [
    "headers = { 'Content-Type': 'application/json',}\n",
    "\n",
    "data = {\n",
    "  \"id\": 1,\n",
    "  \"method\": \"score\",\n",
    "  \"params\": {\n",
    "    \"row\": {\"x1\": \"2.60\", \"x2\": \"-3.21\", \"x3\": \"0.62\", \"x4\": \"1.36\"}\n",
    "  }\n",
    "}\n",
    "data"
   ]
  },
  {
   "cell_type": "code",
   "execution_count": 71,
   "metadata": {},
   "outputs": [
    {
     "data": {
      "text/plain": [
       "<Response [500]>"
      ]
     },
     "execution_count": 71,
     "metadata": {},
     "output_type": "execute_result"
    }
   ],
   "source": [
    "response = requests.post('http://52.196.26.99:9090/rpc', headers=headers, data=data)\n",
    "response"
   ]
  },
  {
   "cell_type": "code",
   "execution_count": null,
   "metadata": {},
   "outputs": [],
   "source": []
  }
 ],
 "metadata": {
  "kernelspec": {
   "display_name": "Python 3",
   "language": "python",
   "name": "python3"
  },
  "language_info": {
   "codemirror_mode": {
    "name": "ipython",
    "version": 3
   },
   "file_extension": ".py",
   "mimetype": "text/x-python",
   "name": "python",
   "nbconvert_exporter": "python",
   "pygments_lexer": "ipython3",
   "version": "3.8.3"
  }
 },
 "nbformat": 4,
 "nbformat_minor": 4
}
