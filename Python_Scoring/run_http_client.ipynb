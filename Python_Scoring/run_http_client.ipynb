{
 "cells": [
  {
   "cell_type": "markdown",
   "metadata": {},
   "source": [
    "## Driverless AI - Python Scoring Pipeline 実行サンプル（クライアント環境（HTTPサーバへの接続））"
   ]
  },
  {
   "cell_type": "markdown",
   "metadata": {},
   "source": [
    "HTTPサーバ(スコアリングフォルダ(scoring-pipeline)のrun_http_server.sh(http_server.pyの実行ファイル)を実行)へ、クライアントから接続"
   ]
  },
  {
   "cell_type": "markdown",
   "metadata": {},
   "source": [
    "---"
   ]
  },
  {
   "cell_type": "markdown",
   "metadata": {},
   "source": [
    "### コマンドラインでの実行\n",
    "run_http_client.sh参照"
   ]
  },
  {
   "cell_type": "markdown",
   "metadata": {},
   "source": [
    "#### 一行データのスコアリング"
   ]
  },
  {
   "cell_type": "markdown",
   "metadata": {},
   "source": [
    "```bash\n",
    "curl  52.196.26.99:9090/rpc  --header \"Content-Type: application/json\"  --data @- <<EOF\n",
    "{\n",
    "  \"id\": 1,\n",
    "  \"method\": \"score\",\n",
    "  \"params\": {\n",
    "    \"row\": {\"x1\": \"2.60\", \"x2\": \"-3.21\", \"x3\": \"0.62\", \"x4\": \"1.36\"}\n",
    "  }\n",
    "}\n",
    "EOF\n",
    "```\n",
    "\n",
    "> {\"jsonrpc\": \"2.0\", \"id\": 1, \"result\": [2.561763286590576]}"
   ]
  },
  {
   "cell_type": "markdown",
   "metadata": {},
   "source": [
    "#### 複数行データのバッチスコアリング"
   ]
  },
  {
   "cell_type": "markdown",
   "metadata": {},
   "source": [
    "```bash\n",
    "curl  52.196.26.99:9090/rpc  --header \"Content-Type: application/json\"  --data @- <<EOF\n",
    "{\n",
    "  \"id\": 1,\n",
    "  \"method\": \"score_batch\",\n",
    "  \"params\": {\n",
    "    \"rows\":[\n",
    "         {\"x1\": \"2.60\", \"x2\": \"-3.21\", \"x3\": \"0.62\", \"x4\": \"1.36\"},\n",
    "         {\"x1\": \"0\", \"x2\": \"10\", \"x3\": \"0.3\", \"x4\": \"1\"},\n",
    "         {\"x1\": \"-1.11\", \"x2\": \"-1.11\", \"x3\": \"2.22\", \"x4\": \"2.22\"}\n",
    "    ]\n",
    "  }\n",
    "}\n",
    "EOF\n",
    "```\n",
    "\n",
    "> {\"jsonrpc\": \"2.0\", \"id\": 1, \"result\": [[2.561763286590576], [3.8429617881774902], [2.533003807067871]]}"
   ]
  },
  {
   "cell_type": "markdown",
   "metadata": {},
   "source": [
    "---"
   ]
  },
  {
   "cell_type": "markdown",
   "metadata": {},
   "source": [
    "### Python \"Requests\"での実行"
   ]
  },
  {
   "cell_type": "markdown",
   "metadata": {},
   "source": [
    "[Requests](https://requests-docs-ja.readthedocs.io/en/latest/)"
   ]
  },
  {
   "cell_type": "code",
   "execution_count": 160,
   "metadata": {},
   "outputs": [],
   "source": [
    "import requests\n",
    "import json"
   ]
  },
  {
   "cell_type": "code",
   "execution_count": 161,
   "metadata": {},
   "outputs": [],
   "source": [
    "headers = { 'Content-Type': 'application/json'}\n",
    "\n",
    "data = {\n",
    "  \"id\": 1,\n",
    "  \"method\": \"score\",\n",
    "  \"params\": {\n",
    "    \"row\": {\"x1\": \"2.60\", \"x2\": \"-3.21\", \"x3\": \"0.62\", \"x4\": \"1.36\"}\n",
    "  }\n",
    "}\n",
    "data = json.dumps(data)   # dictをstr型へ変換"
   ]
  },
  {
   "cell_type": "code",
   "execution_count": 162,
   "metadata": {},
   "outputs": [
    {
     "data": {
      "text/plain": [
       "'{\"id\": 1, \"method\": \"score\", \"params\": {\"row\": {\"x1\": \"2.60\", \"x2\": \"-3.21\", \"x3\": \"0.62\", \"x4\": \"1.36\"}}}'"
      ]
     },
     "execution_count": 162,
     "metadata": {},
     "output_type": "execute_result"
    }
   ],
   "source": [
    "data"
   ]
  },
  {
   "cell_type": "code",
   "execution_count": 163,
   "metadata": {},
   "outputs": [
    {
     "data": {
      "text/plain": [
       "<Response [200]>"
      ]
     },
     "execution_count": 163,
     "metadata": {},
     "output_type": "execute_result"
    }
   ],
   "source": [
    "response = requests.post('http://13.113.192.151:9090/rpc', headers=headers, data=data)\n",
    "response"
   ]
  },
  {
   "cell_type": "code",
   "execution_count": 164,
   "metadata": {},
   "outputs": [],
   "source": [
    "#response.headers"
   ]
  },
  {
   "cell_type": "code",
   "execution_count": 165,
   "metadata": {},
   "outputs": [
    {
     "data": {
      "text/plain": [
       "{'jsonrpc': '2.0', 'id': 1, 'result': [2.561763286590576]}"
      ]
     },
     "execution_count": 165,
     "metadata": {},
     "output_type": "execute_result"
    }
   ],
   "source": [
    "# 結果をjsonで取得\n",
    "response.json()"
   ]
  },
  {
   "cell_type": "code",
   "execution_count": 166,
   "metadata": {},
   "outputs": [
    {
     "data": {
      "text/plain": [
       "'{\"jsonrpc\": \"2.0\", \"id\": 1, \"result\": [2.561763286590576]}'"
      ]
     },
     "execution_count": 166,
     "metadata": {},
     "output_type": "execute_result"
    }
   ],
   "source": [
    "response.text"
   ]
  },
  {
   "cell_type": "markdown",
   "metadata": {},
   "source": [
    "#### ファイルからの実施"
   ]
  },
  {
   "cell_type": "code",
   "execution_count": 167,
   "metadata": {},
   "outputs": [],
   "source": [
    "import pandas as pd"
   ]
  },
  {
   "cell_type": "code",
   "execution_count": 168,
   "metadata": {},
   "outputs": [
    {
     "data": {
      "text/html": [
       "<div>\n",
       "<style scoped>\n",
       "    .dataframe tbody tr th:only-of-type {\n",
       "        vertical-align: middle;\n",
       "    }\n",
       "\n",
       "    .dataframe tbody tr th {\n",
       "        vertical-align: top;\n",
       "    }\n",
       "\n",
       "    .dataframe thead th {\n",
       "        text-align: right;\n",
       "    }\n",
       "</style>\n",
       "<table border=\"1\" class=\"dataframe\">\n",
       "  <thead>\n",
       "    <tr style=\"text-align: right;\">\n",
       "      <th></th>\n",
       "      <th>x1</th>\n",
       "      <th>x2</th>\n",
       "      <th>x3</th>\n",
       "      <th>x4</th>\n",
       "    </tr>\n",
       "  </thead>\n",
       "  <tbody>\n",
       "    <tr>\n",
       "      <th>0</th>\n",
       "      <td>2.60</td>\n",
       "      <td>-3.21</td>\n",
       "      <td>0.62</td>\n",
       "      <td>1.36</td>\n",
       "    </tr>\n",
       "    <tr>\n",
       "      <th>1</th>\n",
       "      <td>0.00</td>\n",
       "      <td>10.00</td>\n",
       "      <td>0.30</td>\n",
       "      <td>1.00</td>\n",
       "    </tr>\n",
       "    <tr>\n",
       "      <th>2</th>\n",
       "      <td>-1.11</td>\n",
       "      <td>-1.11</td>\n",
       "      <td>2.22</td>\n",
       "      <td>2.22</td>\n",
       "    </tr>\n",
       "  </tbody>\n",
       "</table>\n",
       "</div>"
      ],
      "text/plain": [
       "     x1     x2    x3    x4\n",
       "0  2.60  -3.21  0.62  1.36\n",
       "1  0.00  10.00  0.30  1.00\n",
       "2 -1.11  -1.11  2.22  2.22"
      ]
     },
     "execution_count": 168,
     "metadata": {},
     "output_type": "execute_result"
    }
   ],
   "source": [
    "df = pd.read_csv('sample_data.csv')\n",
    "df"
   ]
  },
  {
   "cell_type": "code",
   "execution_count": 169,
   "metadata": {},
   "outputs": [
    {
     "data": {
      "text/plain": [
       "x1    object\n",
       "x2    object\n",
       "x3    object\n",
       "x4    object\n",
       "dtype: object"
      ]
     },
     "execution_count": 169,
     "metadata": {},
     "output_type": "execute_result"
    }
   ],
   "source": [
    "# データを文字型に変換\n",
    "df_str = df.astype(str)\n",
    "df_str.dtypes"
   ]
  },
  {
   "cell_type": "code",
   "execution_count": 170,
   "metadata": {},
   "outputs": [
    {
     "data": {
      "text/plain": [
       "[{'x1': '2.6', 'x2': '-3.21', 'x3': '0.62', 'x4': '1.36'},\n",
       " {'x1': '0.0', 'x2': '10.0', 'x3': '0.3', 'x4': '1.0'},\n",
       " {'x1': '-1.11', 'x2': '-1.11', 'x3': '2.22', 'x4': '2.22'}]"
      ]
     },
     "execution_count": 170,
     "metadata": {},
     "output_type": "execute_result"
    }
   ],
   "source": [
    "# pandas.DataFrameから、jsonに変換\n",
    "data_json = df_str.to_json(orient=\"records\")\n",
    "data_json = json.loads(data_json)\n",
    "data_json"
   ]
  },
  {
   "cell_type": "code",
   "execution_count": 171,
   "metadata": {},
   "outputs": [
    {
     "data": {
      "text/plain": [
       "'{\"id\": 1, \"method\": \"score_batch\", \"params\": {\"rows\": [{\"x1\": \"2.6\", \"x2\": \"-3.21\", \"x3\": \"0.62\", \"x4\": \"1.36\"}, {\"x1\": \"0.0\", \"x2\": \"10.0\", \"x3\": \"0.3\", \"x4\": \"1.0\"}, {\"x1\": \"-1.11\", \"x2\": \"-1.11\", \"x3\": \"2.22\", \"x4\": \"2.22\"}]}}'"
      ]
     },
     "execution_count": 171,
     "metadata": {},
     "output_type": "execute_result"
    }
   ],
   "source": [
    "data = {\n",
    "  \"id\": 1,\n",
    "  \"method\": \"score_batch\",\n",
    "  \"params\": {\n",
    "    \"rows\": data_json\n",
    "  }\n",
    "}\n",
    "data = json.dumps(data)   # dictをstr型へ変換\n",
    "data"
   ]
  },
  {
   "cell_type": "code",
   "execution_count": 172,
   "metadata": {},
   "outputs": [
    {
     "data": {
      "text/plain": [
       "<Response [200]>"
      ]
     },
     "execution_count": 172,
     "metadata": {},
     "output_type": "execute_result"
    }
   ],
   "source": [
    "response = requests.post('http://13.113.192.151:9090/rpc', headers=headers, data=data)\n",
    "response"
   ]
  },
  {
   "cell_type": "code",
   "execution_count": 173,
   "metadata": {},
   "outputs": [
    {
     "data": {
      "text/plain": [
       "{'jsonrpc': '2.0',\n",
       " 'id': 1,\n",
       " 'result': [[2.561763286590576], [3.8429617881774902], [2.533003807067871]]}"
      ]
     },
     "execution_count": 173,
     "metadata": {},
     "output_type": "execute_result"
    }
   ],
   "source": [
    "response.json()"
   ]
  },
  {
   "cell_type": "code",
   "execution_count": 174,
   "metadata": {},
   "outputs": [
    {
     "data": {
      "text/html": [
       "<div>\n",
       "<style scoped>\n",
       "    .dataframe tbody tr th:only-of-type {\n",
       "        vertical-align: middle;\n",
       "    }\n",
       "\n",
       "    .dataframe tbody tr th {\n",
       "        vertical-align: top;\n",
       "    }\n",
       "\n",
       "    .dataframe thead th {\n",
       "        text-align: right;\n",
       "    }\n",
       "</style>\n",
       "<table border=\"1\" class=\"dataframe\">\n",
       "  <thead>\n",
       "    <tr style=\"text-align: right;\">\n",
       "      <th></th>\n",
       "      <th>x1</th>\n",
       "      <th>x2</th>\n",
       "      <th>x3</th>\n",
       "      <th>x4</th>\n",
       "      <th>y</th>\n",
       "    </tr>\n",
       "  </thead>\n",
       "  <tbody>\n",
       "    <tr>\n",
       "      <th>0</th>\n",
       "      <td>2.60</td>\n",
       "      <td>-3.21</td>\n",
       "      <td>0.62</td>\n",
       "      <td>1.36</td>\n",
       "      <td>2.561763</td>\n",
       "    </tr>\n",
       "    <tr>\n",
       "      <th>1</th>\n",
       "      <td>0.00</td>\n",
       "      <td>10.00</td>\n",
       "      <td>0.30</td>\n",
       "      <td>1.00</td>\n",
       "      <td>3.842962</td>\n",
       "    </tr>\n",
       "    <tr>\n",
       "      <th>2</th>\n",
       "      <td>-1.11</td>\n",
       "      <td>-1.11</td>\n",
       "      <td>2.22</td>\n",
       "      <td>2.22</td>\n",
       "      <td>2.533004</td>\n",
       "    </tr>\n",
       "  </tbody>\n",
       "</table>\n",
       "</div>"
      ],
      "text/plain": [
       "     x1     x2    x3    x4         y\n",
       "0  2.60  -3.21  0.62  1.36  2.561763\n",
       "1  0.00  10.00  0.30  1.00  3.842962\n",
       "2 -1.11  -1.11  2.22  2.22  2.533004"
      ]
     },
     "execution_count": 174,
     "metadata": {},
     "output_type": "execute_result"
    }
   ],
   "source": [
    "y = [i[0] for i in response.json()['result']]\n",
    "df['y'] = y\n",
    "df"
   ]
  },
  {
   "cell_type": "code",
   "execution_count": null,
   "metadata": {},
   "outputs": [],
   "source": []
  }
 ],
 "metadata": {
  "kernelspec": {
   "display_name": "Python 3",
   "language": "python",
   "name": "python3"
  },
  "language_info": {
   "codemirror_mode": {
    "name": "ipython",
    "version": 3
   },
   "file_extension": ".py",
   "mimetype": "text/x-python",
   "name": "python",
   "nbconvert_exporter": "python",
   "pygments_lexer": "ipython3",
   "version": "3.8.3"
  }
 },
 "nbformat": 4,
 "nbformat_minor": 4
}
