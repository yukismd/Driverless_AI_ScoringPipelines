{
 "cells": [
  {
   "cell_type": "markdown",
   "metadata": {},
   "source": [
    "## Driverless AI - Python Scoring Pipeline 実行サンプル"
   ]
  },
  {
   "cell_type": "markdown",
   "metadata": {},
   "source": [
    "スコアリングフォルダ(scoring-pipeline)のexample.pyをJupyter上で実施したデモ"
   ]
  },
  {
   "cell_type": "markdown",
   "metadata": {},
   "source": [
    "環境：\n",
    "- Ubunto18.04（AWS EC2, t2.2xlarge）をローカル環境として実行\n",
    "- Driverless AI 1.8.8 Python Scoring Pipeline"
   ]
  },
  {
   "cell_type": "code",
   "execution_count": 7,
   "metadata": {},
   "outputs": [],
   "source": [
    "import pandas as pd\n",
    "import numpy as np\n",
    "from numpy import nan\n",
    "from scipy.special._ufuncs import expit"
   ]
  },
  {
   "cell_type": "markdown",
   "metadata": {},
   "source": [
    "スコアリングモデルのインポート（Python実行環境へ、スコアリングフォルダのscoring_h2oai_experiment_0bdb6222_458f_11eb_91c1_0242ac110002-1.0.0-py3-none-any.whlファイルからインストール済み）"
   ]
  },
  {
   "cell_type": "code",
   "execution_count": 4,
   "metadata": {},
   "outputs": [],
   "source": [
    "from scoring_h2oai_experiment_0bdb6222_458f_11eb_91c1_0242ac110002 import Scorer"
   ]
  },
  {
   "cell_type": "markdown",
   "metadata": {},
   "source": [
    "### Scorerのインスタンス化  \n",
    "- パフォーマンスの観点からScorerのインスタンス化は一つだけとし、score()もしくはscore_batch()を同インスタンスから複数回呼び出すのが良い"
   ]
  },
  {
   "cell_type": "code",
   "execution_count": 5,
   "metadata": {},
   "outputs": [
    {
     "name": "stdout",
     "output_type": "stream",
     "text": [
      "2020-12-26 23:34:23,743 C: NA  D:  NA    M:  NA    NODE:SERVER      17986  INFO   | License manager initialized\n",
      "2020-12-26 23:34:23,745 C: NA  D:  NA    M:  NA    NODE:SERVER      17986  INFO   | -----------------------------------------------------------------\n",
      "2020-12-26 23:34:23,747 C: NA  D:  NA    M:  NA    NODE:SERVER      17986  INFO   | Checking whether we have a valid license...\n",
      "2020-12-26 23:34:23,748 C: NA  D:  NA    M:  NA    NODE:SERVER      17986  INFO   | No Cloud provider found\n",
      "2020-12-26 23:34:23,750 C: NA  D:  NA    M:  NA    NODE:SERVER      17986  INFO   | License inherited from environment\n",
      "2020-12-26 23:34:23,760 C: NA  D:  NA    M:  NA    NODE:SERVER      17986  INFO   | \n",
      "2020-12-26 23:34:23,762 C: NA  D:  NA    M:  NA    NODE:SERVER      17986  INFO   | license_version:1\n",
      "2020-12-26 23:34:23,763 C: NA  D:  NA    M:  NA    NODE:SERVER      17986  INFO   | serial_number:3\n",
      "2020-12-26 23:34:23,765 C: NA  D:  NA    M:  NA    NODE:SERVER      17986  INFO   | licensee_organization:H2O.ai\n",
      "2020-12-26 23:34:23,766 C: NA  D:  NA    M:  NA    NODE:SERVER      17986  INFO   | licensee_email:tomk@h2o.ai\n",
      "2020-12-26 23:34:23,768 C: NA  D:  NA    M:  NA    NODE:SERVER      17986  INFO   | licensee_user_id:3\n",
      "2020-12-26 23:34:23,770 C: NA  D:  NA    M:  NA    NODE:SERVER      17986  INFO   | is_h2o_internal_use:true\n",
      "2020-12-26 23:34:23,771 C: NA  D:  NA    M:  NA    NODE:SERVER      17986  INFO   | created_by_email:tomk@h2o.ai\n",
      "2020-12-26 23:34:23,773 C: NA  D:  NA    M:  NA    NODE:SERVER      17986  INFO   | creation_date:2020/12/16\n",
      "2020-12-26 23:34:23,775 C: NA  D:  NA    M:  NA    NODE:SERVER      17986  INFO   | product:DriverlessAI\n",
      "2020-12-26 23:34:23,776 C: NA  D:  NA    M:  NA    NODE:SERVER      17986  INFO   | license_type:developer\n",
      "2020-12-26 23:34:23,778 C: NA  D:  NA    M:  NA    NODE:SERVER      17986  INFO   | expiration_date:2021/12/31\n",
      "2020-12-26 23:34:23,779 C: NA  D:  NA    M:  NA    NODE:SERVER      17986  INFO   | \n",
      "2020-12-26 23:34:23,782 C: NA  D:  NA    M:  NA    NODE:SERVER      17986  INFO   | License is valid\n",
      "2020-12-26 23:34:23,784 C: NA  D:  NA    M:  NA    NODE:SERVER      17986  INFO   | -----------------------------------------------------------------\n"
     ]
    }
   ],
   "source": [
    "scorer = Scorer()"
   ]
  },
  {
   "cell_type": "markdown",
   "metadata": {},
   "source": [
    "---"
   ]
  },
  {
   "cell_type": "markdown",
   "metadata": {},
   "source": [
    "インプット（特徴量）情報  \n",
    "- Rangeは、学習データの最大・最小範囲"
   ]
  },
  {
   "cell_type": "markdown",
   "metadata": {},
   "source": [
    "| Name | Type    | Range                                     | \n",
    "| ---- | ------- | ----------------------------------------- | \n",
    "| x1   | float32 | [-3.0065999031066895, 2.7874999046325684] | \n",
    "| x2   | float32 | [-4.136000156402588, 3.256700038909912]   | \n",
    "| x3   | float32 | [-3.0952999591827393, 3.3822999000549316] | \n",
    "| x4   | float32 | [-3.42330002784729, 3.0445001125335693] | "
   ]
  },
  {
   "cell_type": "markdown",
   "metadata": {},
   "source": [
    "---"
   ]
  },
  {
   "cell_type": "markdown",
   "metadata": {},
   "source": [
    "### Scorer.score()メソッドによる一行スコアリング"
   ]
  },
  {
   "cell_type": "code",
   "execution_count": 90,
   "metadata": {},
   "outputs": [
    {
     "name": "stdout",
     "output_type": "stream",
     "text": [
      "2020-12-27 00:35:26,446 C:  0% D:224.9GB M:29.8GB  NODE:SERVER      17986  INFO   | Submitted    0 and Completed    0 non-identity feature engineering tasks out of    4 total tasks (including    4 identity)\n"
     ]
    },
    {
     "data": {
      "text/plain": [
       "[-1.3629496097564697]"
      ]
     },
     "execution_count": 90,
     "metadata": {},
     "output_type": "execute_result"
    }
   ],
   "source": [
    "scorer.score([\n",
    "    '-2.631',  # x1\n",
    "    '1.277',  # x2\n",
    "    '-2.797',  # x3\n",
    "    '3.319',  # x4\n",
    "])"
   ]
  },
  {
   "cell_type": "code",
   "execution_count": 15,
   "metadata": {},
   "outputs": [
    {
     "name": "stdout",
     "output_type": "stream",
     "text": [
      "2020-12-26 23:53:05,307 C:  0% D:224.9GB M:29.9GB  NODE:SERVER      17986  INFO   | Submitted    0 and Completed    0 non-identity feature engineering tasks out of    4 total tasks (including    4 identity)\n"
     ]
    },
    {
     "data": {
      "text/plain": [
       "[8.19909954071045]"
      ]
     },
     "execution_count": 15,
     "metadata": {},
     "output_type": "execute_result"
    }
   ],
   "source": [
    "# 学習データの最大・最小範囲外でもスコアリング可能\n",
    "scorer.score([\n",
    "    '10',  # x1\n",
    "    '10',  # x2\n",
    "    '10',  # x3\n",
    "    '10',  # x4\n",
    "])"
   ]
  },
  {
   "cell_type": "markdown",
   "metadata": {},
   "source": [
    "---"
   ]
  },
  {
   "cell_type": "markdown",
   "metadata": {},
   "source": [
    "### Scorer.score_batch()メソッドによるデータテーブルのバッチスコアリング"
   ]
  },
  {
   "cell_type": "code",
   "execution_count": 31,
   "metadata": {},
   "outputs": [
    {
     "data": {
      "text/html": [
       "<div>\n",
       "<style scoped>\n",
       "    .dataframe tbody tr th:only-of-type {\n",
       "        vertical-align: middle;\n",
       "    }\n",
       "\n",
       "    .dataframe tbody tr th {\n",
       "        vertical-align: top;\n",
       "    }\n",
       "\n",
       "    .dataframe thead th {\n",
       "        text-align: right;\n",
       "    }\n",
       "</style>\n",
       "<table border=\"1\" class=\"dataframe\">\n",
       "  <thead>\n",
       "    <tr style=\"text-align: right;\">\n",
       "      <th></th>\n",
       "      <th>x1</th>\n",
       "      <th>x2</th>\n",
       "      <th>x3</th>\n",
       "      <th>x4</th>\n",
       "    </tr>\n",
       "  </thead>\n",
       "  <tbody>\n",
       "    <tr>\n",
       "      <th>0</th>\n",
       "      <td>-3.917801</td>\n",
       "      <td>4.882211</td>\n",
       "      <td>3.633671</td>\n",
       "      <td>1.869447</td>\n",
       "    </tr>\n",
       "    <tr>\n",
       "      <th>1</th>\n",
       "      <td>2.289611</td>\n",
       "      <td>1.187278</td>\n",
       "      <td>-1.661479</td>\n",
       "      <td>3.050628</td>\n",
       "    </tr>\n",
       "    <tr>\n",
       "      <th>2</th>\n",
       "      <td>-2.698765</td>\n",
       "      <td>-1.753604</td>\n",
       "      <td>-1.789623</td>\n",
       "      <td>-3.505589</td>\n",
       "    </tr>\n",
       "    <tr>\n",
       "      <th>3</th>\n",
       "      <td>-3.861452</td>\n",
       "      <td>-3.641115</td>\n",
       "      <td>-3.809173</td>\n",
       "      <td>-1.615557</td>\n",
       "    </tr>\n",
       "    <tr>\n",
       "      <th>4</th>\n",
       "      <td>2.056016</td>\n",
       "      <td>3.801538</td>\n",
       "      <td>-1.998786</td>\n",
       "      <td>-0.117072</td>\n",
       "    </tr>\n",
       "    <tr>\n",
       "      <th>5</th>\n",
       "      <td>0.245556</td>\n",
       "      <td>3.343963</td>\n",
       "      <td>-3.962128</td>\n",
       "      <td>-2.549399</td>\n",
       "    </tr>\n",
       "    <tr>\n",
       "      <th>6</th>\n",
       "      <td>0.980815</td>\n",
       "      <td>-3.709113</td>\n",
       "      <td>-3.245773</td>\n",
       "      <td>-0.499412</td>\n",
       "    </tr>\n",
       "    <tr>\n",
       "      <th>7</th>\n",
       "      <td>1.284562</td>\n",
       "      <td>1.689672</td>\n",
       "      <td>-0.191710</td>\n",
       "      <td>-3.143283</td>\n",
       "    </tr>\n",
       "    <tr>\n",
       "      <th>8</th>\n",
       "      <td>-4.635536</td>\n",
       "      <td>-3.704511</td>\n",
       "      <td>-3.397017</td>\n",
       "      <td>-1.520294</td>\n",
       "    </tr>\n",
       "    <tr>\n",
       "      <th>9</th>\n",
       "      <td>-3.830807</td>\n",
       "      <td>0.023586</td>\n",
       "      <td>1.806482</td>\n",
       "      <td>-1.282120</td>\n",
       "    </tr>\n",
       "  </tbody>\n",
       "</table>\n",
       "</div>"
      ],
      "text/plain": [
       "         x1        x2        x3        x4\n",
       "0 -3.917801  4.882211  3.633671  1.869447\n",
       "1  2.289611  1.187278 -1.661479  3.050628\n",
       "2 -2.698765 -1.753604 -1.789623 -3.505589\n",
       "3 -3.861452 -3.641115 -3.809173 -1.615557\n",
       "4  2.056016  3.801538 -1.998786 -0.117072\n",
       "5  0.245556  3.343963 -3.962128 -2.549399\n",
       "6  0.980815 -3.709113 -3.245773 -0.499412\n",
       "7  1.284562  1.689672 -0.191710 -3.143283\n",
       "8 -4.635536 -3.704511 -3.397017 -1.520294\n",
       "9 -3.830807  0.023586  1.806482 -1.282120"
      ]
     },
     "execution_count": 31,
     "metadata": {},
     "output_type": "execute_result"
    }
   ],
   "source": [
    "# 乱数による、データ作成\n",
    "import random\n",
    "x1 = [random.uniform(-5,5) for _ in range(10)]\n",
    "x2 = [random.uniform(-5,5) for _ in range(10)]\n",
    "x3 = [random.uniform(-5,5) for _ in range(10)]\n",
    "x4 = [random.uniform(-5,5) for _ in range(10)]\n",
    "df = pd.DataFrame({'x1':x1,'x2':x2,'x3':x3,'x4':x4})\n",
    "df"
   ]
  },
  {
   "cell_type": "code",
   "execution_count": 86,
   "metadata": {},
   "outputs": [
    {
     "data": {
      "text/plain": [
       "pandas.core.frame.DataFrame"
      ]
     },
     "execution_count": 86,
     "metadata": {},
     "output_type": "execute_result"
    }
   ],
   "source": [
    "type(df)"
   ]
  },
  {
   "cell_type": "code",
   "execution_count": 38,
   "metadata": {},
   "outputs": [
    {
     "data": {
      "text/plain": [
       "x1    float64\n",
       "x2    float64\n",
       "x3    float64\n",
       "x4    float64\n",
       "dtype: object"
      ]
     },
     "execution_count": 38,
     "metadata": {},
     "output_type": "execute_result"
    }
   ],
   "source": [
    "# インプットデータのデータ型\n",
    "df.dtypes"
   ]
  },
  {
   "cell_type": "code",
   "execution_count": 60,
   "metadata": {},
   "outputs": [
    {
     "name": "stdout",
     "output_type": "stream",
     "text": [
      "2020-12-27 00:17:51,872 C:  0% D:224.9GB M:29.8GB  NODE:SERVER      17986  INFO   | Submitted    0 and Completed    0 non-identity feature engineering tasks out of    4 total tasks (including    4 identity)\n"
     ]
    },
    {
     "data": {
      "text/html": [
       "<div>\n",
       "<style scoped>\n",
       "    .dataframe tbody tr th:only-of-type {\n",
       "        vertical-align: middle;\n",
       "    }\n",
       "\n",
       "    .dataframe tbody tr th {\n",
       "        vertical-align: top;\n",
       "    }\n",
       "\n",
       "    .dataframe thead th {\n",
       "        text-align: right;\n",
       "    }\n",
       "</style>\n",
       "<table border=\"1\" class=\"dataframe\">\n",
       "  <thead>\n",
       "    <tr style=\"text-align: right;\">\n",
       "      <th></th>\n",
       "      <th>y</th>\n",
       "    </tr>\n",
       "  </thead>\n",
       "  <tbody>\n",
       "    <tr>\n",
       "      <th>0</th>\n",
       "      <td>5.220603</td>\n",
       "    </tr>\n",
       "    <tr>\n",
       "      <th>1</th>\n",
       "      <td>2.739367</td>\n",
       "    </tr>\n",
       "    <tr>\n",
       "      <th>2</th>\n",
       "      <td>2.789081</td>\n",
       "    </tr>\n",
       "    <tr>\n",
       "      <th>3</th>\n",
       "      <td>1.320055</td>\n",
       "    </tr>\n",
       "    <tr>\n",
       "      <th>4</th>\n",
       "      <td>5.507656</td>\n",
       "    </tr>\n",
       "    <tr>\n",
       "      <th>5</th>\n",
       "      <td>6.165310</td>\n",
       "    </tr>\n",
       "    <tr>\n",
       "      <th>6</th>\n",
       "      <td>0.898444</td>\n",
       "    </tr>\n",
       "    <tr>\n",
       "      <th>7</th>\n",
       "      <td>4.237808</td>\n",
       "    </tr>\n",
       "    <tr>\n",
       "      <th>8</th>\n",
       "      <td>0.935505</td>\n",
       "    </tr>\n",
       "    <tr>\n",
       "      <th>9</th>\n",
       "      <td>-2.013859</td>\n",
       "    </tr>\n",
       "  </tbody>\n",
       "</table>\n",
       "</div>"
      ],
      "text/plain": [
       "          y\n",
       "0  5.220603\n",
       "1  2.739367\n",
       "2  2.789081\n",
       "3  1.320055\n",
       "4  5.507656\n",
       "5  6.165310\n",
       "6  0.898444\n",
       "7  4.237808\n",
       "8  0.935505\n",
       "9 -2.013859"
      ]
     },
     "metadata": {},
     "output_type": "display_data"
    }
   ],
   "source": [
    "import time\n",
    "start = time.time()    # 実行時間計測\n",
    "\n",
    "res = scorer.score_batch(df)   # スコアリング\n",
    "display(res)\n",
    "\n",
    "e_time = time.time() - start "
   ]
  },
  {
   "cell_type": "code",
   "execution_count": 53,
   "metadata": {},
   "outputs": [
    {
     "name": "stdout",
     "output_type": "stream",
     "text": [
      "e_time:0.32343506813049316[s]\n"
     ]
    }
   ],
   "source": [
    "# 実行時間\n",
    "print (\"e_time:{0}\".format(e_time) + \"[s]\")"
   ]
  },
  {
   "cell_type": "markdown",
   "metadata": {},
   "source": [
    "**【推奨】 なお、Driverless AIとの一貫性を持たし、高速化させる場合はdataframeオブジェクトをスコアリングメソッドへ渡す**"
   ]
  },
  {
   "cell_type": "code",
   "execution_count": 64,
   "metadata": {},
   "outputs": [
    {
     "data": {
      "text/html": [
       "<div class='datatable'>\n",
       "  <table class='frame'>\n",
       "  <thead>\n",
       "    <tr class='colnames'><td class='row_index'></td><th>x1</th><th>x2</th><th>x3</th><th>x4</th></tr>\n",
       "    <tr class='coltypes'><td class='row_index'></td><td class='float' title='float64'>&#x25AA;&#x25AA;&#x25AA;&#x25AA;&#x25AA;&#x25AA;&#x25AA;&#x25AA;</td><td class='float' title='float64'>&#x25AA;&#x25AA;&#x25AA;&#x25AA;&#x25AA;&#x25AA;&#x25AA;&#x25AA;</td><td class='float' title='float64'>&#x25AA;&#x25AA;&#x25AA;&#x25AA;&#x25AA;&#x25AA;&#x25AA;&#x25AA;</td><td class='float' title='float64'>&#x25AA;&#x25AA;&#x25AA;&#x25AA;&#x25AA;&#x25AA;&#x25AA;&#x25AA;</td></tr>\n",
       "  </thead>\n",
       "  <tbody>\n",
       "    <tr><td class='row_index'>0</td><td>&minus;3.9178</td><td>4.88221</td><td>3.63367</td><td>1.86945</td></tr>\n",
       "    <tr><td class='row_index'>1</td><td>2.28961</td><td>1.18728</td><td>&minus;1.66148</td><td>3.05063</td></tr>\n",
       "    <tr><td class='row_index'>2</td><td>&minus;2.69876</td><td>&minus;1.7536</td><td>&minus;1.78962</td><td>&minus;3.50559</td></tr>\n",
       "    <tr><td class='row_index'>3</td><td>&minus;3.86145</td><td>&minus;3.64112</td><td>&minus;3.80917</td><td>&minus;1.61556</td></tr>\n",
       "    <tr><td class='row_index'>4</td><td>2.05602</td><td>3.80154</td><td>&minus;1.99879</td><td>&minus;0.117072</td></tr>\n",
       "    <tr><td class='row_index'>5</td><td>0.245556</td><td>3.34396</td><td>&minus;3.96213</td><td>&minus;2.5494</td></tr>\n",
       "    <tr><td class='row_index'>6</td><td>0.980815</td><td>&minus;3.70911</td><td>&minus;3.24577</td><td>&minus;0.499412</td></tr>\n",
       "    <tr><td class='row_index'>7</td><td>1.28456</td><td>1.68967</td><td>&minus;0.19171</td><td>&minus;3.14328</td></tr>\n",
       "    <tr><td class='row_index'>8</td><td>&minus;4.63554</td><td>&minus;3.70451</td><td>&minus;3.39702</td><td>&minus;1.52029</td></tr>\n",
       "    <tr><td class='row_index'>9</td><td>&minus;3.83081</td><td>0.0235856</td><td>1.80648</td><td>&minus;1.28212</td></tr>\n",
       "  </tbody>\n",
       "  </table>\n",
       "  <div class='footer'>\n",
       "    <div class='frame_dimensions'>10 rows &times; 4 columns</div>\n",
       "  </div>\n",
       "</div>\n"
      ],
      "text/plain": [
       "<Frame#7fe7bf725c60 10x4>"
      ]
     },
     "execution_count": 64,
     "metadata": {},
     "output_type": "execute_result"
    }
   ],
   "source": [
    "import datatable\n",
    "dt = datatable.Frame(df)   # pandas.DataFrameからdatatable.Frameへ変換\n",
    "dt"
   ]
  },
  {
   "cell_type": "code",
   "execution_count": 65,
   "metadata": {},
   "outputs": [
    {
     "data": {
      "text/plain": [
       "datatable.Frame"
      ]
     },
     "execution_count": 65,
     "metadata": {},
     "output_type": "execute_result"
    }
   ],
   "source": [
    "type(dt)"
   ]
  },
  {
   "cell_type": "code",
   "execution_count": 85,
   "metadata": {},
   "outputs": [
    {
     "name": "stdout",
     "output_type": "stream",
     "text": [
      "x1 :  stype.float64\n",
      "x2 :  stype.float64\n",
      "x3 :  stype.float64\n",
      "x4 :  stype.float64\n"
     ]
    }
   ],
   "source": [
    "# インプットデータのデータ型\n",
    "for col in dt.names:\n",
    "    print(col, \": \", dt[col].stype)"
   ]
  },
  {
   "cell_type": "code",
   "execution_count": 87,
   "metadata": {},
   "outputs": [
    {
     "name": "stdout",
     "output_type": "stream",
     "text": [
      "2020-12-27 00:32:51,818 C:  0% D:224.9GB M:29.8GB  NODE:SERVER      17986  INFO   | Submitted    0 and Completed    0 non-identity feature engineering tasks out of    4 total tasks (including    4 identity)\n"
     ]
    },
    {
     "data": {
      "text/html": [
       "<div>\n",
       "<style scoped>\n",
       "    .dataframe tbody tr th:only-of-type {\n",
       "        vertical-align: middle;\n",
       "    }\n",
       "\n",
       "    .dataframe tbody tr th {\n",
       "        vertical-align: top;\n",
       "    }\n",
       "\n",
       "    .dataframe thead th {\n",
       "        text-align: right;\n",
       "    }\n",
       "</style>\n",
       "<table border=\"1\" class=\"dataframe\">\n",
       "  <thead>\n",
       "    <tr style=\"text-align: right;\">\n",
       "      <th></th>\n",
       "      <th>y</th>\n",
       "    </tr>\n",
       "  </thead>\n",
       "  <tbody>\n",
       "    <tr>\n",
       "      <th>0</th>\n",
       "      <td>5.220603</td>\n",
       "    </tr>\n",
       "    <tr>\n",
       "      <th>1</th>\n",
       "      <td>2.739367</td>\n",
       "    </tr>\n",
       "    <tr>\n",
       "      <th>2</th>\n",
       "      <td>2.789081</td>\n",
       "    </tr>\n",
       "    <tr>\n",
       "      <th>3</th>\n",
       "      <td>1.320055</td>\n",
       "    </tr>\n",
       "    <tr>\n",
       "      <th>4</th>\n",
       "      <td>5.507656</td>\n",
       "    </tr>\n",
       "    <tr>\n",
       "      <th>5</th>\n",
       "      <td>6.165310</td>\n",
       "    </tr>\n",
       "    <tr>\n",
       "      <th>6</th>\n",
       "      <td>0.898444</td>\n",
       "    </tr>\n",
       "    <tr>\n",
       "      <th>7</th>\n",
       "      <td>4.237808</td>\n",
       "    </tr>\n",
       "    <tr>\n",
       "      <th>8</th>\n",
       "      <td>0.935505</td>\n",
       "    </tr>\n",
       "    <tr>\n",
       "      <th>9</th>\n",
       "      <td>-2.013859</td>\n",
       "    </tr>\n",
       "  </tbody>\n",
       "</table>\n",
       "</div>"
      ],
      "text/plain": [
       "          y\n",
       "0  5.220603\n",
       "1  2.739367\n",
       "2  2.789081\n",
       "3  1.320055\n",
       "4  5.507656\n",
       "5  6.165310\n",
       "6  0.898444\n",
       "7  4.237808\n",
       "8  0.935505\n",
       "9 -2.013859"
      ]
     },
     "metadata": {},
     "output_type": "display_data"
    }
   ],
   "source": [
    "start = time.time()    # 実行時間計測\n",
    "\n",
    "res = scorer.score_batch(dt)   # スコアリング\n",
    "display(res)\n",
    "\n",
    "e_time = time.time() - start "
   ]
  },
  {
   "cell_type": "code",
   "execution_count": 88,
   "metadata": {},
   "outputs": [
    {
     "name": "stdout",
     "output_type": "stream",
     "text": [
      "e_time:0.30411601066589355[s]\n"
     ]
    }
   ],
   "source": [
    "# 実行時間\n",
    "print (\"e_time:{0}\".format(e_time) + \"[s]\")"
   ]
  },
  {
   "cell_type": "markdown",
   "metadata": {},
   "source": [
    "---"
   ]
  },
  {
   "cell_type": "markdown",
   "metadata": {},
   "source": [
    "### Scorer.fit_transform_batch()メソッドによる特徴量変換\n",
    "- Driverless AIの[Transform Anothe Dataset]（特徴量エンジニアリングパイプライン）"
   ]
  },
  {
   "cell_type": "code",
   "execution_count": 96,
   "metadata": {
    "scrolled": true
   },
   "outputs": [
    {
     "data": {
      "text/html": [
       "<div>\n",
       "<style scoped>\n",
       "    .dataframe tbody tr th:only-of-type {\n",
       "        vertical-align: middle;\n",
       "    }\n",
       "\n",
       "    .dataframe tbody tr th {\n",
       "        vertical-align: top;\n",
       "    }\n",
       "\n",
       "    .dataframe thead th {\n",
       "        text-align: right;\n",
       "    }\n",
       "</style>\n",
       "<table border=\"1\" class=\"dataframe\">\n",
       "  <thead>\n",
       "    <tr style=\"text-align: right;\">\n",
       "      <th></th>\n",
       "      <th>x1</th>\n",
       "      <th>x2</th>\n",
       "      <th>x3</th>\n",
       "      <th>x4</th>\n",
       "      <th>y</th>\n",
       "    </tr>\n",
       "  </thead>\n",
       "  <tbody>\n",
       "    <tr>\n",
       "      <th>0</th>\n",
       "      <td>-3.917801</td>\n",
       "      <td>4.882211</td>\n",
       "      <td>3.633671</td>\n",
       "      <td>1.869447</td>\n",
       "      <td>0.564277</td>\n",
       "    </tr>\n",
       "    <tr>\n",
       "      <th>1</th>\n",
       "      <td>2.289611</td>\n",
       "      <td>1.187278</td>\n",
       "      <td>-1.661479</td>\n",
       "      <td>3.050628</td>\n",
       "      <td>-0.396532</td>\n",
       "    </tr>\n",
       "    <tr>\n",
       "      <th>2</th>\n",
       "      <td>-2.698765</td>\n",
       "      <td>-1.753604</td>\n",
       "      <td>-1.789623</td>\n",
       "      <td>-3.505589</td>\n",
       "      <td>0.867018</td>\n",
       "    </tr>\n",
       "    <tr>\n",
       "      <th>3</th>\n",
       "      <td>-3.861452</td>\n",
       "      <td>-3.641115</td>\n",
       "      <td>-3.809173</td>\n",
       "      <td>-1.615557</td>\n",
       "      <td>-0.234887</td>\n",
       "    </tr>\n",
       "    <tr>\n",
       "      <th>4</th>\n",
       "      <td>2.056016</td>\n",
       "      <td>3.801538</td>\n",
       "      <td>-1.998786</td>\n",
       "      <td>-0.117072</td>\n",
       "      <td>0.513329</td>\n",
       "    </tr>\n",
       "    <tr>\n",
       "      <th>5</th>\n",
       "      <td>0.245556</td>\n",
       "      <td>3.343963</td>\n",
       "      <td>-3.962128</td>\n",
       "      <td>-2.549399</td>\n",
       "      <td>-0.580393</td>\n",
       "    </tr>\n",
       "    <tr>\n",
       "      <th>6</th>\n",
       "      <td>0.980815</td>\n",
       "      <td>-3.709113</td>\n",
       "      <td>-3.245773</td>\n",
       "      <td>-0.499412</td>\n",
       "      <td>0.079676</td>\n",
       "    </tr>\n",
       "    <tr>\n",
       "      <th>7</th>\n",
       "      <td>1.284562</td>\n",
       "      <td>1.689672</td>\n",
       "      <td>-0.191710</td>\n",
       "      <td>-3.143283</td>\n",
       "      <td>-0.255809</td>\n",
       "    </tr>\n",
       "    <tr>\n",
       "      <th>8</th>\n",
       "      <td>-4.635536</td>\n",
       "      <td>-3.704511</td>\n",
       "      <td>-3.397017</td>\n",
       "      <td>-1.520294</td>\n",
       "      <td>0.290084</td>\n",
       "    </tr>\n",
       "    <tr>\n",
       "      <th>9</th>\n",
       "      <td>-3.830807</td>\n",
       "      <td>0.023586</td>\n",
       "      <td>1.806482</td>\n",
       "      <td>-1.282120</td>\n",
       "      <td>-0.592879</td>\n",
       "    </tr>\n",
       "  </tbody>\n",
       "</table>\n",
       "</div>"
      ],
      "text/plain": [
       "         x1        x2        x3        x4         y\n",
       "0 -3.917801  4.882211  3.633671  1.869447  0.564277\n",
       "1  2.289611  1.187278 -1.661479  3.050628 -0.396532\n",
       "2 -2.698765 -1.753604 -1.789623 -3.505589  0.867018\n",
       "3 -3.861452 -3.641115 -3.809173 -1.615557 -0.234887\n",
       "4  2.056016  3.801538 -1.998786 -0.117072  0.513329\n",
       "5  0.245556  3.343963 -3.962128 -2.549399 -0.580393\n",
       "6  0.980815 -3.709113 -3.245773 -0.499412  0.079676\n",
       "7  1.284562  1.689672 -0.191710 -3.143283 -0.255809\n",
       "8 -4.635536 -3.704511 -3.397017 -1.520294  0.290084\n",
       "9 -3.830807  0.023586  1.806482 -1.282120 -0.592879"
      ]
     },
     "execution_count": 96,
     "metadata": {},
     "output_type": "execute_result"
    }
   ],
   "source": [
    "df['y'] = pd.Series([random.uniform(-1,1) for _ in range(10)])\n",
    "df"
   ]
  },
  {
   "cell_type": "code",
   "execution_count": 104,
   "metadata": {},
   "outputs": [
    {
     "name": "stdout",
     "output_type": "stream",
     "text": [
      "2020-12-27 01:09:53,906 C:  0% D:224.9GB M:29.8GB  NODE:SERVER      17986  INFO   | Using 1 parallel workers (1 parent workers) for fit_transform.\n",
      "2020-12-27 01:09:54,084 C:  0% D:224.9GB M:29.8GB  NODE:SERVER      17986  INFO   | Submitted    0 and Completed    0 non-identity feature engineering tasks out of    4 total tasks (including    4 identity)\n",
      "2020-12-27 01:09:54,281 C:  0% D:224.9GB M:29.8GB  NODE:SERVER      17986  INFO   | Submitted    0 and Completed    0 non-identity feature engineering tasks out of    4 total tasks (including    4 identity)\n",
      "2020-12-27 01:09:54,466 C:  0% D:224.9GB M:29.8GB  NODE:SERVER      17986  INFO   | Submitted    0 and Completed    0 non-identity feature engineering tasks out of    4 total tasks (including    4 identity)\n"
     ]
    }
   ],
   "source": [
    "train_transformed, valid_transformed, test_transformed = scorer.fit_transform_batch(train_frame=df, valid_frame=df, test_frame=df)"
   ]
  },
  {
   "cell_type": "markdown",
   "metadata": {},
   "source": [
    "- train_frame： あてはめ用\n",
    "- valid_frame： ハイパーパラメータチューニングの検証用\n",
    "- test_frame： 変換後データ"
   ]
  },
  {
   "cell_type": "code",
   "execution_count": 105,
   "metadata": {},
   "outputs": [
    {
     "data": {
      "text/html": [
       "<div>\n",
       "<style scoped>\n",
       "    .dataframe tbody tr th:only-of-type {\n",
       "        vertical-align: middle;\n",
       "    }\n",
       "\n",
       "    .dataframe tbody tr th {\n",
       "        vertical-align: top;\n",
       "    }\n",
       "\n",
       "    .dataframe thead th {\n",
       "        text-align: right;\n",
       "    }\n",
       "</style>\n",
       "<table border=\"1\" class=\"dataframe\">\n",
       "  <thead>\n",
       "    <tr style=\"text-align: right;\">\n",
       "      <th></th>\n",
       "      <th>0_x1</th>\n",
       "      <th>1_x2</th>\n",
       "      <th>2_x3</th>\n",
       "      <th>3_x4</th>\n",
       "      <th>y</th>\n",
       "    </tr>\n",
       "  </thead>\n",
       "  <tbody>\n",
       "    <tr>\n",
       "      <th>0</th>\n",
       "      <td>-3.917801</td>\n",
       "      <td>4.882211</td>\n",
       "      <td>3.633671</td>\n",
       "      <td>1.869447</td>\n",
       "      <td>0.564277</td>\n",
       "    </tr>\n",
       "    <tr>\n",
       "      <th>1</th>\n",
       "      <td>2.289611</td>\n",
       "      <td>1.187278</td>\n",
       "      <td>-1.661479</td>\n",
       "      <td>3.050628</td>\n",
       "      <td>-0.396532</td>\n",
       "    </tr>\n",
       "    <tr>\n",
       "      <th>2</th>\n",
       "      <td>-2.698765</td>\n",
       "      <td>-1.753604</td>\n",
       "      <td>-1.789623</td>\n",
       "      <td>-3.505589</td>\n",
       "      <td>0.867018</td>\n",
       "    </tr>\n",
       "    <tr>\n",
       "      <th>3</th>\n",
       "      <td>-3.861452</td>\n",
       "      <td>-3.641115</td>\n",
       "      <td>-3.809173</td>\n",
       "      <td>-1.615557</td>\n",
       "      <td>-0.234887</td>\n",
       "    </tr>\n",
       "    <tr>\n",
       "      <th>4</th>\n",
       "      <td>2.056016</td>\n",
       "      <td>3.801538</td>\n",
       "      <td>-1.998786</td>\n",
       "      <td>-0.117072</td>\n",
       "      <td>0.513329</td>\n",
       "    </tr>\n",
       "    <tr>\n",
       "      <th>5</th>\n",
       "      <td>0.245556</td>\n",
       "      <td>3.343963</td>\n",
       "      <td>-3.962128</td>\n",
       "      <td>-2.549399</td>\n",
       "      <td>-0.580393</td>\n",
       "    </tr>\n",
       "    <tr>\n",
       "      <th>6</th>\n",
       "      <td>0.980815</td>\n",
       "      <td>-3.709112</td>\n",
       "      <td>-3.245773</td>\n",
       "      <td>-0.499412</td>\n",
       "      <td>0.079676</td>\n",
       "    </tr>\n",
       "    <tr>\n",
       "      <th>7</th>\n",
       "      <td>1.284562</td>\n",
       "      <td>1.689672</td>\n",
       "      <td>-0.191710</td>\n",
       "      <td>-3.143283</td>\n",
       "      <td>-0.255809</td>\n",
       "    </tr>\n",
       "    <tr>\n",
       "      <th>8</th>\n",
       "      <td>-4.635536</td>\n",
       "      <td>-3.704511</td>\n",
       "      <td>-3.397017</td>\n",
       "      <td>-1.520294</td>\n",
       "      <td>0.290084</td>\n",
       "    </tr>\n",
       "    <tr>\n",
       "      <th>9</th>\n",
       "      <td>-3.830807</td>\n",
       "      <td>0.023586</td>\n",
       "      <td>1.806482</td>\n",
       "      <td>-1.282120</td>\n",
       "      <td>-0.592879</td>\n",
       "    </tr>\n",
       "  </tbody>\n",
       "</table>\n",
       "</div>"
      ],
      "text/plain": [
       "       0_x1      1_x2      2_x3      3_x4         y\n",
       "0 -3.917801  4.882211  3.633671  1.869447  0.564277\n",
       "1  2.289611  1.187278 -1.661479  3.050628 -0.396532\n",
       "2 -2.698765 -1.753604 -1.789623 -3.505589  0.867018\n",
       "3 -3.861452 -3.641115 -3.809173 -1.615557 -0.234887\n",
       "4  2.056016  3.801538 -1.998786 -0.117072  0.513329\n",
       "5  0.245556  3.343963 -3.962128 -2.549399 -0.580393\n",
       "6  0.980815 -3.709112 -3.245773 -0.499412  0.079676\n",
       "7  1.284562  1.689672 -0.191710 -3.143283 -0.255809\n",
       "8 -4.635536 -3.704511 -3.397017 -1.520294  0.290084\n",
       "9 -3.830807  0.023586  1.806482 -1.282120 -0.592879"
      ]
     },
     "execution_count": 105,
     "metadata": {},
     "output_type": "execute_result"
    }
   ],
   "source": [
    "test_transformed"
   ]
  },
  {
   "cell_type": "markdown",
   "metadata": {},
   "source": [
    "本スコアリングパイプラインでは特徴量変換が実施されていないため、インプットデータと変換後データが同じ"
   ]
  },
  {
   "cell_type": "code",
   "execution_count": null,
   "metadata": {},
   "outputs": [],
   "source": []
  }
 ],
 "metadata": {
  "kernelspec": {
   "display_name": "Python 3",
   "language": "python",
   "name": "python3"
  },
  "language_info": {
   "codemirror_mode": {
    "name": "ipython",
    "version": 3
   },
   "file_extension": ".py",
   "mimetype": "text/x-python",
   "name": "python",
   "nbconvert_exporter": "python",
   "pygments_lexer": "ipython3",
   "version": "3.6.12"
  }
 },
 "nbformat": 4,
 "nbformat_minor": 4
}
