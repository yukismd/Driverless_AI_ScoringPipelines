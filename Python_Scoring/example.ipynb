{
 "cells": [
  {
   "cell_type": "markdown",
   "metadata": {},
   "source": [
    "## Driverless AI - Python Scoring Pipeline 実行サンプル（ローカル環境）"
   ]
  },
  {
   "cell_type": "markdown",
   "metadata": {},
   "source": [
    "スコアリングフォルダ(scoring-pipeline)のexample.pyをJupyter上で実施したデモ"
   ]
  },
  {
   "cell_type": "markdown",
   "metadata": {},
   "source": [
    "環境：\n",
    "- Ubunto18.04（AWS EC2, t2.2xlarge）をローカル環境として実行\n",
    "- Driverless AI 1.8.8 Python Scoring Pipeline"
   ]
  },
  {
   "cell_type": "code",
   "execution_count": 1,
   "metadata": {},
   "outputs": [],
   "source": [
    "import pandas as pd\n",
    "import numpy as np\n",
    "from numpy import nan\n",
    "from scipy.special._ufuncs import expit"
   ]
  },
  {
   "cell_type": "markdown",
   "metadata": {},
   "source": [
    "スコアリングモデルのインポート（Python実行環境へ、スコアリングフォルダのscoring_h2oai_experiment_0bdb6222_458f_11eb_91c1_0242ac110002-1.0.0-py3-none-any.whlファイルからインストール済み）"
   ]
  },
  {
   "cell_type": "code",
   "execution_count": 3,
   "metadata": {},
   "outputs": [],
   "source": [
    "from scoring_h2oai_experiment_0bdb6222_458f_11eb_91c1_0242ac110002 import Scorer"
   ]
  },
  {
   "cell_type": "markdown",
   "metadata": {},
   "source": [
    "### Scorerのインスタンス化  \n",
    "- パフォーマンスの観点からScorerのインスタンス化は一つだけとし、score()もしくはscore_batch()を同インスタンスから複数回呼び出すのが良い"
   ]
  },
  {
   "cell_type": "code",
   "execution_count": 4,
   "metadata": {},
   "outputs": [
    {
     "name": "stdout",
     "output_type": "stream",
     "text": [
      "2020-12-27 01:28:02,767 C: NA  D:  NA    M:  NA    NODE:SERVER      19017  INFO   | License manager initialized\n",
      "2020-12-27 01:28:02,769 C: NA  D:  NA    M:  NA    NODE:SERVER      19017  INFO   | -----------------------------------------------------------------\n",
      "2020-12-27 01:28:02,771 C: NA  D:  NA    M:  NA    NODE:SERVER      19017  INFO   | Checking whether we have a valid license...\n",
      "2020-12-27 01:28:02,772 C: NA  D:  NA    M:  NA    NODE:SERVER      19017  INFO   | No Cloud provider found\n",
      "2020-12-27 01:28:02,774 C: NA  D:  NA    M:  NA    NODE:SERVER      19017  INFO   | License inherited from environment\n",
      "2020-12-27 01:28:02,782 C: NA  D:  NA    M:  NA    NODE:SERVER      19017  INFO   | \n",
      "2020-12-27 01:28:02,784 C: NA  D:  NA    M:  NA    NODE:SERVER      19017  INFO   | license_version:1\n",
      "2020-12-27 01:28:02,786 C: NA  D:  NA    M:  NA    NODE:SERVER      19017  INFO   | serial_number:3\n",
      "2020-12-27 01:28:02,787 C: NA  D:  NA    M:  NA    NODE:SERVER      19017  INFO   | licensee_organization:H2O.ai\n",
      "2020-12-27 01:28:02,789 C: NA  D:  NA    M:  NA    NODE:SERVER      19017  INFO   | licensee_email:tomk@h2o.ai\n",
      "2020-12-27 01:28:02,791 C: NA  D:  NA    M:  NA    NODE:SERVER      19017  INFO   | licensee_user_id:3\n",
      "2020-12-27 01:28:02,792 C: NA  D:  NA    M:  NA    NODE:SERVER      19017  INFO   | is_h2o_internal_use:true\n",
      "2020-12-27 01:28:02,794 C: NA  D:  NA    M:  NA    NODE:SERVER      19017  INFO   | created_by_email:tomk@h2o.ai\n",
      "2020-12-27 01:28:02,796 C: NA  D:  NA    M:  NA    NODE:SERVER      19017  INFO   | creation_date:2020/12/16\n",
      "2020-12-27 01:28:02,797 C: NA  D:  NA    M:  NA    NODE:SERVER      19017  INFO   | product:DriverlessAI\n",
      "2020-12-27 01:28:02,799 C: NA  D:  NA    M:  NA    NODE:SERVER      19017  INFO   | license_type:developer\n",
      "2020-12-27 01:28:02,801 C: NA  D:  NA    M:  NA    NODE:SERVER      19017  INFO   | expiration_date:2021/12/31\n",
      "2020-12-27 01:28:02,802 C: NA  D:  NA    M:  NA    NODE:SERVER      19017  INFO   | \n",
      "2020-12-27 01:28:02,805 C: NA  D:  NA    M:  NA    NODE:SERVER      19017  INFO   | License is valid\n",
      "2020-12-27 01:28:02,806 C: NA  D:  NA    M:  NA    NODE:SERVER      19017  INFO   | -----------------------------------------------------------------\n"
     ]
    }
   ],
   "source": [
    "scorer = Scorer()"
   ]
  },
  {
   "cell_type": "markdown",
   "metadata": {},
   "source": [
    "---"
   ]
  },
  {
   "cell_type": "markdown",
   "metadata": {},
   "source": [
    "インプット（特徴量）情報  \n",
    "- Rangeは、学習データの最大・最小範囲"
   ]
  },
  {
   "cell_type": "markdown",
   "metadata": {},
   "source": [
    "| Name | Type    | Range                                     | \n",
    "| ---- | ------- | ----------------------------------------- | \n",
    "| x1   | float32 | [-3.0065999031066895, 2.7874999046325684] | \n",
    "| x2   | float32 | [-4.136000156402588, 3.256700038909912]   | \n",
    "| x3   | float32 | [-3.0952999591827393, 3.3822999000549316] | \n",
    "| x4   | float32 | [-3.42330002784729, 3.0445001125335693] | "
   ]
  },
  {
   "cell_type": "markdown",
   "metadata": {},
   "source": [
    "---"
   ]
  },
  {
   "cell_type": "markdown",
   "metadata": {},
   "source": [
    "### Scorer.score()メソッドによる一行スコアリング"
   ]
  },
  {
   "cell_type": "code",
   "execution_count": 5,
   "metadata": {},
   "outputs": [
    {
     "name": "stdout",
     "output_type": "stream",
     "text": [
      "2020-12-27 01:28:08,115 C:  0% D:224.9GB M:30.2GB  NODE:SERVER      19017  INFO   | Submitted    0 and Completed    0 non-identity feature engineering tasks out of    4 total tasks (including    4 identity)\n"
     ]
    },
    {
     "data": {
      "text/plain": [
       "[-1.3629496097564697]"
      ]
     },
     "execution_count": 5,
     "metadata": {},
     "output_type": "execute_result"
    }
   ],
   "source": [
    "scorer.score([\n",
    "    '-2.631',  # x1\n",
    "    '1.277',  # x2\n",
    "    '-2.797',  # x3\n",
    "    '3.319',  # x4\n",
    "])"
   ]
  },
  {
   "cell_type": "code",
   "execution_count": 6,
   "metadata": {},
   "outputs": [
    {
     "name": "stdout",
     "output_type": "stream",
     "text": [
      "2020-12-27 01:28:10,037 C:  3% D:224.9GB M:30.2GB  NODE:SERVER      19017  INFO   | Submitted    0 and Completed    0 non-identity feature engineering tasks out of    4 total tasks (including    4 identity)\n"
     ]
    },
    {
     "data": {
      "text/plain": [
       "[8.19909954071045]"
      ]
     },
     "execution_count": 6,
     "metadata": {},
     "output_type": "execute_result"
    }
   ],
   "source": [
    "# 学習データの最大・最小範囲外でもスコアリング可能\n",
    "scorer.score([\n",
    "    '10',  # x1\n",
    "    '10',  # x2\n",
    "    '10',  # x3\n",
    "    '10',  # x4\n",
    "])"
   ]
  },
  {
   "cell_type": "markdown",
   "metadata": {},
   "source": [
    "---"
   ]
  },
  {
   "cell_type": "markdown",
   "metadata": {},
   "source": [
    "### Scorer.score_batch()メソッドによるデータテーブルのバッチスコアリング"
   ]
  },
  {
   "cell_type": "code",
   "execution_count": 7,
   "metadata": {},
   "outputs": [
    {
     "data": {
      "text/html": [
       "<div>\n",
       "<style scoped>\n",
       "    .dataframe tbody tr th:only-of-type {\n",
       "        vertical-align: middle;\n",
       "    }\n",
       "\n",
       "    .dataframe tbody tr th {\n",
       "        vertical-align: top;\n",
       "    }\n",
       "\n",
       "    .dataframe thead th {\n",
       "        text-align: right;\n",
       "    }\n",
       "</style>\n",
       "<table border=\"1\" class=\"dataframe\">\n",
       "  <thead>\n",
       "    <tr style=\"text-align: right;\">\n",
       "      <th></th>\n",
       "      <th>x1</th>\n",
       "      <th>x2</th>\n",
       "      <th>x3</th>\n",
       "      <th>x4</th>\n",
       "    </tr>\n",
       "  </thead>\n",
       "  <tbody>\n",
       "    <tr>\n",
       "      <th>0</th>\n",
       "      <td>-1.753050</td>\n",
       "      <td>2.821383</td>\n",
       "      <td>4.254005</td>\n",
       "      <td>-2.973499</td>\n",
       "    </tr>\n",
       "    <tr>\n",
       "      <th>1</th>\n",
       "      <td>-4.019309</td>\n",
       "      <td>-1.982661</td>\n",
       "      <td>3.160610</td>\n",
       "      <td>4.619455</td>\n",
       "    </tr>\n",
       "    <tr>\n",
       "      <th>2</th>\n",
       "      <td>4.225120</td>\n",
       "      <td>4.335088</td>\n",
       "      <td>-4.099486</td>\n",
       "      <td>-4.481148</td>\n",
       "    </tr>\n",
       "    <tr>\n",
       "      <th>3</th>\n",
       "      <td>-3.775419</td>\n",
       "      <td>-1.174434</td>\n",
       "      <td>4.797593</td>\n",
       "      <td>-2.719304</td>\n",
       "    </tr>\n",
       "    <tr>\n",
       "      <th>4</th>\n",
       "      <td>-3.207626</td>\n",
       "      <td>2.566643</td>\n",
       "      <td>-0.356088</td>\n",
       "      <td>0.909786</td>\n",
       "    </tr>\n",
       "    <tr>\n",
       "      <th>5</th>\n",
       "      <td>-2.712394</td>\n",
       "      <td>-2.901967</td>\n",
       "      <td>4.270808</td>\n",
       "      <td>2.738530</td>\n",
       "    </tr>\n",
       "    <tr>\n",
       "      <th>6</th>\n",
       "      <td>4.860317</td>\n",
       "      <td>0.398382</td>\n",
       "      <td>1.057774</td>\n",
       "      <td>3.210390</td>\n",
       "    </tr>\n",
       "    <tr>\n",
       "      <th>7</th>\n",
       "      <td>-3.919865</td>\n",
       "      <td>-1.279046</td>\n",
       "      <td>-4.421415</td>\n",
       "      <td>0.475720</td>\n",
       "    </tr>\n",
       "    <tr>\n",
       "      <th>8</th>\n",
       "      <td>3.382945</td>\n",
       "      <td>1.450419</td>\n",
       "      <td>0.397534</td>\n",
       "      <td>-3.129112</td>\n",
       "    </tr>\n",
       "    <tr>\n",
       "      <th>9</th>\n",
       "      <td>-4.964369</td>\n",
       "      <td>-2.964394</td>\n",
       "      <td>1.727644</td>\n",
       "      <td>-4.648407</td>\n",
       "    </tr>\n",
       "  </tbody>\n",
       "</table>\n",
       "</div>"
      ],
      "text/plain": [
       "         x1        x2        x3        x4\n",
       "0 -1.753050  2.821383  4.254005 -2.973499\n",
       "1 -4.019309 -1.982661  3.160610  4.619455\n",
       "2  4.225120  4.335088 -4.099486 -4.481148\n",
       "3 -3.775419 -1.174434  4.797593 -2.719304\n",
       "4 -3.207626  2.566643 -0.356088  0.909786\n",
       "5 -2.712394 -2.901967  4.270808  2.738530\n",
       "6  4.860317  0.398382  1.057774  3.210390\n",
       "7 -3.919865 -1.279046 -4.421415  0.475720\n",
       "8  3.382945  1.450419  0.397534 -3.129112\n",
       "9 -4.964369 -2.964394  1.727644 -4.648407"
      ]
     },
     "execution_count": 7,
     "metadata": {},
     "output_type": "execute_result"
    }
   ],
   "source": [
    "# 乱数による、データ作成\n",
    "import random\n",
    "x1 = [random.uniform(-5,5) for _ in range(10)]\n",
    "x2 = [random.uniform(-5,5) for _ in range(10)]\n",
    "x3 = [random.uniform(-5,5) for _ in range(10)]\n",
    "x4 = [random.uniform(-5,5) for _ in range(10)]\n",
    "df = pd.DataFrame({'x1':x1,'x2':x2,'x3':x3,'x4':x4})\n",
    "df"
   ]
  },
  {
   "cell_type": "code",
   "execution_count": 8,
   "metadata": {},
   "outputs": [
    {
     "data": {
      "text/plain": [
       "pandas.core.frame.DataFrame"
      ]
     },
     "execution_count": 8,
     "metadata": {},
     "output_type": "execute_result"
    }
   ],
   "source": [
    "type(df)"
   ]
  },
  {
   "cell_type": "code",
   "execution_count": 9,
   "metadata": {},
   "outputs": [
    {
     "data": {
      "text/plain": [
       "x1    float64\n",
       "x2    float64\n",
       "x3    float64\n",
       "x4    float64\n",
       "dtype: object"
      ]
     },
     "execution_count": 9,
     "metadata": {},
     "output_type": "execute_result"
    }
   ],
   "source": [
    "# インプットデータのデータ型\n",
    "df.dtypes"
   ]
  },
  {
   "cell_type": "code",
   "execution_count": 10,
   "metadata": {},
   "outputs": [
    {
     "name": "stdout",
     "output_type": "stream",
     "text": [
      "2020-12-27 01:28:15,692 C:  1% D:224.9GB M:30.2GB  NODE:SERVER      19017  INFO   | Submitted    0 and Completed    0 non-identity feature engineering tasks out of    4 total tasks (including    4 identity)\n"
     ]
    },
    {
     "data": {
      "text/html": [
       "<div>\n",
       "<style scoped>\n",
       "    .dataframe tbody tr th:only-of-type {\n",
       "        vertical-align: middle;\n",
       "    }\n",
       "\n",
       "    .dataframe tbody tr th {\n",
       "        vertical-align: top;\n",
       "    }\n",
       "\n",
       "    .dataframe thead th {\n",
       "        text-align: right;\n",
       "    }\n",
       "</style>\n",
       "<table border=\"1\" class=\"dataframe\">\n",
       "  <thead>\n",
       "    <tr style=\"text-align: right;\">\n",
       "      <th></th>\n",
       "      <th>y</th>\n",
       "    </tr>\n",
       "  </thead>\n",
       "  <tbody>\n",
       "    <tr>\n",
       "      <th>0</th>\n",
       "      <td>1.050215</td>\n",
       "    </tr>\n",
       "    <tr>\n",
       "      <th>1</th>\n",
       "      <td>3.261864</td>\n",
       "    </tr>\n",
       "    <tr>\n",
       "      <th>2</th>\n",
       "      <td>8.199100</td>\n",
       "    </tr>\n",
       "    <tr>\n",
       "      <th>3</th>\n",
       "      <td>-2.644363</td>\n",
       "    </tr>\n",
       "    <tr>\n",
       "      <th>4</th>\n",
       "      <td>2.690867</td>\n",
       "    </tr>\n",
       "    <tr>\n",
       "      <th>5</th>\n",
       "      <td>3.261864</td>\n",
       "    </tr>\n",
       "    <tr>\n",
       "      <th>6</th>\n",
       "      <td>4.290782</td>\n",
       "    </tr>\n",
       "    <tr>\n",
       "      <th>7</th>\n",
       "      <td>-1.666396</td>\n",
       "    </tr>\n",
       "    <tr>\n",
       "      <th>8</th>\n",
       "      <td>4.477252</td>\n",
       "    </tr>\n",
       "    <tr>\n",
       "      <th>9</th>\n",
       "      <td>-3.855328</td>\n",
       "    </tr>\n",
       "  </tbody>\n",
       "</table>\n",
       "</div>"
      ],
      "text/plain": [
       "          y\n",
       "0  1.050215\n",
       "1  3.261864\n",
       "2  8.199100\n",
       "3 -2.644363\n",
       "4  2.690867\n",
       "5  3.261864\n",
       "6  4.290782\n",
       "7 -1.666396\n",
       "8  4.477252\n",
       "9 -3.855328"
      ]
     },
     "metadata": {},
     "output_type": "display_data"
    }
   ],
   "source": [
    "import time\n",
    "start = time.time()    # 実行時間計測\n",
    "\n",
    "res = scorer.score_batch(df)   # スコアリング\n",
    "display(res)\n",
    "\n",
    "e_time = time.time() - start "
   ]
  },
  {
   "cell_type": "code",
   "execution_count": 11,
   "metadata": {},
   "outputs": [
    {
     "name": "stdout",
     "output_type": "stream",
     "text": [
      "e_time:0.3250236511230469[s]\n"
     ]
    }
   ],
   "source": [
    "# 実行時間\n",
    "print (\"e_time:{0}\".format(e_time) + \"[s]\")"
   ]
  },
  {
   "cell_type": "markdown",
   "metadata": {},
   "source": [
    "**【推奨】 なお、Driverless AIとの一貫性を持たし、高速化させる場合はdataframeオブジェクトをスコアリングメソッドへ渡す**"
   ]
  },
  {
   "cell_type": "code",
   "execution_count": 12,
   "metadata": {},
   "outputs": [
    {
     "data": {
      "text/html": [
       "<div class='datatable'>\n",
       "  <table class='frame'>\n",
       "  <thead>\n",
       "    <tr class='colnames'><td class='row_index'></td><th>x1</th><th>x2</th><th>x3</th><th>x4</th></tr>\n",
       "    <tr class='coltypes'><td class='row_index'></td><td class='float' title='float64'>&#x25AA;&#x25AA;&#x25AA;&#x25AA;&#x25AA;&#x25AA;&#x25AA;&#x25AA;</td><td class='float' title='float64'>&#x25AA;&#x25AA;&#x25AA;&#x25AA;&#x25AA;&#x25AA;&#x25AA;&#x25AA;</td><td class='float' title='float64'>&#x25AA;&#x25AA;&#x25AA;&#x25AA;&#x25AA;&#x25AA;&#x25AA;&#x25AA;</td><td class='float' title='float64'>&#x25AA;&#x25AA;&#x25AA;&#x25AA;&#x25AA;&#x25AA;&#x25AA;&#x25AA;</td></tr>\n",
       "  </thead>\n",
       "  <tbody>\n",
       "    <tr><td class='row_index'>0</td><td>&minus;1.75305</td><td>2.82138</td><td>4.25401</td><td>&minus;2.9735</td></tr>\n",
       "    <tr><td class='row_index'>1</td><td>&minus;4.01931</td><td>&minus;1.98266</td><td>3.16061</td><td>4.61946</td></tr>\n",
       "    <tr><td class='row_index'>2</td><td>4.22512</td><td>4.33509</td><td>&minus;4.09949</td><td>&minus;4.48115</td></tr>\n",
       "    <tr><td class='row_index'>3</td><td>&minus;3.77542</td><td>&minus;1.17443</td><td>4.79759</td><td>&minus;2.7193</td></tr>\n",
       "    <tr><td class='row_index'>4</td><td>&minus;3.20763</td><td>2.56664</td><td>&minus;0.356088</td><td>0.909786</td></tr>\n",
       "    <tr><td class='row_index'>5</td><td>&minus;2.71239</td><td>&minus;2.90197</td><td>4.27081</td><td>2.73853</td></tr>\n",
       "    <tr><td class='row_index'>6</td><td>4.86032</td><td>0.398382</td><td>1.05777</td><td>3.21039</td></tr>\n",
       "    <tr><td class='row_index'>7</td><td>&minus;3.91986</td><td>&minus;1.27905</td><td>&minus;4.42142</td><td>0.47572</td></tr>\n",
       "    <tr><td class='row_index'>8</td><td>3.38294</td><td>1.45042</td><td>0.397534</td><td>&minus;3.12911</td></tr>\n",
       "    <tr><td class='row_index'>9</td><td>&minus;4.96437</td><td>&minus;2.96439</td><td>1.72764</td><td>&minus;4.64841</td></tr>\n",
       "  </tbody>\n",
       "  </table>\n",
       "  <div class='footer'>\n",
       "    <div class='frame_dimensions'>10 rows &times; 4 columns</div>\n",
       "  </div>\n",
       "</div>\n"
      ],
      "text/plain": [
       "<Frame#7f1fe4b75fc0 10x4>"
      ]
     },
     "execution_count": 12,
     "metadata": {},
     "output_type": "execute_result"
    }
   ],
   "source": [
    "import datatable\n",
    "dt = datatable.Frame(df)   # pandas.DataFrameからdatatable.Frameへ変換\n",
    "dt"
   ]
  },
  {
   "cell_type": "code",
   "execution_count": 13,
   "metadata": {},
   "outputs": [
    {
     "data": {
      "text/plain": [
       "datatable.Frame"
      ]
     },
     "execution_count": 13,
     "metadata": {},
     "output_type": "execute_result"
    }
   ],
   "source": [
    "type(dt)"
   ]
  },
  {
   "cell_type": "code",
   "execution_count": 14,
   "metadata": {},
   "outputs": [
    {
     "name": "stdout",
     "output_type": "stream",
     "text": [
      "x1 :  stype.float64\n",
      "x2 :  stype.float64\n",
      "x3 :  stype.float64\n",
      "x4 :  stype.float64\n"
     ]
    }
   ],
   "source": [
    "# インプットデータのデータ型\n",
    "for col in dt.names:\n",
    "    print(col, \": \", dt[col].stype)"
   ]
  },
  {
   "cell_type": "code",
   "execution_count": 17,
   "metadata": {},
   "outputs": [
    {
     "name": "stdout",
     "output_type": "stream",
     "text": [
      "2020-12-27 01:28:35,636 C:  0% D:224.9GB M:30.2GB  NODE:SERVER      19017  INFO   | Submitted    0 and Completed    0 non-identity feature engineering tasks out of    4 total tasks (including    4 identity)\n"
     ]
    },
    {
     "data": {
      "text/html": [
       "<div>\n",
       "<style scoped>\n",
       "    .dataframe tbody tr th:only-of-type {\n",
       "        vertical-align: middle;\n",
       "    }\n",
       "\n",
       "    .dataframe tbody tr th {\n",
       "        vertical-align: top;\n",
       "    }\n",
       "\n",
       "    .dataframe thead th {\n",
       "        text-align: right;\n",
       "    }\n",
       "</style>\n",
       "<table border=\"1\" class=\"dataframe\">\n",
       "  <thead>\n",
       "    <tr style=\"text-align: right;\">\n",
       "      <th></th>\n",
       "      <th>y</th>\n",
       "    </tr>\n",
       "  </thead>\n",
       "  <tbody>\n",
       "    <tr>\n",
       "      <th>0</th>\n",
       "      <td>1.050215</td>\n",
       "    </tr>\n",
       "    <tr>\n",
       "      <th>1</th>\n",
       "      <td>3.261864</td>\n",
       "    </tr>\n",
       "    <tr>\n",
       "      <th>2</th>\n",
       "      <td>8.199100</td>\n",
       "    </tr>\n",
       "    <tr>\n",
       "      <th>3</th>\n",
       "      <td>-2.644363</td>\n",
       "    </tr>\n",
       "    <tr>\n",
       "      <th>4</th>\n",
       "      <td>2.690867</td>\n",
       "    </tr>\n",
       "    <tr>\n",
       "      <th>5</th>\n",
       "      <td>3.261864</td>\n",
       "    </tr>\n",
       "    <tr>\n",
       "      <th>6</th>\n",
       "      <td>4.290782</td>\n",
       "    </tr>\n",
       "    <tr>\n",
       "      <th>7</th>\n",
       "      <td>-1.666396</td>\n",
       "    </tr>\n",
       "    <tr>\n",
       "      <th>8</th>\n",
       "      <td>4.477252</td>\n",
       "    </tr>\n",
       "    <tr>\n",
       "      <th>9</th>\n",
       "      <td>-3.855328</td>\n",
       "    </tr>\n",
       "  </tbody>\n",
       "</table>\n",
       "</div>"
      ],
      "text/plain": [
       "          y\n",
       "0  1.050215\n",
       "1  3.261864\n",
       "2  8.199100\n",
       "3 -2.644363\n",
       "4  2.690867\n",
       "5  3.261864\n",
       "6  4.290782\n",
       "7 -1.666396\n",
       "8  4.477252\n",
       "9 -3.855328"
      ]
     },
     "metadata": {},
     "output_type": "display_data"
    }
   ],
   "source": [
    "start = time.time()    # 実行時間計測\n",
    "\n",
    "res = scorer.score_batch(dt)   # スコアリング\n",
    "display(res)\n",
    "\n",
    "e_time = time.time() - start "
   ]
  },
  {
   "cell_type": "code",
   "execution_count": 18,
   "metadata": {},
   "outputs": [
    {
     "name": "stdout",
     "output_type": "stream",
     "text": [
      "e_time:0.3226892948150635[s]\n"
     ]
    }
   ],
   "source": [
    "# 実行時間\n",
    "print (\"e_time:{0}\".format(e_time) + \"[s]\")"
   ]
  },
  {
   "cell_type": "markdown",
   "metadata": {},
   "source": [
    "---"
   ]
  },
  {
   "cell_type": "markdown",
   "metadata": {},
   "source": [
    "### Scorer.fit_transform_batch()メソッドによる特徴量変換\n",
    "- Driverless AIの[Transform Anothe Dataset]（特徴量エンジニアリングパイプライン）"
   ]
  },
  {
   "cell_type": "code",
   "execution_count": 19,
   "metadata": {
    "scrolled": true
   },
   "outputs": [
    {
     "data": {
      "text/html": [
       "<div>\n",
       "<style scoped>\n",
       "    .dataframe tbody tr th:only-of-type {\n",
       "        vertical-align: middle;\n",
       "    }\n",
       "\n",
       "    .dataframe tbody tr th {\n",
       "        vertical-align: top;\n",
       "    }\n",
       "\n",
       "    .dataframe thead th {\n",
       "        text-align: right;\n",
       "    }\n",
       "</style>\n",
       "<table border=\"1\" class=\"dataframe\">\n",
       "  <thead>\n",
       "    <tr style=\"text-align: right;\">\n",
       "      <th></th>\n",
       "      <th>x1</th>\n",
       "      <th>x2</th>\n",
       "      <th>x3</th>\n",
       "      <th>x4</th>\n",
       "      <th>y</th>\n",
       "    </tr>\n",
       "  </thead>\n",
       "  <tbody>\n",
       "    <tr>\n",
       "      <th>0</th>\n",
       "      <td>-1.753050</td>\n",
       "      <td>2.821383</td>\n",
       "      <td>4.254005</td>\n",
       "      <td>-2.973499</td>\n",
       "      <td>-0.350610</td>\n",
       "    </tr>\n",
       "    <tr>\n",
       "      <th>1</th>\n",
       "      <td>-4.019309</td>\n",
       "      <td>-1.982661</td>\n",
       "      <td>3.160610</td>\n",
       "      <td>4.619455</td>\n",
       "      <td>-0.803862</td>\n",
       "    </tr>\n",
       "    <tr>\n",
       "      <th>2</th>\n",
       "      <td>4.225120</td>\n",
       "      <td>4.335088</td>\n",
       "      <td>-4.099486</td>\n",
       "      <td>-4.481148</td>\n",
       "      <td>0.845024</td>\n",
       "    </tr>\n",
       "    <tr>\n",
       "      <th>3</th>\n",
       "      <td>-3.775419</td>\n",
       "      <td>-1.174434</td>\n",
       "      <td>4.797593</td>\n",
       "      <td>-2.719304</td>\n",
       "      <td>-0.755084</td>\n",
       "    </tr>\n",
       "    <tr>\n",
       "      <th>4</th>\n",
       "      <td>-3.207626</td>\n",
       "      <td>2.566643</td>\n",
       "      <td>-0.356088</td>\n",
       "      <td>0.909786</td>\n",
       "      <td>-0.641525</td>\n",
       "    </tr>\n",
       "    <tr>\n",
       "      <th>5</th>\n",
       "      <td>-2.712394</td>\n",
       "      <td>-2.901967</td>\n",
       "      <td>4.270808</td>\n",
       "      <td>2.738530</td>\n",
       "      <td>-0.542479</td>\n",
       "    </tr>\n",
       "    <tr>\n",
       "      <th>6</th>\n",
       "      <td>4.860317</td>\n",
       "      <td>0.398382</td>\n",
       "      <td>1.057774</td>\n",
       "      <td>3.210390</td>\n",
       "      <td>0.972063</td>\n",
       "    </tr>\n",
       "    <tr>\n",
       "      <th>7</th>\n",
       "      <td>-3.919865</td>\n",
       "      <td>-1.279046</td>\n",
       "      <td>-4.421415</td>\n",
       "      <td>0.475720</td>\n",
       "      <td>-0.783973</td>\n",
       "    </tr>\n",
       "    <tr>\n",
       "      <th>8</th>\n",
       "      <td>3.382945</td>\n",
       "      <td>1.450419</td>\n",
       "      <td>0.397534</td>\n",
       "      <td>-3.129112</td>\n",
       "      <td>0.676589</td>\n",
       "    </tr>\n",
       "    <tr>\n",
       "      <th>9</th>\n",
       "      <td>-4.964369</td>\n",
       "      <td>-2.964394</td>\n",
       "      <td>1.727644</td>\n",
       "      <td>-4.648407</td>\n",
       "      <td>-0.992874</td>\n",
       "    </tr>\n",
       "  </tbody>\n",
       "</table>\n",
       "</div>"
      ],
      "text/plain": [
       "         x1        x2        x3        x4         y\n",
       "0 -1.753050  2.821383  4.254005 -2.973499 -0.350610\n",
       "1 -4.019309 -1.982661  3.160610  4.619455 -0.803862\n",
       "2  4.225120  4.335088 -4.099486 -4.481148  0.845024\n",
       "3 -3.775419 -1.174434  4.797593 -2.719304 -0.755084\n",
       "4 -3.207626  2.566643 -0.356088  0.909786 -0.641525\n",
       "5 -2.712394 -2.901967  4.270808  2.738530 -0.542479\n",
       "6  4.860317  0.398382  1.057774  3.210390  0.972063\n",
       "7 -3.919865 -1.279046 -4.421415  0.475720 -0.783973\n",
       "8  3.382945  1.450419  0.397534 -3.129112  0.676589\n",
       "9 -4.964369 -2.964394  1.727644 -4.648407 -0.992874"
      ]
     },
     "execution_count": 19,
     "metadata": {},
     "output_type": "execute_result"
    }
   ],
   "source": [
    "df['y'] = pd.Series([random.uniform(-1,1) for _ in range(10)])\n",
    "df"
   ]
  },
  {
   "cell_type": "code",
   "execution_count": 20,
   "metadata": {},
   "outputs": [
    {
     "name": "stdout",
     "output_type": "stream",
     "text": [
      "2020-12-27 01:28:42,893 C:  1% D:224.9GB M:30.2GB  NODE:SERVER      19017  INFO   | Using 1 parallel workers (1 parent workers) for fit_transform.\n",
      "2020-12-27 01:28:43,121 C:  1% D:224.9GB M:30.2GB  NODE:SERVER      19017  INFO   | Submitted    0 and Completed    0 non-identity feature engineering tasks out of    4 total tasks (including    4 identity)\n",
      "2020-12-27 01:28:43,336 C:  1% D:224.9GB M:30.2GB  NODE:SERVER      19017  INFO   | Submitted    0 and Completed    0 non-identity feature engineering tasks out of    4 total tasks (including    4 identity)\n",
      "2020-12-27 01:28:43,555 C:  1% D:224.9GB M:30.2GB  NODE:SERVER      19017  INFO   | Submitted    0 and Completed    0 non-identity feature engineering tasks out of    4 total tasks (including    4 identity)\n"
     ]
    }
   ],
   "source": [
    "train_transformed, valid_transformed, test_transformed = scorer.fit_transform_batch(train_frame=df, valid_frame=df, test_frame=df)"
   ]
  },
  {
   "cell_type": "markdown",
   "metadata": {},
   "source": [
    "- train_frame： あてはめ用\n",
    "- valid_frame： ハイパーパラメータチューニングの検証用\n",
    "- test_frame： 変換後データ"
   ]
  },
  {
   "cell_type": "code",
   "execution_count": 21,
   "metadata": {},
   "outputs": [
    {
     "data": {
      "text/html": [
       "<div>\n",
       "<style scoped>\n",
       "    .dataframe tbody tr th:only-of-type {\n",
       "        vertical-align: middle;\n",
       "    }\n",
       "\n",
       "    .dataframe tbody tr th {\n",
       "        vertical-align: top;\n",
       "    }\n",
       "\n",
       "    .dataframe thead th {\n",
       "        text-align: right;\n",
       "    }\n",
       "</style>\n",
       "<table border=\"1\" class=\"dataframe\">\n",
       "  <thead>\n",
       "    <tr style=\"text-align: right;\">\n",
       "      <th></th>\n",
       "      <th>0_x1</th>\n",
       "      <th>1_x2</th>\n",
       "      <th>2_x3</th>\n",
       "      <th>3_x4</th>\n",
       "      <th>y</th>\n",
       "    </tr>\n",
       "  </thead>\n",
       "  <tbody>\n",
       "    <tr>\n",
       "      <th>0</th>\n",
       "      <td>-1.753050</td>\n",
       "      <td>2.821383</td>\n",
       "      <td>4.254005</td>\n",
       "      <td>-2.973499</td>\n",
       "      <td>-0.350610</td>\n",
       "    </tr>\n",
       "    <tr>\n",
       "      <th>1</th>\n",
       "      <td>-4.019309</td>\n",
       "      <td>-1.982661</td>\n",
       "      <td>3.160610</td>\n",
       "      <td>4.619455</td>\n",
       "      <td>-0.803862</td>\n",
       "    </tr>\n",
       "    <tr>\n",
       "      <th>2</th>\n",
       "      <td>4.225120</td>\n",
       "      <td>4.335088</td>\n",
       "      <td>-4.099486</td>\n",
       "      <td>-4.481148</td>\n",
       "      <td>0.845024</td>\n",
       "    </tr>\n",
       "    <tr>\n",
       "      <th>3</th>\n",
       "      <td>-3.775419</td>\n",
       "      <td>-1.174434</td>\n",
       "      <td>4.797594</td>\n",
       "      <td>-2.719304</td>\n",
       "      <td>-0.755084</td>\n",
       "    </tr>\n",
       "    <tr>\n",
       "      <th>4</th>\n",
       "      <td>-3.207626</td>\n",
       "      <td>2.566643</td>\n",
       "      <td>-0.356088</td>\n",
       "      <td>0.909786</td>\n",
       "      <td>-0.641525</td>\n",
       "    </tr>\n",
       "    <tr>\n",
       "      <th>5</th>\n",
       "      <td>-2.712394</td>\n",
       "      <td>-2.901967</td>\n",
       "      <td>4.270808</td>\n",
       "      <td>2.738530</td>\n",
       "      <td>-0.542479</td>\n",
       "    </tr>\n",
       "    <tr>\n",
       "      <th>6</th>\n",
       "      <td>4.860317</td>\n",
       "      <td>0.398382</td>\n",
       "      <td>1.057774</td>\n",
       "      <td>3.210390</td>\n",
       "      <td>0.972063</td>\n",
       "    </tr>\n",
       "    <tr>\n",
       "      <th>7</th>\n",
       "      <td>-3.919865</td>\n",
       "      <td>-1.279046</td>\n",
       "      <td>-4.421415</td>\n",
       "      <td>0.475720</td>\n",
       "      <td>-0.783973</td>\n",
       "    </tr>\n",
       "    <tr>\n",
       "      <th>8</th>\n",
       "      <td>3.382945</td>\n",
       "      <td>1.450419</td>\n",
       "      <td>0.397534</td>\n",
       "      <td>-3.129112</td>\n",
       "      <td>0.676589</td>\n",
       "    </tr>\n",
       "    <tr>\n",
       "      <th>9</th>\n",
       "      <td>-4.964369</td>\n",
       "      <td>-2.964394</td>\n",
       "      <td>1.727644</td>\n",
       "      <td>-4.648407</td>\n",
       "      <td>-0.992874</td>\n",
       "    </tr>\n",
       "  </tbody>\n",
       "</table>\n",
       "</div>"
      ],
      "text/plain": [
       "       0_x1      1_x2      2_x3      3_x4         y\n",
       "0 -1.753050  2.821383  4.254005 -2.973499 -0.350610\n",
       "1 -4.019309 -1.982661  3.160610  4.619455 -0.803862\n",
       "2  4.225120  4.335088 -4.099486 -4.481148  0.845024\n",
       "3 -3.775419 -1.174434  4.797594 -2.719304 -0.755084\n",
       "4 -3.207626  2.566643 -0.356088  0.909786 -0.641525\n",
       "5 -2.712394 -2.901967  4.270808  2.738530 -0.542479\n",
       "6  4.860317  0.398382  1.057774  3.210390  0.972063\n",
       "7 -3.919865 -1.279046 -4.421415  0.475720 -0.783973\n",
       "8  3.382945  1.450419  0.397534 -3.129112  0.676589\n",
       "9 -4.964369 -2.964394  1.727644 -4.648407 -0.992874"
      ]
     },
     "execution_count": 21,
     "metadata": {},
     "output_type": "execute_result"
    }
   ],
   "source": [
    "test_transformed"
   ]
  },
  {
   "cell_type": "markdown",
   "metadata": {},
   "source": [
    "本スコアリングパイプラインでは特徴量変換が実施されていないため、インプットデータと変換後データが同じ"
   ]
  },
  {
   "cell_type": "code",
   "execution_count": null,
   "metadata": {},
   "outputs": [],
   "source": []
  }
 ],
 "metadata": {
  "kernelspec": {
   "display_name": "Python 3",
   "language": "python",
   "name": "python3"
  },
  "language_info": {
   "codemirror_mode": {
    "name": "ipython",
    "version": 3
   },
   "file_extension": ".py",
   "mimetype": "text/x-python",
   "name": "python",
   "nbconvert_exporter": "python",
   "pygments_lexer": "ipython3",
   "version": "3.6.12"
  }
 },
 "nbformat": 4,
 "nbformat_minor": 4
}
