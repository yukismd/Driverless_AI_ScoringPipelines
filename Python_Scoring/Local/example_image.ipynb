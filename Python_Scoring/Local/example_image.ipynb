{
 "cells": [
  {
   "cell_type": "markdown",
   "id": "functioning-tourist",
   "metadata": {},
   "source": [
    "## Driverless AI - Python Scoring Pipeline（画像データ）実行サンプル（ローカル環境）\n",
    "スコアリングフォルダ(scoring-pipeline)のexample.pyをJupyter上で実施したデモ\n",
    "\n",
    "環境：\n",
    "- Ubunto18.04（AWS EC2）をローカル環境として実行\n",
    "- Driverless AI 1.9.1 Python Scoring Pipeline"
   ]
  },
  {
   "cell_type": "code",
   "execution_count": 1,
   "id": "extended-postcard",
   "metadata": {},
   "outputs": [
    {
     "data": {
      "text/html": [
       "<style type='text/css'>\n",
       ".datatable table.frame { margin-bottom: 0; }\n",
       ".datatable table.frame thead { border-bottom: none; }\n",
       ".datatable table.frame tr.coltypes td {  color: #FFFFFF;  line-height: 6px;  padding: 0 0.5em;}\n",
       ".datatable .bool    { background: #DDDD99; }\n",
       ".datatable .object  { background: #565656; }\n",
       ".datatable .int     { background: #5D9E5D; }\n",
       ".datatable .float   { background: #4040CC; }\n",
       ".datatable .str     { background: #CC4040; }\n",
       ".datatable .row_index {  background: var(--jp-border-color3);  border-right: 1px solid var(--jp-border-color0);  color: var(--jp-ui-font-color3);  font-size: 9px;}\n",
       ".datatable .frame tr.coltypes .row_index {  background: var(--jp-border-color0);}\n",
       ".datatable th:nth-child(2) { padding-left: 12px; }\n",
       ".datatable .hellipsis {  color: var(--jp-cell-editor-border-color);}\n",
       ".datatable .vellipsis {  background: var(--jp-layout-color0);  color: var(--jp-cell-editor-border-color);}\n",
       ".datatable .na {  color: var(--jp-cell-editor-border-color);  font-size: 80%;}\n",
       ".datatable .footer { font-size: 9px; }\n",
       ".datatable .frame_dimensions {  background: var(--jp-border-color3);  border-top: 1px solid var(--jp-border-color0);  color: var(--jp-ui-font-color3);  display: inline-block;  opacity: 0.6;  padding: 1px 10px 1px 5px;}\n",
       "</style>\n"
      ],
      "text/plain": [
       "<IPython.core.display.HTML object>"
      ]
     },
     "metadata": {},
     "output_type": "display_data"
    },
    {
     "name": "stdout",
     "output_type": "stream",
     "text": [
      "2021-03-30 02:36:40,747 C: NA  D:  NA    M:  NA    NODE:SERVER      8173   FDEBUG | openblas library at libopenblas.so.0\n",
      "2021-03-30 02:36:40,794 C: NA  D:  NA    M:  NA    NODE:SERVER      8173   FDEBUG | No MKL library loaded (normal)\n",
      "2021-03-30 02:36:40,801 C: NA  D:  NA    M:  NA    NODE:SERVER      8173   FDEBUG | Registered SegFault library for signals 'all'\n",
      "2021-03-30 02:36:40,828 C: NA  D:  NA    M:  NA    NODE:SERVER      8173   FDEBUG | omp library at libgomp.so.1\n",
      "2021-03-30 02:36:41,346 C: NA  D:  NA    M:  NA    NODE:SERVER      8225   FDEBUG | Could not locate cudart (None) or other error: #_/home/ubuntu/py_scoring_test_img_20210325/scoring-pipeline/env/bin/python3.6 -m ipykernel_launcher -f /home/ubuntu/.local/share/jupyter/runtime/kernel-6dc57c13-4b05-4e5b-94d8-7ae0343502b1.jsonget_cuda_versions_subprocess: undefined symbol: cudaRuntimeGetVersion\n",
      "2021-03-30 02:36:41,372 C: NA  D:  NA    M:  NA    NODE:SERVER      8225   FDEBUG | Could not locate cudnn (None) or other error #_/home/ubuntu/py_scoring_test_img_20210325/scoring-pipeline/env/bin/python3.6 -m ipykernel_launcher -f /home/ubuntu/.local/share/jupyter/runtime/kernel-6dc57c13-4b05-4e5b-94d8-7ae0343502b1.jsonget_cuda_versions_subprocess: undefined symbol: cudnnGetVersion\n"
     ]
    }
   ],
   "source": [
    "import pandas as pd\n",
    "import numpy as np\n",
    "from numpy import nan\n",
    "from scipy.special._ufuncs import expit\n",
    "from scoring_h2oai_experiment_3b309046_8c58_11eb_84a9_0242ac110002 import Scorer"
   ]
  },
  {
   "cell_type": "code",
   "execution_count": 2,
   "id": "similar-silver",
   "metadata": {},
   "outputs": [
    {
     "name": "stdout",
     "output_type": "stream",
     "text": [
      "2021-03-30 02:36:43,346 C: NA  D:  NA    M:  NA    NODE:SERVER      8173   INFO   | License manager initialized\n",
      "2021-03-30 02:36:43,348 C: NA  D:  NA    M:  NA    NODE:SERVER      8173   INFO   | -----------------------------------------------------------------\n",
      "2021-03-30 02:36:43,349 C: NA  D:  NA    M:  NA    NODE:SERVER      8173   INFO   | Checking whether we have a valid license...\n",
      "2021-03-30 02:36:43,351 C: NA  D:  NA    M:  NA    NODE:SERVER      8173   INFO   | No Cloud provider found\n",
      "2021-03-30 02:36:43,352 C: NA  D:  NA    M:  NA    NODE:SERVER      8173   INFO   | License inherited from environment\n",
      "2021-03-30 02:36:43,419 C: NA  D:  NA    M:  NA    NODE:SERVER      8173   INFO   | \n",
      "2021-03-30 02:36:43,421 C: NA  D:  NA    M:  NA    NODE:SERVER      8173   INFO   | license_version:1\n",
      "2021-03-30 02:36:43,422 C: NA  D:  NA    M:  NA    NODE:SERVER      8173   INFO   | serial_number:3\n",
      "2021-03-30 02:36:43,424 C: NA  D:  NA    M:  NA    NODE:SERVER      8173   INFO   | licensee_organization:H2O.ai\n",
      "2021-03-30 02:36:43,425 C: NA  D:  NA    M:  NA    NODE:SERVER      8173   INFO   | licensee_email:tomk@h2o.ai\n",
      "2021-03-30 02:36:43,427 C: NA  D:  NA    M:  NA    NODE:SERVER      8173   INFO   | licensee_user_id:3\n",
      "2021-03-30 02:36:43,428 C: NA  D:  NA    M:  NA    NODE:SERVER      8173   INFO   | is_h2o_internal_use:true\n",
      "2021-03-30 02:36:43,430 C: NA  D:  NA    M:  NA    NODE:SERVER      8173   INFO   | created_by_email:tomk@h2o.ai\n",
      "2021-03-30 02:36:43,431 C: NA  D:  NA    M:  NA    NODE:SERVER      8173   INFO   | creation_date:2020/12/16\n",
      "2021-03-30 02:36:43,432 C: NA  D:  NA    M:  NA    NODE:SERVER      8173   INFO   | product:DriverlessAI\n",
      "2021-03-30 02:36:43,434 C: NA  D:  NA    M:  NA    NODE:SERVER      8173   INFO   | license_type:developer\n",
      "2021-03-30 02:36:43,435 C: NA  D:  NA    M:  NA    NODE:SERVER      8173   INFO   | expiration_date:2021/12/31\n",
      "2021-03-30 02:36:43,437 C: NA  D:  NA    M:  NA    NODE:SERVER      8173   INFO   | \n",
      "2021-03-30 02:36:43,439 C: NA  D:  NA    M:  NA    NODE:SERVER      8173   INFO   | License is valid\n",
      "2021-03-30 02:36:43,440 C: NA  D:  NA    M:  NA    NODE:SERVER      8173   INFO   | -----------------------------------------------------------------\n",
      "2021-03-30 02:36:43,756 C: 13% D:29.3GB  M:29.2GB  NODE:SERVER      8173   INFO   | Starting H2O server for recipes.  url: None, ip: None, port: 50351, name: DAI-H2O-RECIPES-1.9., threads: 8\n",
      "Checking whether there is an H2O instance running at http://localhost:50351 . connected.\n",
      "Warning: Your H2O cluster version is too old (10 months and 16 days)! Please download and install the latest version from http://h2o.ai/download/\n"
     ]
    },
    {
     "data": {
      "text/html": [
       "<div style=\"overflow:auto\"><table style=\"width:50%\"><tr><td>H2O_cluster_uptime:</td>\n",
       "<td>3 hours 32 mins</td></tr>\n",
       "<tr><td>H2O_cluster_timezone:</td>\n",
       "<td>Etc/UTC</td></tr>\n",
       "<tr><td>H2O_data_parsing_timezone:</td>\n",
       "<td>UTC</td></tr>\n",
       "<tr><td>H2O_cluster_version:</td>\n",
       "<td>3.30.0.3</td></tr>\n",
       "<tr><td>H2O_cluster_version_age:</td>\n",
       "<td>10 months and 16 days !!!</td></tr>\n",
       "<tr><td>H2O_cluster_name:</td>\n",
       "<td>DAI-H2O-RECIPES-1.9.</td></tr>\n",
       "<tr><td>H2O_cluster_total_nodes:</td>\n",
       "<td>1</td></tr>\n",
       "<tr><td>H2O_cluster_free_memory:</td>\n",
       "<td>6.687 Gb</td></tr>\n",
       "<tr><td>H2O_cluster_total_cores:</td>\n",
       "<td>8</td></tr>\n",
       "<tr><td>H2O_cluster_allowed_cores:</td>\n",
       "<td>8</td></tr>\n",
       "<tr><td>H2O_cluster_status:</td>\n",
       "<td>locked, healthy</td></tr>\n",
       "<tr><td>H2O_connection_url:</td>\n",
       "<td>http://localhost:50351</td></tr>\n",
       "<tr><td>H2O_connection_proxy:</td>\n",
       "<td>{\"http\": null, \"https\": null}</td></tr>\n",
       "<tr><td>H2O_internal_security:</td>\n",
       "<td>False</td></tr>\n",
       "<tr><td>H2O_API_Extensions:</td>\n",
       "<td>Amazon S3, XGBoost, Algos, AutoML, Core V3, TargetEncoder, Core V4</td></tr>\n",
       "<tr><td>Python_version:</td>\n",
       "<td>3.6.9 final</td></tr></table></div>"
      ],
      "text/plain": [
       "--------------------------  ------------------------------------------------------------------\n",
       "H2O_cluster_uptime:         3 hours 32 mins\n",
       "H2O_cluster_timezone:       Etc/UTC\n",
       "H2O_data_parsing_timezone:  UTC\n",
       "H2O_cluster_version:        3.30.0.3\n",
       "H2O_cluster_version_age:    10 months and 16 days !!!\n",
       "H2O_cluster_name:           DAI-H2O-RECIPES-1.9.\n",
       "H2O_cluster_total_nodes:    1\n",
       "H2O_cluster_free_memory:    6.687 Gb\n",
       "H2O_cluster_total_cores:    8\n",
       "H2O_cluster_allowed_cores:  8\n",
       "H2O_cluster_status:         locked, healthy\n",
       "H2O_connection_url:         http://localhost:50351\n",
       "H2O_connection_proxy:       {\"http\": null, \"https\": null}\n",
       "H2O_internal_security:      False\n",
       "H2O_API_Extensions:         Amazon S3, XGBoost, Algos, AutoML, Core V3, TargetEncoder, Core V4\n",
       "Python_version:             3.6.9 final\n",
       "--------------------------  ------------------------------------------------------------------"
      ]
     },
     "metadata": {},
     "output_type": "display_data"
    },
    {
     "name": "stdout",
     "output_type": "stream",
     "text": [
      "2021-03-30 02:36:44,795 C:  1% D:29.3GB  M:29.2GB  NODE:SERVER      8173   INFO   | RECIPE H2O-3 server started\n",
      "2021-03-30 02:36:44,797 C:  1% D:29.3GB  M:29.2GB  NODE:SERVER      8173   INFO   | Started H2O version 3.30.0.3 at http://localhost:50351\n"
     ]
    }
   ],
   "source": [
    "scorer = Scorer()"
   ]
  },
  {
   "cell_type": "markdown",
   "id": "classified-oracle",
   "metadata": {},
   "source": [
    "***\n",
    "#### Dataに関して\n",
    "インプットデータ情報"
   ]
  },
  {
   "cell_type": "markdown",
   "id": "indonesian-champion",
   "metadata": {},
   "source": [
    "| Name     | Type   | コメント               | \n",
    "| -------- | ------ | ---------------------- | \n",
    "| sex      | object | M or F      | \n",
    "| filename | object | 画像データのパスを指定 | \n",
    "|          |        |                        | "
   ]
  },
  {
   "cell_type": "markdown",
   "id": "editorial-aggregate",
   "metadata": {},
   "source": [
    "カテゴリカルデータ（sex）と画像データ（filename）をインプットとする"
   ]
  },
  {
   "cell_type": "code",
   "execution_count": 3,
   "id": "pacific-watch",
   "metadata": {},
   "outputs": [
    {
     "data": {
      "text/plain": [
       "('sex', 'filename')"
      ]
     },
     "execution_count": 3,
     "metadata": {},
     "output_type": "execute_result"
    }
   ],
   "source": [
    "# インプットカラム名\n",
    "scorer.get_column_names()"
   ]
  },
  {
   "cell_type": "markdown",
   "id": "indonesian-martin",
   "metadata": {},
   "source": [
    "アウトプットは5カテゴリの分類問題"
   ]
  },
  {
   "cell_type": "code",
   "execution_count": 4,
   "id": "nasty-matter",
   "metadata": {},
   "outputs": [
    {
     "data": {
      "text/plain": [
       "['COVID-19', 'COVID-19, ARDS', 'Pneumocystis', 'SARS', 'Streptococcus']"
      ]
     },
     "execution_count": 4,
     "metadata": {},
     "output_type": "execute_result"
    }
   ],
   "source": [
    "# アウトプットのカテゴリ\n",
    "scorer.get_target_labels()"
   ]
  },
  {
   "cell_type": "markdown",
   "id": "searching-pressing",
   "metadata": {},
   "source": [
    "***"
   ]
  },
  {
   "cell_type": "markdown",
   "id": "typical-berkeley",
   "metadata": {},
   "source": [
    "### 画像データの確認"
   ]
  },
  {
   "cell_type": "code",
   "execution_count": 5,
   "id": "killing-identification",
   "metadata": {},
   "outputs": [
    {
     "name": "stdout",
     "output_type": "stream",
     "text": [
      "1-s2.0-S0929664620300449-gr2_lrg-a.jpg\t      4-x-day4.jpg\r\n",
      "1-s2.0-S1684118220300682-main.pdf-002-a1.png  covid-19-pneumonia-44-day-0.jpeg\r\n",
      "16654_1_1.png\r\n"
     ]
    }
   ],
   "source": [
    "# パス上の画像ファイル\n",
    "!ls sample_img/"
   ]
  },
  {
   "cell_type": "code",
   "execution_count": 6,
   "id": "institutional-consideration",
   "metadata": {},
   "outputs": [],
   "source": [
    "from IPython.display import Image"
   ]
  },
  {
   "cell_type": "code",
   "execution_count": 7,
   "id": "boxed-fight",
   "metadata": {},
   "outputs": [
    {
     "data": {
      "image/jpeg": "[encoded data removed]",
      "text/plain": [
       "<IPython.core.display.Image object>"
      ]
     },
     "execution_count": 7,
     "metadata": {
      "image/jpeg": {
       "height": 200,
       "width": 200
      }
     },
     "output_type": "execute_result"
    }
   ],
   "source": [
    "Image(\"sample_img/1-s2.0-S0929664620300449-gr2_lrg-a.jpg\", width=200, height=200)"
   ]
  },
  {
   "cell_type": "code",
   "execution_count": 8,
   "id": "governmental-sheriff",
   "metadata": {},
   "outputs": [
    {
     "data": {
      "image/jpeg": "[encoded data removed]",
      "text/plain": [
       "<IPython.core.display.Image object>"
      ]
     },
     "execution_count": 8,
     "metadata": {
      "image/jpeg": {
       "height": 200,
       "width": 200
      }
     },
     "output_type": "execute_result"
    }
   ],
   "source": [
    "Image(\"sample_img/4-x-day4.jpg\", width=200, height=200)"
   ]
  },
  {
   "cell_type": "markdown",
   "id": "classical-profession",
   "metadata": {},
   "source": [
    "***"
   ]
  },
  {
   "cell_type": "markdown",
   "id": "protective-corporation",
   "metadata": {},
   "source": [
    "### Single Row Scoring"
   ]
  },
  {
   "cell_type": "code",
   "execution_count": 9,
   "id": "stainless-holder",
   "metadata": {},
   "outputs": [
    {
     "name": "stdout",
     "output_type": "stream",
     "text": [
      "2021-03-30 02:37:10,015 C: NA  D:  NA    M:  NA    NODE:SERVER      8173   INFO   | Using MOJO for predictions\n",
      "2021-03-30 02:37:11,184 C: NA  D:  NA    M:  NA    NODE:SERVER      8173   INFO   | scored 1 rows using MOJO in 1.1051 seconds (1105.0918 millis per row)\n"
     ]
    },
    {
     "data": {
      "text/plain": [
       "[0.9418523907661438,\n",
       " 0.009122892282903194,\n",
       " 0.015432835556566715,\n",
       " 0.018069718033075333,\n",
       " 0.015522192232310772]"
      ]
     },
     "execution_count": 9,
     "metadata": {},
     "output_type": "execute_result"
    }
   ],
   "source": [
    "scorer.score([\n",
    "    'M',  # sex\n",
    "    'sample_img/1-s2.0-S0929664620300449-gr2_lrg-a.jpg',  # filename\n",
    "],apply_data_recipes=False)"
   ]
  },
  {
   "cell_type": "code",
   "execution_count": 10,
   "id": "changed-tokyo",
   "metadata": {},
   "outputs": [
    {
     "name": "stdout",
     "output_type": "stream",
     "text": [
      "2021-03-30 02:37:12,028 C: NA  D:  NA    M:  NA    NODE:SERVER      8173   INFO   | Using MOJO for predictions\n",
      "2021-03-30 02:37:13,437 C: NA  D:  NA    M:  NA    NODE:SERVER      8173   INFO   | scored 1 rows using MOJO in 1.3430 seconds (1342.9868 millis per row)\n"
     ]
    },
    {
     "data": {
      "text/plain": [
       "[0.9439749121665955,\n",
       " 0.008166220039129257,\n",
       " 0.014906036667525768,\n",
       " 0.02233917824923992,\n",
       " 0.010613637045025826]"
      ]
     },
     "execution_count": 10,
     "metadata": {},
     "output_type": "execute_result"
    }
   ],
   "source": [
    "scorer.score([\n",
    "    'M',  # sex\n",
    "    'sample_img/16654_1_1.png',  # filename\n",
    "],apply_data_recipes=False)"
   ]
  },
  {
   "cell_type": "code",
   "execution_count": 11,
   "id": "supposed-plate",
   "metadata": {},
   "outputs": [
    {
     "name": "stdout",
     "output_type": "stream",
     "text": [
      "2021-03-30 02:37:13,464 C: NA  D:  NA    M:  NA    NODE:SERVER      8173   INFO   | Using MOJO for predictions\n",
      "2021-03-30 02:37:14,594 C: NA  D:  NA    M:  NA    NODE:SERVER      8173   INFO   | scored 1 rows using MOJO in 1.0683 seconds (1068.3072 millis per row)\n"
     ]
    },
    {
     "data": {
      "text/plain": [
       "[0.9312543272972107,\n",
       " 0.014367695897817612,\n",
       " 0.015448279678821564,\n",
       " 0.013542110100388527,\n",
       " 0.025387585163116455]"
      ]
     },
     "execution_count": 11,
     "metadata": {},
     "output_type": "execute_result"
    }
   ],
   "source": [
    "scorer.score([\n",
    "    'F',  # sex\n",
    "    'sample_img/4-x-day4.jpg',  # filename\n",
    "],apply_data_recipes=False)"
   ]
  },
  {
   "cell_type": "code",
   "execution_count": 12,
   "id": "tested-prefix",
   "metadata": {},
   "outputs": [
    {
     "name": "stdout",
     "output_type": "stream",
     "text": [
      "2021-03-30 02:37:14,619 C: NA  D:  NA    M:  NA    NODE:SERVER      8173   DATA   | Warning: column <<<'filename'>>> is of type bool, but should be str. Please check input data.\n",
      "2021-03-30 02:37:14,624 C: NA  D:  NA    M:  NA    NODE:SERVER      8173   INFO   | Using MOJO for predictions\n",
      "2021-03-30 02:37:15,767 C: NA  D:  NA    M:  NA    NODE:SERVER      8173   INFO   | scored 1 rows using MOJO in 1.0822 seconds (1082.2072 millis per row)\n"
     ]
    },
    {
     "data": {
      "text/plain": [
       "[0.9714359045028687,\n",
       " 0.00543480459600687,\n",
       " 0.008691513910889626,\n",
       " 0.006813678424805403,\n",
       " 0.0076240841299295425]"
      ]
     },
     "execution_count": 12,
     "metadata": {},
     "output_type": "execute_result"
    }
   ],
   "source": [
    "scorer.score([\n",
    "    'M',  # sex\n",
    "    '',  # filename\n",
    "],apply_data_recipes=False)\n",
    "\n",
    "# filenameを指定しない場合、欠損として処理される"
   ]
  },
  {
   "cell_type": "code",
   "execution_count": 13,
   "id": "environmental-devil",
   "metadata": {},
   "outputs": [
    {
     "name": "stdout",
     "output_type": "stream",
     "text": [
      "2021-03-30 02:37:15,908 C: NA  D:  NA    M:  NA    NODE:SERVER      8173   INFO   | Using MOJO for predictions\n",
      "MOJO scoring failed: Traceback (most recent call last):\n",
      "  File \"h2oaicore/models_utils.py\", line 354, in h2oaicore.models_utils.predict_base_mojo\n",
      "  File \"h2oaicore/models_utils.py\", line 385, in h2oaicore.models_utils.dai_mojo_predict\n",
      "  File \"h2oaicore/mli/commons/mli_commons.py\", line 190, in h2oaicore.mli.commons.mli_commons.parallelize_work\n",
      "  File \"h2oaicore/models_utils.py\", line 438, in h2oaicore.models_utils.dai_mojo_predict_subtask\n",
      "Exception: mojo file       : '/home/ubuntu/Driverless_AI_ScoringPipelines/Python_Scoring/Local/tmp/scoring_user/h2oai_experiment_scoring_id/1e7c92d0-3.mojo'\n",
      "input csv file  : '/home/ubuntu/Driverless_AI_ScoringPipelines/Python_Scoring/Local/tmp/scoring_user/h2oai_experiment_scoring_id/data_batch_bab27351-d.jay'\n",
      "output csv file : '/home/ubuntu/Driverless_AI_ScoringPipelines/Python_Scoring/Local/tmp/scoring_user/h2oai_experiment_scoring_id/pred_bab27351-d.csv'\n",
      "\n",
      "Traceback (most recent call last):\n",
      "  File \"/home/ubuntu/py_scoring_test_img_20210325/scoring-pipeline/env/bin/mojo_scoring_cli\", line 53, in <module>\n",
      "    r = m.predict(pydt, pred_contribs=args.pred_contribs)\n",
      "  File \"/home/ubuntu/py_scoring_test_img_20210325/scoring-pipeline/env/lib/python3.6/site-packages/daimojo/model.py\", line 109, in predict\n",
      "    out_list = self.cppmodel.predict(py_list, nrow, pred_contribs)\n",
      "RuntimeError: OpenCV(4.1.1) /opencv-4.1.1/modules/imgproc/src/resize.cpp:3720: error: (-215:Assertion failed) !ssize.empty() in function 'resize'\n",
      "\n",
      "\n",
      "\n",
      "2021-03-30 02:37:22,789 C: 14% D:29.3GB  M:28.6GB  NODE:SERVER      8173   INFO   | Submitted    2 and Completed    2 non-identity feature engineering tasks out of    2 total tasks (including    0 identity)\n",
      "2021-03-30 02:37:22,797 C: 14% D:29.3GB  M:28.6GB  NODE:SERVER      8173   INFO   | [LIGHTGBM] model predict (1, 98) start.\n",
      "2021-03-30 02:37:22,859 C: 14% D:29.3GB  M:28.6GB  NODE:SERVER      8519   INFO   | [LIGHTGBM] Number of trees: 43\n",
      "2021-03-30 02:37:22,876 C: 14% D:29.3GB  M:28.6GB  NODE:SERVER      8173   INFO   | [LIGHTGBM] model predict (1, 98) end. Took 0.07885 seconds.\n"
     ]
    },
    {
     "data": {
      "text/plain": [
       "[0.9714359045028687,\n",
       " 0.00543480459600687,\n",
       " 0.008691513910889626,\n",
       " 0.006813678424805403,\n",
       " 0.0076240841299295425]"
      ]
     },
     "execution_count": 13,
     "metadata": {},
     "output_type": "execute_result"
    }
   ],
   "source": [
    "scorer.score([\n",
    "    'M',  # sex\n",
    "    'sample_img/X___4-x-day4.jpg',  # filename\n",
    "],apply_data_recipes=False)\n",
    "\n",
    "# 画像ファイルが見つからない場合も、欠損として処理される"
   ]
  },
  {
   "cell_type": "markdown",
   "id": "incomplete-continent",
   "metadata": {},
   "source": [
    "***"
   ]
  },
  {
   "cell_type": "markdown",
   "id": "immediate-swedish",
   "metadata": {},
   "source": [
    "### Batch Scoring"
   ]
  },
  {
   "cell_type": "code",
   "execution_count": 14,
   "id": "swedish-ladder",
   "metadata": {},
   "outputs": [],
   "source": [
    "columns = [\n",
    "    pd.Series(['M', 'M', 'F', 'M', 'F', 'F'], name='sex', dtype='object'),\n",
    "    pd.Series(['sample_img/1-s2.0-S0929664620300449-gr2_lrg-a.jpg', 'sample_img/16654_1_1.png', 'sample_img/covid-19-pneumonia-44-day-0.jpeg', 'sample_img/1-s2.0-S1684118220300682-main.pdf-002-a1.png', 'sample_img/4-x-day4.jpg', ''], name='filename', dtype='object'),\n",
    "]"
   ]
  },
  {
   "cell_type": "code",
   "execution_count": 15,
   "id": "returning-lesbian",
   "metadata": {},
   "outputs": [
    {
     "data": {
      "text/html": [
       "<div>\n",
       "<style scoped>\n",
       "    .dataframe tbody tr th:only-of-type {\n",
       "        vertical-align: middle;\n",
       "    }\n",
       "\n",
       "    .dataframe tbody tr th {\n",
       "        vertical-align: top;\n",
       "    }\n",
       "\n",
       "    .dataframe thead th {\n",
       "        text-align: right;\n",
       "    }\n",
       "</style>\n",
       "<table border=\"1\" class=\"dataframe\">\n",
       "  <thead>\n",
       "    <tr style=\"text-align: right;\">\n",
       "      <th></th>\n",
       "      <th>sex</th>\n",
       "      <th>filename</th>\n",
       "    </tr>\n",
       "  </thead>\n",
       "  <tbody>\n",
       "    <tr>\n",
       "      <th>0</th>\n",
       "      <td>M</td>\n",
       "      <td>sample_img/1-s2.0-S0929664620300449-gr2_lrg-a.jpg</td>\n",
       "    </tr>\n",
       "    <tr>\n",
       "      <th>1</th>\n",
       "      <td>M</td>\n",
       "      <td>sample_img/16654_1_1.png</td>\n",
       "    </tr>\n",
       "    <tr>\n",
       "      <th>2</th>\n",
       "      <td>F</td>\n",
       "      <td>sample_img/covid-19-pneumonia-44-day-0.jpeg</td>\n",
       "    </tr>\n",
       "    <tr>\n",
       "      <th>3</th>\n",
       "      <td>M</td>\n",
       "      <td>sample_img/1-s2.0-S1684118220300682-main.pdf-0...</td>\n",
       "    </tr>\n",
       "    <tr>\n",
       "      <th>4</th>\n",
       "      <td>F</td>\n",
       "      <td>sample_img/4-x-day4.jpg</td>\n",
       "    </tr>\n",
       "    <tr>\n",
       "      <th>5</th>\n",
       "      <td>F</td>\n",
       "      <td></td>\n",
       "    </tr>\n",
       "  </tbody>\n",
       "</table>\n",
       "</div>"
      ],
      "text/plain": [
       "  sex                                           filename\n",
       "0   M  sample_img/1-s2.0-S0929664620300449-gr2_lrg-a.jpg\n",
       "1   M                           sample_img/16654_1_1.png\n",
       "2   F        sample_img/covid-19-pneumonia-44-day-0.jpeg\n",
       "3   M  sample_img/1-s2.0-S1684118220300682-main.pdf-0...\n",
       "4   F                            sample_img/4-x-day4.jpg\n",
       "5   F                                                   "
      ]
     },
     "execution_count": 15,
     "metadata": {},
     "output_type": "execute_result"
    }
   ],
   "source": [
    "df = pd.concat(columns, axis=1)\n",
    "df"
   ]
  },
  {
   "cell_type": "code",
   "execution_count": 16,
   "id": "contrary-mistake",
   "metadata": {},
   "outputs": [
    {
     "name": "stdout",
     "output_type": "stream",
     "text": [
      "2021-03-30 02:37:29,211 C: NA  D:  NA    M:  NA    NODE:SERVER      8173   INFO   | Using MOJO for predictions\n",
      "2021-03-30 02:37:31,109 C: NA  D:  NA    M:  NA    NODE:SERVER      8173   INFO   | scored 6 rows using MOJO in 1.8365 seconds (306.0803 millis per row)\n",
      "CPU times: user 47.4 ms, sys: 87.2 ms, total: 135 ms\n",
      "Wall time: 1.92 s\n"
     ]
    },
    {
     "data": {
      "text/html": [
       "<div>\n",
       "<style scoped>\n",
       "    .dataframe tbody tr th:only-of-type {\n",
       "        vertical-align: middle;\n",
       "    }\n",
       "\n",
       "    .dataframe tbody tr th {\n",
       "        vertical-align: top;\n",
       "    }\n",
       "\n",
       "    .dataframe thead th {\n",
       "        text-align: right;\n",
       "    }\n",
       "</style>\n",
       "<table border=\"1\" class=\"dataframe\">\n",
       "  <thead>\n",
       "    <tr style=\"text-align: right;\">\n",
       "      <th></th>\n",
       "      <th>finding.COVID-19</th>\n",
       "      <th>finding.COVID-19, ARDS</th>\n",
       "      <th>finding.Pneumocystis</th>\n",
       "      <th>finding.SARS</th>\n",
       "      <th>finding.Streptococcus</th>\n",
       "    </tr>\n",
       "  </thead>\n",
       "  <tbody>\n",
       "    <tr>\n",
       "      <th>0</th>\n",
       "      <td>0.941852</td>\n",
       "      <td>0.009123</td>\n",
       "      <td>0.015433</td>\n",
       "      <td>0.018070</td>\n",
       "      <td>0.015522</td>\n",
       "    </tr>\n",
       "    <tr>\n",
       "      <th>1</th>\n",
       "      <td>0.943975</td>\n",
       "      <td>0.008166</td>\n",
       "      <td>0.014906</td>\n",
       "      <td>0.022339</td>\n",
       "      <td>0.010614</td>\n",
       "    </tr>\n",
       "    <tr>\n",
       "      <th>2</th>\n",
       "      <td>0.909444</td>\n",
       "      <td>0.011282</td>\n",
       "      <td>0.021506</td>\n",
       "      <td>0.018065</td>\n",
       "      <td>0.039703</td>\n",
       "    </tr>\n",
       "    <tr>\n",
       "      <th>3</th>\n",
       "      <td>0.931066</td>\n",
       "      <td>0.015005</td>\n",
       "      <td>0.019233</td>\n",
       "      <td>0.021730</td>\n",
       "      <td>0.012967</td>\n",
       "    </tr>\n",
       "    <tr>\n",
       "      <th>4</th>\n",
       "      <td>0.931254</td>\n",
       "      <td>0.014368</td>\n",
       "      <td>0.015448</td>\n",
       "      <td>0.013542</td>\n",
       "      <td>0.025388</td>\n",
       "    </tr>\n",
       "    <tr>\n",
       "      <th>5</th>\n",
       "      <td>0.971279</td>\n",
       "      <td>0.005465</td>\n",
       "      <td>0.008739</td>\n",
       "      <td>0.006851</td>\n",
       "      <td>0.007666</td>\n",
       "    </tr>\n",
       "  </tbody>\n",
       "</table>\n",
       "</div>"
      ],
      "text/plain": [
       "   finding.COVID-19  finding.COVID-19, ARDS  finding.Pneumocystis  \\\n",
       "0          0.941852                0.009123              0.015433   \n",
       "1          0.943975                0.008166              0.014906   \n",
       "2          0.909444                0.011282              0.021506   \n",
       "3          0.931066                0.015005              0.019233   \n",
       "4          0.931254                0.014368              0.015448   \n",
       "5          0.971279                0.005465              0.008739   \n",
       "\n",
       "   finding.SARS  finding.Streptococcus  \n",
       "0      0.018070               0.015522  \n",
       "1      0.022339               0.010614  \n",
       "2      0.018065               0.039703  \n",
       "3      0.021730               0.012967  \n",
       "4      0.013542               0.025388  \n",
       "5      0.006851               0.007666  "
      ]
     },
     "execution_count": 16,
     "metadata": {},
     "output_type": "execute_result"
    }
   ],
   "source": [
    "%%time\n",
    "scorer.score_batch(df, apply_data_recipes=False)"
   ]
  },
  {
   "cell_type": "markdown",
   "id": "fixed-necklace",
   "metadata": {},
   "source": [
    "#### 【推奨】datatable.Frameの利用"
   ]
  },
  {
   "cell_type": "code",
   "execution_count": 17,
   "id": "russian-absorption",
   "metadata": {},
   "outputs": [],
   "source": [
    "import datatable as dt"
   ]
  },
  {
   "cell_type": "code",
   "execution_count": 18,
   "id": "hundred-opera",
   "metadata": {},
   "outputs": [
    {
     "data": {
      "text/html": [
       "<div class='datatable'>\n",
       "  <table class='frame'>\n",
       "  <thead>\n",
       "    <tr class='colnames'><td class='row_index'></td><th>sex</th><th>filename</th></tr>\n",
       "    <tr class='coltypes'><td class='row_index'></td><td class='str' title='str32'>&#x25AA;&#x25AA;&#x25AA;&#x25AA;</td><td class='str' title='str32'>&#x25AA;&#x25AA;&#x25AA;&#x25AA;</td></tr>\n",
       "  </thead>\n",
       "  <tbody>\n",
       "    <tr><td class='row_index'>0</td><td>M</td><td>sample_img/1-s2.0-S0929664620300449-gr2_lrg-a.jpg</td></tr>\n",
       "    <tr><td class='row_index'>1</td><td>M</td><td>sample_img/16654_1_1.png</td></tr>\n",
       "    <tr><td class='row_index'>2</td><td>F</td><td>sample_img/covid-19-pneumonia-44-day-0.jpeg</td></tr>\n",
       "    <tr><td class='row_index'>3</td><td>M</td><td>sample_img/1-s2.0-S1684118220300682-main.pdf-002-a&#133;</td></tr>\n",
       "    <tr><td class='row_index'>4</td><td>F</td><td>sample_img/4-x-day4.jpg</td></tr>\n",
       "    <tr><td class='row_index'>5</td><td>F</td><td></td></tr>\n",
       "  </tbody>\n",
       "  </table>\n",
       "  <div class='footer'>\n",
       "    <div class='frame_dimensions'>6 rows &times; 2 columns</div>\n",
       "  </div>\n",
       "</div>\n"
      ],
      "text/plain": [
       "<Frame#7f5f836b9fb8 6x2>"
      ]
     },
     "execution_count": 18,
     "metadata": {},
     "output_type": "execute_result"
    }
   ],
   "source": [
    "dt.Frame(df)"
   ]
  },
  {
   "cell_type": "code",
   "execution_count": 19,
   "id": "through-services",
   "metadata": {},
   "outputs": [
    {
     "name": "stdout",
     "output_type": "stream",
     "text": [
      "2021-03-30 02:37:34,336 C: NA  D:  NA    M:  NA    NODE:SERVER      8173   INFO   | Using MOJO for predictions\n",
      "2021-03-30 02:37:36,241 C: NA  D:  NA    M:  NA    NODE:SERVER      8173   INFO   | scored 6 rows using MOJO in 1.8404 seconds (306.7281 millis per row)\n",
      "CPU times: user 21.5 ms, sys: 85 ms, total: 107 ms\n",
      "Wall time: 1.93 s\n"
     ]
    },
    {
     "data": {
      "text/html": [
       "<div>\n",
       "<style scoped>\n",
       "    .dataframe tbody tr th:only-of-type {\n",
       "        vertical-align: middle;\n",
       "    }\n",
       "\n",
       "    .dataframe tbody tr th {\n",
       "        vertical-align: top;\n",
       "    }\n",
       "\n",
       "    .dataframe thead th {\n",
       "        text-align: right;\n",
       "    }\n",
       "</style>\n",
       "<table border=\"1\" class=\"dataframe\">\n",
       "  <thead>\n",
       "    <tr style=\"text-align: right;\">\n",
       "      <th></th>\n",
       "      <th>finding.COVID-19</th>\n",
       "      <th>finding.COVID-19, ARDS</th>\n",
       "      <th>finding.Pneumocystis</th>\n",
       "      <th>finding.SARS</th>\n",
       "      <th>finding.Streptococcus</th>\n",
       "    </tr>\n",
       "  </thead>\n",
       "  <tbody>\n",
       "    <tr>\n",
       "      <th>0</th>\n",
       "      <td>0.941852</td>\n",
       "      <td>0.009123</td>\n",
       "      <td>0.015433</td>\n",
       "      <td>0.018070</td>\n",
       "      <td>0.015522</td>\n",
       "    </tr>\n",
       "    <tr>\n",
       "      <th>1</th>\n",
       "      <td>0.943975</td>\n",
       "      <td>0.008166</td>\n",
       "      <td>0.014906</td>\n",
       "      <td>0.022339</td>\n",
       "      <td>0.010614</td>\n",
       "    </tr>\n",
       "    <tr>\n",
       "      <th>2</th>\n",
       "      <td>0.909444</td>\n",
       "      <td>0.011282</td>\n",
       "      <td>0.021506</td>\n",
       "      <td>0.018065</td>\n",
       "      <td>0.039703</td>\n",
       "    </tr>\n",
       "    <tr>\n",
       "      <th>3</th>\n",
       "      <td>0.931066</td>\n",
       "      <td>0.015005</td>\n",
       "      <td>0.019233</td>\n",
       "      <td>0.021730</td>\n",
       "      <td>0.012967</td>\n",
       "    </tr>\n",
       "    <tr>\n",
       "      <th>4</th>\n",
       "      <td>0.931254</td>\n",
       "      <td>0.014368</td>\n",
       "      <td>0.015448</td>\n",
       "      <td>0.013542</td>\n",
       "      <td>0.025388</td>\n",
       "    </tr>\n",
       "    <tr>\n",
       "      <th>5</th>\n",
       "      <td>0.971279</td>\n",
       "      <td>0.005465</td>\n",
       "      <td>0.008739</td>\n",
       "      <td>0.006851</td>\n",
       "      <td>0.007666</td>\n",
       "    </tr>\n",
       "  </tbody>\n",
       "</table>\n",
       "</div>"
      ],
      "text/plain": [
       "   finding.COVID-19  finding.COVID-19, ARDS  finding.Pneumocystis  \\\n",
       "0          0.941852                0.009123              0.015433   \n",
       "1          0.943975                0.008166              0.014906   \n",
       "2          0.909444                0.011282              0.021506   \n",
       "3          0.931066                0.015005              0.019233   \n",
       "4          0.931254                0.014368              0.015448   \n",
       "5          0.971279                0.005465              0.008739   \n",
       "\n",
       "   finding.SARS  finding.Streptococcus  \n",
       "0      0.018070               0.015522  \n",
       "1      0.022339               0.010614  \n",
       "2      0.018065               0.039703  \n",
       "3      0.021730               0.012967  \n",
       "4      0.013542               0.025388  \n",
       "5      0.006851               0.007666  "
      ]
     },
     "execution_count": 19,
     "metadata": {},
     "output_type": "execute_result"
    }
   ],
   "source": [
    "%%time\n",
    "scorer.score_batch(dt.Frame(df), apply_data_recipes=False)"
   ]
  },
  {
   "cell_type": "markdown",
   "id": "incoming-referral",
   "metadata": {},
   "source": [
    "***"
   ]
  },
  {
   "cell_type": "markdown",
   "id": "enhanced-camera",
   "metadata": {},
   "source": [
    "### Shapley\n",
    "- 最終部分のSoftmax関数が適用されていないことに注意"
   ]
  },
  {
   "cell_type": "code",
   "execution_count": 20,
   "id": "plastic-juvenile",
   "metadata": {},
   "outputs": [
    {
     "data": {
      "text/html": [
       "<div>\n",
       "<style scoped>\n",
       "    .dataframe tbody tr th:only-of-type {\n",
       "        vertical-align: middle;\n",
       "    }\n",
       "\n",
       "    .dataframe tbody tr th {\n",
       "        vertical-align: top;\n",
       "    }\n",
       "\n",
       "    .dataframe thead th {\n",
       "        text-align: right;\n",
       "    }\n",
       "</style>\n",
       "<table border=\"1\" class=\"dataframe\">\n",
       "  <thead>\n",
       "    <tr style=\"text-align: right;\">\n",
       "      <th></th>\n",
       "      <th>sex</th>\n",
       "      <th>filename</th>\n",
       "    </tr>\n",
       "  </thead>\n",
       "  <tbody>\n",
       "    <tr>\n",
       "      <th>0</th>\n",
       "      <td>M</td>\n",
       "      <td>sample_img/1-s2.0-S0929664620300449-gr2_lrg-a.jpg</td>\n",
       "    </tr>\n",
       "    <tr>\n",
       "      <th>1</th>\n",
       "      <td>M</td>\n",
       "      <td>sample_img/16654_1_1.png</td>\n",
       "    </tr>\n",
       "    <tr>\n",
       "      <th>2</th>\n",
       "      <td>F</td>\n",
       "      <td>sample_img/covid-19-pneumonia-44-day-0.jpeg</td>\n",
       "    </tr>\n",
       "    <tr>\n",
       "      <th>3</th>\n",
       "      <td>M</td>\n",
       "      <td>sample_img/1-s2.0-S1684118220300682-main.pdf-0...</td>\n",
       "    </tr>\n",
       "    <tr>\n",
       "      <th>4</th>\n",
       "      <td>F</td>\n",
       "      <td>sample_img/4-x-day4.jpg</td>\n",
       "    </tr>\n",
       "    <tr>\n",
       "      <th>5</th>\n",
       "      <td>F</td>\n",
       "      <td></td>\n",
       "    </tr>\n",
       "  </tbody>\n",
       "</table>\n",
       "</div>"
      ],
      "text/plain": [
       "  sex                                           filename\n",
       "0   M  sample_img/1-s2.0-S0929664620300449-gr2_lrg-a.jpg\n",
       "1   M                           sample_img/16654_1_1.png\n",
       "2   F        sample_img/covid-19-pneumonia-44-day-0.jpeg\n",
       "3   M  sample_img/1-s2.0-S1684118220300682-main.pdf-0...\n",
       "4   F                            sample_img/4-x-day4.jpg\n",
       "5   F                                                   "
      ]
     },
     "execution_count": 20,
     "metadata": {},
     "output_type": "execute_result"
    }
   ],
   "source": [
    "# スコアリング用データ\n",
    "df"
   ]
  },
  {
   "cell_type": "markdown",
   "id": "adjacent-colon",
   "metadata": {},
   "source": [
    "#### Shapley - Transformed Features"
   ]
  },
  {
   "cell_type": "code",
   "execution_count": 21,
   "id": "corrected-endorsement",
   "metadata": {},
   "outputs": [
    {
     "data": {
      "text/plain": [
       "['0_CVTE:sex.0',\n",
       " '0_CVTE:sex.1',\n",
       " '0_CVTE:sex.2',\n",
       " '0_CVTE:sex.4',\n",
       " '1_IMAGEVECTORIZER:filename.xception.00',\n",
       " '1_IMAGEVECTORIZER:filename.xception.01',\n",
       " '1_IMAGEVECTORIZER:filename.xception.02',\n",
       " '1_IMAGEVECTORIZER:filename.xception.03',\n",
       " '1_IMAGEVECTORIZER:filename.xception.04',\n",
       " '1_IMAGEVECTORIZER:filename.xception.05',\n",
       " '1_IMAGEVECTORIZER:filename.xception.06',\n",
       " '1_IMAGEVECTORIZER:filename.xception.07',\n",
       " '1_IMAGEVECTORIZER:filename.xception.09',\n",
       " '1_IMAGEVECTORIZER:filename.xception.10',\n",
       " '1_IMAGEVECTORIZER:filename.xception.11']"
      ]
     },
     "execution_count": 21,
     "metadata": {},
     "output_type": "execute_result"
    }
   ],
   "source": [
    "# Transformed featuresの名前\n",
    "scorer.get_transformed_column_names()[:15]"
   ]
  },
  {
   "cell_type": "code",
   "execution_count": 22,
   "id": "missing-sociology",
   "metadata": {},
   "outputs": [
    {
     "data": {
      "text/plain": [
       "98"
      ]
     },
     "execution_count": 22,
     "metadata": {},
     "output_type": "execute_result"
    }
   ],
   "source": [
    "# Transformed features合計数\n",
    "len(scorer.get_transformed_column_names())"
   ]
  },
  {
   "cell_type": "code",
   "execution_count": 23,
   "id": "angry-seventh",
   "metadata": {},
   "outputs": [
    {
     "name": "stdout",
     "output_type": "stream",
     "text": [
      "2021-03-30 02:37:43,095 C: NA  D:  NA    M:  NA    NODE:SERVER      8173   INFO   | Not using MOJO for predictions since pred_contribs not yet implemented.\n",
      "2021-03-30 02:37:49,723 C: 13% D:29.3GB  M:28.4GB  NODE:SERVER      8173   INFO   | Submitted    2 and Completed    2 non-identity feature engineering tasks out of    2 total tasks (including    0 identity)\n",
      "2021-03-30 02:37:49,731 C: 13% D:29.3GB  M:28.4GB  NODE:SERVER      8173   INFO   | [LIGHTGBM] model predict Shapley (6, 98) start.\n",
      "2021-03-30 02:37:49,795 C: 13% D:29.3GB  M:28.4GB  NODE:SERVER      8686   INFO   | [LIGHTGBM] Number of trees: 43\n",
      "2021-03-30 02:37:49,810 C: 13% D:29.3GB  M:28.4GB  NODE:SERVER      8173   INFO   | [LIGHTGBM] model predict Shapley (6, 98) end. Took 0.07907 seconds.\n"
     ]
    },
    {
     "data": {
      "text/html": [
       "<div>\n",
       "<style scoped>\n",
       "    .dataframe tbody tr th:only-of-type {\n",
       "        vertical-align: middle;\n",
       "    }\n",
       "\n",
       "    .dataframe tbody tr th {\n",
       "        vertical-align: top;\n",
       "    }\n",
       "\n",
       "    .dataframe thead th {\n",
       "        text-align: right;\n",
       "    }\n",
       "</style>\n",
       "<table border=\"1\" class=\"dataframe\">\n",
       "  <thead>\n",
       "    <tr style=\"text-align: right;\">\n",
       "      <th></th>\n",
       "      <th>contrib_0_CVTE:sex.0.COVID-19</th>\n",
       "      <th>contrib_0_CVTE:sex.1.COVID-19</th>\n",
       "      <th>contrib_0_CVTE:sex.2.COVID-19</th>\n",
       "      <th>contrib_0_CVTE:sex.4.COVID-19</th>\n",
       "      <th>contrib_1_IMAGEVECTORIZER:filename.xception.00.COVID-19</th>\n",
       "      <th>contrib_1_IMAGEVECTORIZER:filename.xception.01.COVID-19</th>\n",
       "      <th>contrib_1_IMAGEVECTORIZER:filename.xception.02.COVID-19</th>\n",
       "      <th>contrib_1_IMAGEVECTORIZER:filename.xception.03.COVID-19</th>\n",
       "      <th>contrib_1_IMAGEVECTORIZER:filename.xception.04.COVID-19</th>\n",
       "      <th>contrib_1_IMAGEVECTORIZER:filename.xception.05.COVID-19</th>\n",
       "      <th>...</th>\n",
       "      <th>contrib_1_IMAGEVECTORIZER:filename.xception.90.Streptococcus</th>\n",
       "      <th>contrib_1_IMAGEVECTORIZER:filename.xception.92.Streptococcus</th>\n",
       "      <th>contrib_1_IMAGEVECTORIZER:filename.xception.93.Streptococcus</th>\n",
       "      <th>contrib_1_IMAGEVECTORIZER:filename.xception.94.Streptococcus</th>\n",
       "      <th>contrib_1_IMAGEVECTORIZER:filename.xception.95.Streptococcus</th>\n",
       "      <th>contrib_1_IMAGEVECTORIZER:filename.xception.96.Streptococcus</th>\n",
       "      <th>contrib_1_IMAGEVECTORIZER:filename.xception.97.Streptococcus</th>\n",
       "      <th>contrib_1_IMAGEVECTORIZER:filename.xception.98.Streptococcus</th>\n",
       "      <th>contrib_1_IMAGEVECTORIZER:filename.xception.99.Streptococcus</th>\n",
       "      <th>contrib_bias.Streptococcus</th>\n",
       "    </tr>\n",
       "  </thead>\n",
       "  <tbody>\n",
       "    <tr>\n",
       "      <th>0</th>\n",
       "      <td>0.0</td>\n",
       "      <td>-0.000464</td>\n",
       "      <td>0.004793</td>\n",
       "      <td>0.009947</td>\n",
       "      <td>-0.036045</td>\n",
       "      <td>-0.034604</td>\n",
       "      <td>0.026194</td>\n",
       "      <td>-0.000794</td>\n",
       "      <td>-0.010606</td>\n",
       "      <td>-0.009925</td>\n",
       "      <td>...</td>\n",
       "      <td>-0.001105</td>\n",
       "      <td>0.001563</td>\n",
       "      <td>0.025675</td>\n",
       "      <td>0.0</td>\n",
       "      <td>-0.011936</td>\n",
       "      <td>0.0</td>\n",
       "      <td>-0.005440</td>\n",
       "      <td>0.0</td>\n",
       "      <td>0.0</td>\n",
       "      <td>-3.559258</td>\n",
       "    </tr>\n",
       "    <tr>\n",
       "      <th>1</th>\n",
       "      <td>0.0</td>\n",
       "      <td>0.000044</td>\n",
       "      <td>0.006619</td>\n",
       "      <td>0.012840</td>\n",
       "      <td>0.005963</td>\n",
       "      <td>-0.094651</td>\n",
       "      <td>0.043268</td>\n",
       "      <td>0.000504</td>\n",
       "      <td>-0.039805</td>\n",
       "      <td>0.001574</td>\n",
       "      <td>...</td>\n",
       "      <td>0.002825</td>\n",
       "      <td>0.001420</td>\n",
       "      <td>-0.002643</td>\n",
       "      <td>0.0</td>\n",
       "      <td>0.005224</td>\n",
       "      <td>0.0</td>\n",
       "      <td>0.000640</td>\n",
       "      <td>0.0</td>\n",
       "      <td>0.0</td>\n",
       "      <td>-3.559258</td>\n",
       "    </tr>\n",
       "    <tr>\n",
       "      <th>2</th>\n",
       "      <td>0.0</td>\n",
       "      <td>-0.001103</td>\n",
       "      <td>-0.057156</td>\n",
       "      <td>-0.011066</td>\n",
       "      <td>-0.005627</td>\n",
       "      <td>0.071648</td>\n",
       "      <td>-0.042828</td>\n",
       "      <td>0.000504</td>\n",
       "      <td>0.064020</td>\n",
       "      <td>0.008414</td>\n",
       "      <td>...</td>\n",
       "      <td>-0.002634</td>\n",
       "      <td>0.002853</td>\n",
       "      <td>-0.002643</td>\n",
       "      <td>0.0</td>\n",
       "      <td>0.010189</td>\n",
       "      <td>0.0</td>\n",
       "      <td>0.001080</td>\n",
       "      <td>0.0</td>\n",
       "      <td>0.0</td>\n",
       "      <td>-3.559258</td>\n",
       "    </tr>\n",
       "    <tr>\n",
       "      <th>3</th>\n",
       "      <td>0.0</td>\n",
       "      <td>-0.004749</td>\n",
       "      <td>0.015306</td>\n",
       "      <td>0.011839</td>\n",
       "      <td>-0.003941</td>\n",
       "      <td>0.020931</td>\n",
       "      <td>0.029092</td>\n",
       "      <td>0.000245</td>\n",
       "      <td>0.035593</td>\n",
       "      <td>-0.008838</td>\n",
       "      <td>...</td>\n",
       "      <td>0.002825</td>\n",
       "      <td>0.001215</td>\n",
       "      <td>0.025675</td>\n",
       "      <td>0.0</td>\n",
       "      <td>-0.011692</td>\n",
       "      <td>0.0</td>\n",
       "      <td>0.000640</td>\n",
       "      <td>0.0</td>\n",
       "      <td>0.0</td>\n",
       "      <td>-3.559258</td>\n",
       "    </tr>\n",
       "    <tr>\n",
       "      <th>4</th>\n",
       "      <td>0.0</td>\n",
       "      <td>0.000148</td>\n",
       "      <td>-0.066522</td>\n",
       "      <td>-0.029411</td>\n",
       "      <td>0.002300</td>\n",
       "      <td>0.044536</td>\n",
       "      <td>-0.012184</td>\n",
       "      <td>0.006019</td>\n",
       "      <td>0.038345</td>\n",
       "      <td>-0.018459</td>\n",
       "      <td>...</td>\n",
       "      <td>0.001703</td>\n",
       "      <td>0.002956</td>\n",
       "      <td>-0.002643</td>\n",
       "      <td>0.0</td>\n",
       "      <td>-0.023940</td>\n",
       "      <td>0.0</td>\n",
       "      <td>-0.020807</td>\n",
       "      <td>0.0</td>\n",
       "      <td>0.0</td>\n",
       "      <td>-3.559258</td>\n",
       "    </tr>\n",
       "    <tr>\n",
       "      <th>5</th>\n",
       "      <td>0.0</td>\n",
       "      <td>0.000019</td>\n",
       "      <td>-0.010998</td>\n",
       "      <td>-0.009353</td>\n",
       "      <td>0.002628</td>\n",
       "      <td>0.026479</td>\n",
       "      <td>-0.001188</td>\n",
       "      <td>0.001492</td>\n",
       "      <td>0.023724</td>\n",
       "      <td>0.007390</td>\n",
       "      <td>...</td>\n",
       "      <td>-0.001105</td>\n",
       "      <td>0.001185</td>\n",
       "      <td>-0.002643</td>\n",
       "      <td>0.0</td>\n",
       "      <td>0.004385</td>\n",
       "      <td>0.0</td>\n",
       "      <td>0.005712</td>\n",
       "      <td>0.0</td>\n",
       "      <td>0.0</td>\n",
       "      <td>-3.559258</td>\n",
       "    </tr>\n",
       "  </tbody>\n",
       "</table>\n",
       "<p>6 rows × 495 columns</p>\n",
       "</div>"
      ],
      "text/plain": [
       "   contrib_0_CVTE:sex.0.COVID-19  contrib_0_CVTE:sex.1.COVID-19  \\\n",
       "0                            0.0                      -0.000464   \n",
       "1                            0.0                       0.000044   \n",
       "2                            0.0                      -0.001103   \n",
       "3                            0.0                      -0.004749   \n",
       "4                            0.0                       0.000148   \n",
       "5                            0.0                       0.000019   \n",
       "\n",
       "   contrib_0_CVTE:sex.2.COVID-19  contrib_0_CVTE:sex.4.COVID-19  \\\n",
       "0                       0.004793                       0.009947   \n",
       "1                       0.006619                       0.012840   \n",
       "2                      -0.057156                      -0.011066   \n",
       "3                       0.015306                       0.011839   \n",
       "4                      -0.066522                      -0.029411   \n",
       "5                      -0.010998                      -0.009353   \n",
       "\n",
       "   contrib_1_IMAGEVECTORIZER:filename.xception.00.COVID-19  \\\n",
       "0                                          -0.036045         \n",
       "1                                           0.005963         \n",
       "2                                          -0.005627         \n",
       "3                                          -0.003941         \n",
       "4                                           0.002300         \n",
       "5                                           0.002628         \n",
       "\n",
       "   contrib_1_IMAGEVECTORIZER:filename.xception.01.COVID-19  \\\n",
       "0                                          -0.034604         \n",
       "1                                          -0.094651         \n",
       "2                                           0.071648         \n",
       "3                                           0.020931         \n",
       "4                                           0.044536         \n",
       "5                                           0.026479         \n",
       "\n",
       "   contrib_1_IMAGEVECTORIZER:filename.xception.02.COVID-19  \\\n",
       "0                                           0.026194         \n",
       "1                                           0.043268         \n",
       "2                                          -0.042828         \n",
       "3                                           0.029092         \n",
       "4                                          -0.012184         \n",
       "5                                          -0.001188         \n",
       "\n",
       "   contrib_1_IMAGEVECTORIZER:filename.xception.03.COVID-19  \\\n",
       "0                                          -0.000794         \n",
       "1                                           0.000504         \n",
       "2                                           0.000504         \n",
       "3                                           0.000245         \n",
       "4                                           0.006019         \n",
       "5                                           0.001492         \n",
       "\n",
       "   contrib_1_IMAGEVECTORIZER:filename.xception.04.COVID-19  \\\n",
       "0                                          -0.010606         \n",
       "1                                          -0.039805         \n",
       "2                                           0.064020         \n",
       "3                                           0.035593         \n",
       "4                                           0.038345         \n",
       "5                                           0.023724         \n",
       "\n",
       "   contrib_1_IMAGEVECTORIZER:filename.xception.05.COVID-19  ...  \\\n",
       "0                                          -0.009925        ...   \n",
       "1                                           0.001574        ...   \n",
       "2                                           0.008414        ...   \n",
       "3                                          -0.008838        ...   \n",
       "4                                          -0.018459        ...   \n",
       "5                                           0.007390        ...   \n",
       "\n",
       "   contrib_1_IMAGEVECTORIZER:filename.xception.90.Streptococcus  \\\n",
       "0                                          -0.001105              \n",
       "1                                           0.002825              \n",
       "2                                          -0.002634              \n",
       "3                                           0.002825              \n",
       "4                                           0.001703              \n",
       "5                                          -0.001105              \n",
       "\n",
       "   contrib_1_IMAGEVECTORIZER:filename.xception.92.Streptococcus  \\\n",
       "0                                           0.001563              \n",
       "1                                           0.001420              \n",
       "2                                           0.002853              \n",
       "3                                           0.001215              \n",
       "4                                           0.002956              \n",
       "5                                           0.001185              \n",
       "\n",
       "   contrib_1_IMAGEVECTORIZER:filename.xception.93.Streptococcus  \\\n",
       "0                                           0.025675              \n",
       "1                                          -0.002643              \n",
       "2                                          -0.002643              \n",
       "3                                           0.025675              \n",
       "4                                          -0.002643              \n",
       "5                                          -0.002643              \n",
       "\n",
       "   contrib_1_IMAGEVECTORIZER:filename.xception.94.Streptococcus  \\\n",
       "0                                                0.0              \n",
       "1                                                0.0              \n",
       "2                                                0.0              \n",
       "3                                                0.0              \n",
       "4                                                0.0              \n",
       "5                                                0.0              \n",
       "\n",
       "   contrib_1_IMAGEVECTORIZER:filename.xception.95.Streptococcus  \\\n",
       "0                                          -0.011936              \n",
       "1                                           0.005224              \n",
       "2                                           0.010189              \n",
       "3                                          -0.011692              \n",
       "4                                          -0.023940              \n",
       "5                                           0.004385              \n",
       "\n",
       "   contrib_1_IMAGEVECTORIZER:filename.xception.96.Streptococcus  \\\n",
       "0                                                0.0              \n",
       "1                                                0.0              \n",
       "2                                                0.0              \n",
       "3                                                0.0              \n",
       "4                                                0.0              \n",
       "5                                                0.0              \n",
       "\n",
       "   contrib_1_IMAGEVECTORIZER:filename.xception.97.Streptococcus  \\\n",
       "0                                          -0.005440              \n",
       "1                                           0.000640              \n",
       "2                                           0.001080              \n",
       "3                                           0.000640              \n",
       "4                                          -0.020807              \n",
       "5                                           0.005712              \n",
       "\n",
       "   contrib_1_IMAGEVECTORIZER:filename.xception.98.Streptococcus  \\\n",
       "0                                                0.0              \n",
       "1                                                0.0              \n",
       "2                                                0.0              \n",
       "3                                                0.0              \n",
       "4                                                0.0              \n",
       "5                                                0.0              \n",
       "\n",
       "   contrib_1_IMAGEVECTORIZER:filename.xception.99.Streptococcus  \\\n",
       "0                                                0.0              \n",
       "1                                                0.0              \n",
       "2                                                0.0              \n",
       "3                                                0.0              \n",
       "4                                                0.0              \n",
       "5                                                0.0              \n",
       "\n",
       "   contrib_bias.Streptococcus  \n",
       "0                   -3.559258  \n",
       "1                   -3.559258  \n",
       "2                   -3.559258  \n",
       "3                   -3.559258  \n",
       "4                   -3.559258  \n",
       "5                   -3.559258  \n",
       "\n",
       "[6 rows x 495 columns]"
      ]
     },
     "execution_count": 23,
     "metadata": {},
     "output_type": "execute_result"
    }
   ],
   "source": [
    "# per-feature prediction contributions (Transformed)\n",
    "pred_contribs1 = scorer.score_batch(df, pred_contribs=True, pred_contribs_original=False, fast_approx=False, apply_data_recipes=False) \n",
    "pred_contribs1"
   ]
  },
  {
   "cell_type": "code",
   "execution_count": 24,
   "id": "funded-eugene",
   "metadata": {},
   "outputs": [
    {
     "data": {
      "text/plain": [
       "495"
      ]
     },
     "execution_count": 24,
     "metadata": {},
     "output_type": "execute_result"
    }
   ],
   "source": [
    "# Targetカテゴリ数 * (Transformed features数 + Bias)\n",
    "5 * (98 + 1)"
   ]
  },
  {
   "cell_type": "markdown",
   "id": "aggressive-mauritius",
   "metadata": {},
   "source": [
    "#### Shapley - Original Features"
   ]
  },
  {
   "cell_type": "code",
   "execution_count": 25,
   "id": "hungarian-tract",
   "metadata": {
    "scrolled": false
   },
   "outputs": [
    {
     "name": "stdout",
     "output_type": "stream",
     "text": [
      "2021-03-30 02:37:49,884 C: NA  D:  NA    M:  NA    NODE:SERVER      8173   INFO   | Not using MOJO for predictions since pred_contribs_original not yet implemented.\n",
      "2021-03-30 02:37:56,455 C: 21% D:29.3GB  M:28.4GB  NODE:SERVER      8173   INFO   | Submitted    2 and Completed    2 non-identity feature engineering tasks out of    2 total tasks (including    0 identity)\n",
      "2021-03-30 02:37:56,462 C: 21% D:29.3GB  M:28.4GB  NODE:SERVER      8173   INFO   | [LIGHTGBM] model predict Shapley (6, 98) start.\n",
      "2021-03-30 02:37:56,526 C: 21% D:29.3GB  M:28.4GB  NODE:SERVER      8781   INFO   | [LIGHTGBM] Number of trees: 43\n",
      "2021-03-30 02:37:56,582 C: 21% D:29.3GB  M:28.4GB  NODE:SERVER      8173   INFO   | [LIGHTGBM] model predict Shapley (6, 98) end. Took 0.11964 seconds.\n"
     ]
    },
    {
     "data": {
      "text/html": [
       "<div>\n",
       "<style scoped>\n",
       "    .dataframe tbody tr th:only-of-type {\n",
       "        vertical-align: middle;\n",
       "    }\n",
       "\n",
       "    .dataframe tbody tr th {\n",
       "        vertical-align: top;\n",
       "    }\n",
       "\n",
       "    .dataframe thead th {\n",
       "        text-align: right;\n",
       "    }\n",
       "</style>\n",
       "<table border=\"1\" class=\"dataframe\">\n",
       "  <thead>\n",
       "    <tr style=\"text-align: right;\">\n",
       "      <th></th>\n",
       "      <th>contrib_C1.COVID-19</th>\n",
       "      <th>contrib_age.COVID-19</th>\n",
       "      <th>contrib_clinical_notes.COVID-19</th>\n",
       "      <th>contrib_date.COVID-19</th>\n",
       "      <th>contrib_doi.COVID-19</th>\n",
       "      <th>contrib_extubated.COVID-19</th>\n",
       "      <th>contrib_filename.COVID-19</th>\n",
       "      <th>contrib_folder.COVID-19</th>\n",
       "      <th>contrib_in_icu.COVID-19</th>\n",
       "      <th>contrib_intubated.COVID-19</th>\n",
       "      <th>...</th>\n",
       "      <th>contrib_other_notes.Streptococcus</th>\n",
       "      <th>contrib_pO2_saturation.Streptococcus</th>\n",
       "      <th>contrib_patientid.Streptococcus</th>\n",
       "      <th>contrib_sex.Streptococcus</th>\n",
       "      <th>contrib_survival.Streptococcus</th>\n",
       "      <th>contrib_temperature.Streptococcus</th>\n",
       "      <th>contrib_url.Streptococcus</th>\n",
       "      <th>contrib_view.Streptococcus</th>\n",
       "      <th>contrib_went_icu.Streptococcus</th>\n",
       "      <th>contrib_bias.Streptococcus</th>\n",
       "    </tr>\n",
       "  </thead>\n",
       "  <tbody>\n",
       "    <tr>\n",
       "      <th>0</th>\n",
       "      <td>0.0</td>\n",
       "      <td>0.0</td>\n",
       "      <td>0.0</td>\n",
       "      <td>0.0</td>\n",
       "      <td>0.0</td>\n",
       "      <td>0.0</td>\n",
       "      <td>0.197556</td>\n",
       "      <td>0.0</td>\n",
       "      <td>0.0</td>\n",
       "      <td>0.0</td>\n",
       "      <td>...</td>\n",
       "      <td>0.0</td>\n",
       "      <td>0.0</td>\n",
       "      <td>0.0</td>\n",
       "      <td>-0.007171</td>\n",
       "      <td>0.0</td>\n",
       "      <td>0.0</td>\n",
       "      <td>0.0</td>\n",
       "      <td>0.0</td>\n",
       "      <td>0.0</td>\n",
       "      <td>-3.559258</td>\n",
       "    </tr>\n",
       "    <tr>\n",
       "      <th>1</th>\n",
       "      <td>0.0</td>\n",
       "      <td>0.0</td>\n",
       "      <td>0.0</td>\n",
       "      <td>0.0</td>\n",
       "      <td>0.0</td>\n",
       "      <td>0.0</td>\n",
       "      <td>0.418486</td>\n",
       "      <td>0.0</td>\n",
       "      <td>0.0</td>\n",
       "      <td>0.0</td>\n",
       "      <td>...</td>\n",
       "      <td>0.0</td>\n",
       "      <td>0.0</td>\n",
       "      <td>0.0</td>\n",
       "      <td>-0.006868</td>\n",
       "      <td>0.0</td>\n",
       "      <td>0.0</td>\n",
       "      <td>0.0</td>\n",
       "      <td>0.0</td>\n",
       "      <td>0.0</td>\n",
       "      <td>-3.559258</td>\n",
       "    </tr>\n",
       "    <tr>\n",
       "      <th>2</th>\n",
       "      <td>0.0</td>\n",
       "      <td>0.0</td>\n",
       "      <td>0.0</td>\n",
       "      <td>0.0</td>\n",
       "      <td>0.0</td>\n",
       "      <td>0.0</td>\n",
       "      <td>0.033156</td>\n",
       "      <td>0.0</td>\n",
       "      <td>0.0</td>\n",
       "      <td>0.0</td>\n",
       "      <td>...</td>\n",
       "      <td>0.0</td>\n",
       "      <td>0.0</td>\n",
       "      <td>0.0</td>\n",
       "      <td>0.059260</td>\n",
       "      <td>0.0</td>\n",
       "      <td>0.0</td>\n",
       "      <td>0.0</td>\n",
       "      <td>0.0</td>\n",
       "      <td>0.0</td>\n",
       "      <td>-3.559258</td>\n",
       "    </tr>\n",
       "    <tr>\n",
       "      <th>3</th>\n",
       "      <td>0.0</td>\n",
       "      <td>0.0</td>\n",
       "      <td>0.0</td>\n",
       "      <td>0.0</td>\n",
       "      <td>0.0</td>\n",
       "      <td>0.0</td>\n",
       "      <td>0.217086</td>\n",
       "      <td>0.0</td>\n",
       "      <td>0.0</td>\n",
       "      <td>0.0</td>\n",
       "      <td>...</td>\n",
       "      <td>0.0</td>\n",
       "      <td>0.0</td>\n",
       "      <td>0.0</td>\n",
       "      <td>-0.007171</td>\n",
       "      <td>0.0</td>\n",
       "      <td>0.0</td>\n",
       "      <td>0.0</td>\n",
       "      <td>0.0</td>\n",
       "      <td>0.0</td>\n",
       "      <td>-3.559258</td>\n",
       "    </tr>\n",
       "    <tr>\n",
       "      <th>4</th>\n",
       "      <td>0.0</td>\n",
       "      <td>0.0</td>\n",
       "      <td>0.0</td>\n",
       "      <td>0.0</td>\n",
       "      <td>0.0</td>\n",
       "      <td>0.0</td>\n",
       "      <td>0.296462</td>\n",
       "      <td>0.0</td>\n",
       "      <td>0.0</td>\n",
       "      <td>0.0</td>\n",
       "      <td>...</td>\n",
       "      <td>0.0</td>\n",
       "      <td>0.0</td>\n",
       "      <td>0.0</td>\n",
       "      <td>0.010986</td>\n",
       "      <td>0.0</td>\n",
       "      <td>0.0</td>\n",
       "      <td>0.0</td>\n",
       "      <td>0.0</td>\n",
       "      <td>0.0</td>\n",
       "      <td>-3.559258</td>\n",
       "    </tr>\n",
       "    <tr>\n",
       "      <th>5</th>\n",
       "      <td>0.0</td>\n",
       "      <td>0.0</td>\n",
       "      <td>0.0</td>\n",
       "      <td>0.0</td>\n",
       "      <td>0.0</td>\n",
       "      <td>0.0</td>\n",
       "      <td>0.836876</td>\n",
       "      <td>0.0</td>\n",
       "      <td>0.0</td>\n",
       "      <td>0.0</td>\n",
       "      <td>...</td>\n",
       "      <td>0.0</td>\n",
       "      <td>0.0</td>\n",
       "      <td>0.0</td>\n",
       "      <td>0.011872</td>\n",
       "      <td>0.0</td>\n",
       "      <td>0.0</td>\n",
       "      <td>0.0</td>\n",
       "      <td>0.0</td>\n",
       "      <td>0.0</td>\n",
       "      <td>-3.559258</td>\n",
       "    </tr>\n",
       "  </tbody>\n",
       "</table>\n",
       "<p>6 rows × 145 columns</p>\n",
       "</div>"
      ],
      "text/plain": [
       "   contrib_C1.COVID-19  contrib_age.COVID-19  contrib_clinical_notes.COVID-19  \\\n",
       "0                  0.0                   0.0                              0.0   \n",
       "1                  0.0                   0.0                              0.0   \n",
       "2                  0.0                   0.0                              0.0   \n",
       "3                  0.0                   0.0                              0.0   \n",
       "4                  0.0                   0.0                              0.0   \n",
       "5                  0.0                   0.0                              0.0   \n",
       "\n",
       "   contrib_date.COVID-19  contrib_doi.COVID-19  contrib_extubated.COVID-19  \\\n",
       "0                    0.0                   0.0                         0.0   \n",
       "1                    0.0                   0.0                         0.0   \n",
       "2                    0.0                   0.0                         0.0   \n",
       "3                    0.0                   0.0                         0.0   \n",
       "4                    0.0                   0.0                         0.0   \n",
       "5                    0.0                   0.0                         0.0   \n",
       "\n",
       "   contrib_filename.COVID-19  contrib_folder.COVID-19  \\\n",
       "0                   0.197556                      0.0   \n",
       "1                   0.418486                      0.0   \n",
       "2                   0.033156                      0.0   \n",
       "3                   0.217086                      0.0   \n",
       "4                   0.296462                      0.0   \n",
       "5                   0.836876                      0.0   \n",
       "\n",
       "   contrib_in_icu.COVID-19  contrib_intubated.COVID-19  ...  \\\n",
       "0                      0.0                         0.0  ...   \n",
       "1                      0.0                         0.0  ...   \n",
       "2                      0.0                         0.0  ...   \n",
       "3                      0.0                         0.0  ...   \n",
       "4                      0.0                         0.0  ...   \n",
       "5                      0.0                         0.0  ...   \n",
       "\n",
       "   contrib_other_notes.Streptococcus  contrib_pO2_saturation.Streptococcus  \\\n",
       "0                                0.0                                   0.0   \n",
       "1                                0.0                                   0.0   \n",
       "2                                0.0                                   0.0   \n",
       "3                                0.0                                   0.0   \n",
       "4                                0.0                                   0.0   \n",
       "5                                0.0                                   0.0   \n",
       "\n",
       "   contrib_patientid.Streptococcus  contrib_sex.Streptococcus  \\\n",
       "0                              0.0                  -0.007171   \n",
       "1                              0.0                  -0.006868   \n",
       "2                              0.0                   0.059260   \n",
       "3                              0.0                  -0.007171   \n",
       "4                              0.0                   0.010986   \n",
       "5                              0.0                   0.011872   \n",
       "\n",
       "   contrib_survival.Streptococcus  contrib_temperature.Streptococcus  \\\n",
       "0                             0.0                                0.0   \n",
       "1                             0.0                                0.0   \n",
       "2                             0.0                                0.0   \n",
       "3                             0.0                                0.0   \n",
       "4                             0.0                                0.0   \n",
       "5                             0.0                                0.0   \n",
       "\n",
       "   contrib_url.Streptococcus  contrib_view.Streptococcus  \\\n",
       "0                        0.0                         0.0   \n",
       "1                        0.0                         0.0   \n",
       "2                        0.0                         0.0   \n",
       "3                        0.0                         0.0   \n",
       "4                        0.0                         0.0   \n",
       "5                        0.0                         0.0   \n",
       "\n",
       "   contrib_went_icu.Streptococcus  contrib_bias.Streptococcus  \n",
       "0                             0.0                   -3.559258  \n",
       "1                             0.0                   -3.559258  \n",
       "2                             0.0                   -3.559258  \n",
       "3                             0.0                   -3.559258  \n",
       "4                             0.0                   -3.559258  \n",
       "5                             0.0                   -3.559258  \n",
       "\n",
       "[6 rows x 145 columns]"
      ]
     },
     "execution_count": 25,
     "metadata": {},
     "output_type": "execute_result"
    }
   ],
   "source": [
    "# per-feature prediction contributions (Original)\n",
    "pred_contribs2 = scorer.score_batch(df, pred_contribs=True, pred_contribs_original=True, fast_approx=False, apply_data_recipes=False)\n",
    "pred_contribs2"
   ]
  },
  {
   "cell_type": "code",
   "execution_count": 26,
   "id": "narrow-belgium",
   "metadata": {},
   "outputs": [
    {
     "data": {
      "text/plain": [
       "['contrib_filename.COVID-19',\n",
       " 'contrib_filename.COVID-19, ARDS',\n",
       " 'contrib_filename.Pneumocystis',\n",
       " 'contrib_filename.SARS',\n",
       " 'contrib_filename.Streptococcus',\n",
       " 'contrib_sex.COVID-19',\n",
       " 'contrib_sex.COVID-19, ARDS',\n",
       " 'contrib_sex.Pneumocystis',\n",
       " 'contrib_sex.SARS',\n",
       " 'contrib_sex.Streptococcus',\n",
       " 'contrib_bias.COVID-19',\n",
       " 'contrib_bias.COVID-19, ARDS',\n",
       " 'contrib_bias.Pneumocystis',\n",
       " 'contrib_bias.SARS',\n",
       " 'contrib_bias.Streptococcus']"
      ]
     },
     "execution_count": 26,
     "metadata": {},
     "output_type": "execute_result"
    }
   ],
   "source": [
    "# filename,sex,biasのみ（これら以外の説明変数は利用していない）の変数名のList\n",
    "list_filename = [name for name in pred_contribs2.columns if 'filename' in name]\n",
    "list_sex = [name for name in pred_contribs2.columns if 'sex' in name]\n",
    "list_bias = [name for name in pred_contribs2.columns if 'bias' in name]\n",
    "[*list_filename, *list_sex, *list_bias]"
   ]
  },
  {
   "cell_type": "code",
   "execution_count": 27,
   "id": "excited-refrigerator",
   "metadata": {},
   "outputs": [
    {
     "data": {
      "text/html": [
       "<div>\n",
       "<style scoped>\n",
       "    .dataframe tbody tr th:only-of-type {\n",
       "        vertical-align: middle;\n",
       "    }\n",
       "\n",
       "    .dataframe tbody tr th {\n",
       "        vertical-align: top;\n",
       "    }\n",
       "\n",
       "    .dataframe thead th {\n",
       "        text-align: right;\n",
       "    }\n",
       "</style>\n",
       "<table border=\"1\" class=\"dataframe\">\n",
       "  <thead>\n",
       "    <tr style=\"text-align: right;\">\n",
       "      <th></th>\n",
       "      <th>contrib_filename.COVID-19</th>\n",
       "      <th>contrib_filename.COVID-19, ARDS</th>\n",
       "      <th>contrib_filename.Pneumocystis</th>\n",
       "      <th>contrib_filename.SARS</th>\n",
       "      <th>contrib_filename.Streptococcus</th>\n",
       "      <th>contrib_sex.COVID-19</th>\n",
       "      <th>contrib_sex.COVID-19, ARDS</th>\n",
       "      <th>contrib_sex.Pneumocystis</th>\n",
       "      <th>contrib_sex.SARS</th>\n",
       "      <th>contrib_sex.Streptococcus</th>\n",
       "      <th>contrib_bias.COVID-19</th>\n",
       "      <th>contrib_bias.COVID-19, ARDS</th>\n",
       "      <th>contrib_bias.Pneumocystis</th>\n",
       "      <th>contrib_bias.SARS</th>\n",
       "      <th>contrib_bias.Streptococcus</th>\n",
       "    </tr>\n",
       "  </thead>\n",
       "  <tbody>\n",
       "    <tr>\n",
       "      <th>0</th>\n",
       "      <td>0.197556</td>\n",
       "      <td>-0.338587</td>\n",
       "      <td>-0.175552</td>\n",
       "      <td>0.041889</td>\n",
       "      <td>-0.227330</td>\n",
       "      <td>0.014276</td>\n",
       "      <td>-0.000426</td>\n",
       "      <td>-0.018695</td>\n",
       "      <td>-0.054902</td>\n",
       "      <td>-0.007171</td>\n",
       "      <td>0.099987</td>\n",
       "      <td>-3.986229</td>\n",
       "      <td>-3.605284</td>\n",
       "      <td>-3.628779</td>\n",
       "      <td>-3.559258</td>\n",
       "    </tr>\n",
       "    <tr>\n",
       "      <th>1</th>\n",
       "      <td>0.418486</td>\n",
       "      <td>-0.225600</td>\n",
       "      <td>0.023640</td>\n",
       "      <td>0.461696</td>\n",
       "      <td>-0.383857</td>\n",
       "      <td>0.019504</td>\n",
       "      <td>-0.000288</td>\n",
       "      <td>-0.028712</td>\n",
       "      <td>-0.038697</td>\n",
       "      <td>-0.006868</td>\n",
       "      <td>0.099987</td>\n",
       "      <td>-3.986229</td>\n",
       "      <td>-3.605284</td>\n",
       "      <td>-3.628779</td>\n",
       "      <td>-3.559258</td>\n",
       "    </tr>\n",
       "    <tr>\n",
       "      <th>2</th>\n",
       "      <td>0.033156</td>\n",
       "      <td>-0.338653</td>\n",
       "      <td>-0.034752</td>\n",
       "      <td>-0.258288</td>\n",
       "      <td>0.432415</td>\n",
       "      <td>-0.069324</td>\n",
       "      <td>-0.000937</td>\n",
       "      <td>-0.040658</td>\n",
       "      <td>0.032034</td>\n",
       "      <td>0.059260</td>\n",
       "      <td>0.099987</td>\n",
       "      <td>-3.986229</td>\n",
       "      <td>-3.605284</td>\n",
       "      <td>-3.628779</td>\n",
       "      <td>-3.559258</td>\n",
       "    </tr>\n",
       "    <tr>\n",
       "      <th>3</th>\n",
       "      <td>0.217086</td>\n",
       "      <td>0.198063</td>\n",
       "      <td>0.092386</td>\n",
       "      <td>0.243315</td>\n",
       "      <td>-0.368051</td>\n",
       "      <td>0.022396</td>\n",
       "      <td>-0.000288</td>\n",
       "      <td>-0.027352</td>\n",
       "      <td>-0.032720</td>\n",
       "      <td>-0.007171</td>\n",
       "      <td>0.099987</td>\n",
       "      <td>-3.986229</td>\n",
       "      <td>-3.605284</td>\n",
       "      <td>-3.628779</td>\n",
       "      <td>-3.559258</td>\n",
       "    </tr>\n",
       "    <tr>\n",
       "      <th>4</th>\n",
       "      <td>0.296462</td>\n",
       "      <td>0.115912</td>\n",
       "      <td>-0.177705</td>\n",
       "      <td>-0.292702</td>\n",
       "      <td>0.246664</td>\n",
       "      <td>-0.095785</td>\n",
       "      <td>-0.000569</td>\n",
       "      <td>-0.015381</td>\n",
       "      <td>-0.008583</td>\n",
       "      <td>0.010986</td>\n",
       "      <td>0.099987</td>\n",
       "      <td>-3.986229</td>\n",
       "      <td>-3.605284</td>\n",
       "      <td>-3.628779</td>\n",
       "      <td>-3.559258</td>\n",
       "    </tr>\n",
       "    <tr>\n",
       "      <th>5</th>\n",
       "      <td>0.836876</td>\n",
       "      <td>-0.277275</td>\n",
       "      <td>-0.170289</td>\n",
       "      <td>-0.401643</td>\n",
       "      <td>-0.377917</td>\n",
       "      <td>-0.020333</td>\n",
       "      <td>-0.000288</td>\n",
       "      <td>-0.018695</td>\n",
       "      <td>-0.007260</td>\n",
       "      <td>0.011872</td>\n",
       "      <td>0.099987</td>\n",
       "      <td>-3.986229</td>\n",
       "      <td>-3.605284</td>\n",
       "      <td>-3.628779</td>\n",
       "      <td>-3.559258</td>\n",
       "    </tr>\n",
       "  </tbody>\n",
       "</table>\n",
       "</div>"
      ],
      "text/plain": [
       "   contrib_filename.COVID-19  contrib_filename.COVID-19, ARDS  \\\n",
       "0                   0.197556                        -0.338587   \n",
       "1                   0.418486                        -0.225600   \n",
       "2                   0.033156                        -0.338653   \n",
       "3                   0.217086                         0.198063   \n",
       "4                   0.296462                         0.115912   \n",
       "5                   0.836876                        -0.277275   \n",
       "\n",
       "   contrib_filename.Pneumocystis  contrib_filename.SARS  \\\n",
       "0                      -0.175552               0.041889   \n",
       "1                       0.023640               0.461696   \n",
       "2                      -0.034752              -0.258288   \n",
       "3                       0.092386               0.243315   \n",
       "4                      -0.177705              -0.292702   \n",
       "5                      -0.170289              -0.401643   \n",
       "\n",
       "   contrib_filename.Streptococcus  contrib_sex.COVID-19  \\\n",
       "0                       -0.227330              0.014276   \n",
       "1                       -0.383857              0.019504   \n",
       "2                        0.432415             -0.069324   \n",
       "3                       -0.368051              0.022396   \n",
       "4                        0.246664             -0.095785   \n",
       "5                       -0.377917             -0.020333   \n",
       "\n",
       "   contrib_sex.COVID-19, ARDS  contrib_sex.Pneumocystis  contrib_sex.SARS  \\\n",
       "0                   -0.000426                 -0.018695         -0.054902   \n",
       "1                   -0.000288                 -0.028712         -0.038697   \n",
       "2                   -0.000937                 -0.040658          0.032034   \n",
       "3                   -0.000288                 -0.027352         -0.032720   \n",
       "4                   -0.000569                 -0.015381         -0.008583   \n",
       "5                   -0.000288                 -0.018695         -0.007260   \n",
       "\n",
       "   contrib_sex.Streptococcus  contrib_bias.COVID-19  \\\n",
       "0                  -0.007171               0.099987   \n",
       "1                  -0.006868               0.099987   \n",
       "2                   0.059260               0.099987   \n",
       "3                  -0.007171               0.099987   \n",
       "4                   0.010986               0.099987   \n",
       "5                   0.011872               0.099987   \n",
       "\n",
       "   contrib_bias.COVID-19, ARDS  contrib_bias.Pneumocystis  contrib_bias.SARS  \\\n",
       "0                    -3.986229                  -3.605284          -3.628779   \n",
       "1                    -3.986229                  -3.605284          -3.628779   \n",
       "2                    -3.986229                  -3.605284          -3.628779   \n",
       "3                    -3.986229                  -3.605284          -3.628779   \n",
       "4                    -3.986229                  -3.605284          -3.628779   \n",
       "5                    -3.986229                  -3.605284          -3.628779   \n",
       "\n",
       "   contrib_bias.Streptococcus  \n",
       "0                   -3.559258  \n",
       "1                   -3.559258  \n",
       "2                   -3.559258  \n",
       "3                   -3.559258  \n",
       "4                   -3.559258  \n",
       "5                   -3.559258  "
      ]
     },
     "execution_count": 27,
     "metadata": {},
     "output_type": "execute_result"
    }
   ],
   "source": [
    "pred_contribs2[[*list_filename, *list_sex, *list_bias]]"
   ]
  },
  {
   "cell_type": "code",
   "execution_count": null,
   "id": "signed-blues",
   "metadata": {},
   "outputs": [],
   "source": []
  }
 ],
 "metadata": {
  "kernelspec": {
   "display_name": "Python 3",
   "language": "python",
   "name": "python3"
  },
  "language_info": {
   "codemirror_mode": {
    "name": "ipython",
    "version": 3
   },
   "file_extension": ".py",
   "mimetype": "text/x-python",
   "name": "python",
   "nbconvert_exporter": "python",
   "pygments_lexer": "ipython3",
   "version": "3.6.9"
  }
 },
 "nbformat": 4,
 "nbformat_minor": 5
}
