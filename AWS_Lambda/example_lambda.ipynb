{
 "cells": [
  {
   "cell_type": "markdown",
   "metadata": {},
   "source": [
    "### AWS Lambda Scoring Pipelineの実行\n",
    "クライアントからのWeb API（Amazon API GatewayをトリガーとしたAWS Lambda関数）への接続例"
   ]
  },
  {
   "cell_type": "markdown",
   "metadata": {},
   "source": [
    "---"
   ]
  },
  {
   "cell_type": "markdown",
   "metadata": {},
   "source": [
    "### コマンドラインでの実行"
   ]
  },
  {
   "cell_type": "markdown",
   "metadata": {},
   "source": [
    "実行パス上のsample_data.jsonをインプットとして、curlコマンドを実行  \n",
    "```bash\n",
    "curl \\\n",
    "        -X POST \\\n",
    "        -d @sample_data.json \\\n",
    "        -H \"x-api-key: X6PfIIotLH1i6yUUYmFiu3u0xB0DrJZL3Wx5YE3O\" \\\n",
    "        https://4x31rv2puk.execute-api.ap-northeast-1.amazonaws.com/test/score\n",
    "```\n",
    "> {  \n",
    ">  \"id\": \"0bdb6222-458f-11eb-91c1-0242ac110002\",  \n",
    ">  \"fields\": [\"y\"],  \n",
    ">  \"score\": [[\"2.5617633\"], [\"3.8429618\"], [\"2.5330038\"]]  \n",
    "> }"
   ]
  },
  {
   "cell_type": "markdown",
   "metadata": {},
   "source": [
    "インプットデータ例（sample_data.json）\n",
    "```json\n",
    "{\n",
    "   \"fields\": [\"x1\", \"x2\", \"x3\", \"x4\"],\n",
    "   \"rows\": [[\"2.60\",\"-3.21\",\"0.62\",\"1.36\"], [\"0\",\"10\",\"0.3\",\"1\"], [\"-1.11\",\"-1.11\",\"2.22\",\"2.22\"]]\n",
    "}\n",
    "```"
   ]
  },
  {
   "cell_type": "markdown",
   "metadata": {},
   "source": [
    "---"
   ]
  },
  {
   "cell_type": "markdown",
   "metadata": {},
   "source": [
    "### Python \"Requests\"での実行¶\n",
    "[Requests](https://requests-docs-ja.readthedocs.io/en/latest/)"
   ]
  },
  {
   "cell_type": "code",
   "execution_count": null,
   "metadata": {},
   "outputs": [],
   "source": []
  }
 ],
 "metadata": {
  "kernelspec": {
   "display_name": "Python 3",
   "language": "python",
   "name": "python3"
  },
  "language_info": {
   "codemirror_mode": {
    "name": "ipython",
    "version": 3
   },
   "file_extension": ".py",
   "mimetype": "text/x-python",
   "name": "python",
   "nbconvert_exporter": "python",
   "pygments_lexer": "ipython3",
   "version": "3.8.3"
  }
 },
 "nbformat": 4,
 "nbformat_minor": 4
}
